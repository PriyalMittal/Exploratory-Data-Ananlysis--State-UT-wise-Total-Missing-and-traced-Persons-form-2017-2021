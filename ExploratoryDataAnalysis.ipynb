{
  "nbformat": 4,
  "nbformat_minor": 0,
  "metadata": {
    "colab": {
      "provenance": []
    },
    "kernelspec": {
      "name": "ir",
      "display_name": "R"
    },
    "language_info": {
      "name": "R"
    }
  },
  "cells": [
    {
      "cell_type": "markdown",
      "source": [
        "# Maths Project"
      ],
      "metadata": {
        "id": "P8EHqBN9WhKe"
      }
    },
    {
      "cell_type": "code",
      "source": [
        "install.packages(\"dplyr\")\n",
        "install.packages(\"ggplot2\")\n",
        "install.packages(\"viridis\")"
      ],
      "metadata": {
        "id": "h46-3LYKpPoy"
      },
      "execution_count": null,
      "outputs": []
    },
    {
      "cell_type": "code",
      "source": [
        "library(dplyr)\n",
        "library(ggplot2)"
      ],
      "metadata": {
        "id": "TXpSFUqDpU-3"
      },
      "execution_count": null,
      "outputs": []
    },
    {
      "cell_type": "code",
      "source": [
        "install.packages(\"DataExplorer\")"
      ],
      "metadata": {
        "id": "RGmMOXv5YPtm"
      },
      "execution_count": null,
      "outputs": []
    },
    {
      "cell_type": "code",
      "source": [
        "install.packages(\"sf\")"
      ],
      "metadata": {
        "id": "d1SaAoowZL9X"
      },
      "execution_count": null,
      "outputs": []
    },
    {
      "cell_type": "code",
      "source": [
        "library(dplyr)\n",
        "library(ggplot2)\n",
        "library(viridis)"
      ],
      "metadata": {
        "id": "yvvd5s4sgJdp"
      },
      "execution_count": null,
      "outputs": []
    },
    {
      "cell_type": "code",
      "source": [
        "library(sf)"
      ],
      "metadata": {
        "id": "QZilqNrid3nC"
      },
      "execution_count": null,
      "outputs": []
    },
    {
      "cell_type": "code",
      "source": [
        "library(DataExplorer)"
      ],
      "metadata": {
        "id": "dm4MxAR0bYFa"
      },
      "execution_count": 9,
      "outputs": []
    },
    {
      "cell_type": "code",
      "source": [
        "system(\"apt-get -y update\")\n",
        "system(\"apt-get install -y libudunits2-dev libgdal-dev libgeos-dev libproj-dev\")\n",
        "install.packages(\"sf\")\n",
        "library(\"sf\")"
      ],
      "metadata": {
        "colab": {
          "base_uri": "https://localhost:8080/"
        },
        "id": "l4HsSiFzeOdO",
        "outputId": "713e4303-7bc1-46aa-c7ee-3de87e360a2f"
      },
      "execution_count": 10,
      "outputs": [
        {
          "output_type": "stream",
          "name": "stderr",
          "text": [
            "Installing package into ‘/usr/local/lib/R/site-library’\n",
            "(as ‘lib’ is unspecified)\n",
            "\n"
          ]
        }
      ]
    },
    {
      "cell_type": "markdown",
      "source": [
        "## Preprocessing Data"
      ],
      "metadata": {
        "id": "b1kletJ5goGr"
      }
    },
    {
      "cell_type": "code",
      "execution_count": 11,
      "metadata": {
        "id": "6VVpjge0Smxy"
      },
      "outputs": [],
      "source": [
        "df <- read.csv(\"Missing Cases Complied (2017-2021).csv\")"
      ]
    },
    {
      "cell_type": "code",
      "source": [
        "head(df)"
      ],
      "metadata": {
        "colab": {
          "base_uri": "https://localhost:8080/",
          "height": 341
        },
        "id": "YRvenzcZWIh3",
        "outputId": "9be6c39a-cddb-4e75-c767-47cc8b165793"
      },
      "execution_count": 12,
      "outputs": [
        {
          "output_type": "display_data",
          "data": {
            "text/html": [
              "<table class=\"dataframe\">\n",
              "<caption>A data.frame: 6 × 28</caption>\n",
              "<thead>\n",
              "\t<tr><th></th><th scope=col>S..No</th><th scope=col>Year</th><th scope=col>Category</th><th scope=col>State.UT</th><th scope=col>Unrecovered.Untraced.Persons.from.Previous.years...Male</th><th scope=col>Unrecovered.Untraced.Persons.from.Previous.years...Female</th><th scope=col>Unrecovered.Untraced.Persons.from.Previous.years...Trans</th><th scope=col>Unrecovered.Untraced.Persons.from.Previous.years...Total</th><th scope=col>Persons.Missing.this.year...Male</th><th scope=col>Persons.Missing.this.year...Female</th><th scope=col>⋯</th><th scope=col>Total.Recovered.Traced.this.year...Trans</th><th scope=col>Total.Recovered.Traced.this.year...Total</th><th scope=col>Percentage.Recovery..Total.Recovered.or.Traced..Total.Missing....100...Male</th><th scope=col>Percentage.Recovery..Total.Recovered.or.Traced..Total.Missing....100...Female</th><th scope=col>Percentage.Recovery..Total.Recovered.or.Traced..Total.Missing....100...Trans</th><th scope=col>Percentage.Recovery..Total.Recovered.or.Traced..Total.Missing....100...Total</th><th scope=col>Un.Recovered.Untraced.Persons..including.previous.years.Untraced.Missing.Persons....Male</th><th scope=col>Un.Recovered.Untraced.Persons..including.previous.years.Untraced.Missing.Persons....Female</th><th scope=col>Un.Recovered.Untraced.Persons..including.previous.years.Untraced.Missing.Persons....Trans</th><th scope=col>Un.Recovered.Untraced.Persons..including.previous.years.Untraced.Missing.Persons....Total</th></tr>\n",
              "\t<tr><th></th><th scope=col>&lt;int&gt;</th><th scope=col>&lt;int&gt;</th><th scope=col>&lt;chr&gt;</th><th scope=col>&lt;chr&gt;</th><th scope=col>&lt;int&gt;</th><th scope=col>&lt;int&gt;</th><th scope=col>&lt;int&gt;</th><th scope=col>&lt;int&gt;</th><th scope=col>&lt;int&gt;</th><th scope=col>&lt;int&gt;</th><th scope=col>⋯</th><th scope=col>&lt;int&gt;</th><th scope=col>&lt;int&gt;</th><th scope=col>&lt;dbl&gt;</th><th scope=col>&lt;dbl&gt;</th><th scope=col>&lt;dbl&gt;</th><th scope=col>&lt;dbl&gt;</th><th scope=col>&lt;int&gt;</th><th scope=col>&lt;int&gt;</th><th scope=col>&lt;int&gt;</th><th scope=col>&lt;int&gt;</th></tr>\n",
              "</thead>\n",
              "<tbody>\n",
              "\t<tr><th scope=row>1</th><td>1</td><td>2017</td><td>State</td><td>Andhra Pradesh   </td><td>4173</td><td>2990</td><td> 5</td><td> 7168</td><td>3114</td><td>5225</td><td>⋯</td><td>  7</td><td>10177</td><td>51.4</td><td>78.2</td><td>58.3</td><td>65.6</td><td>3540</td><td>1792</td><td>  5</td><td> 5337</td></tr>\n",
              "\t<tr><th scope=row>2</th><td>2</td><td>2017</td><td>State</td><td>Arunachal Pradesh</td><td>   2</td><td>  93</td><td> 0</td><td>   95</td><td>   9</td><td>  90</td><td>⋯</td><td>  0</td><td>  103</td><td>63.6</td><td>52.5</td><td>  NA</td><td>53.1</td><td>   4</td><td>  87</td><td>  0</td><td>   91</td></tr>\n",
              "\t<tr><th scope=row>3</th><td>3</td><td>2017</td><td>State</td><td>Assam            </td><td> 530</td><td>1223</td><td> 0</td><td> 1753</td><td> 997</td><td>2302</td><td>⋯</td><td>  0</td><td> 3329</td><td>66.5</td><td>65.6</td><td>  NA</td><td>65.9</td><td> 512</td><td>1211</td><td>  0</td><td> 1723</td></tr>\n",
              "\t<tr><th scope=row>4</th><td>4</td><td>2017</td><td>State</td><td>Bihar            </td><td>1523</td><td>2935</td><td>86</td><td> 4544</td><td>1932</td><td>6020</td><td>⋯</td><td>104</td><td> 4710</td><td>30.2</td><td>39.8</td><td>44.8</td><td>37.3</td><td>2410</td><td>5394</td><td>128</td><td> 7932</td></tr>\n",
              "\t<tr><th scope=row>5</th><td>5</td><td>2017</td><td>State</td><td>Chhattisgarh     </td><td>4366</td><td>5836</td><td> 0</td><td>10202</td><td>3449</td><td>7383</td><td>⋯</td><td>  0</td><td> 9446</td><td>37.7</td><td>49.2</td><td>  NA</td><td>44.9</td><td>4870</td><td>6718</td><td>  0</td><td>11588</td></tr>\n",
              "\t<tr><th scope=row>6</th><td>6</td><td>2017</td><td>State</td><td>Goa              </td><td> 475</td><td> 230</td><td> 0</td><td>  705</td><td> 304</td><td> 274</td><td>⋯</td><td>  0</td><td>  515</td><td>33.5</td><td>50.4</td><td>  NA</td><td>40.1</td><td> 518</td><td> 250</td><td>  0</td><td>  768</td></tr>\n",
              "</tbody>\n",
              "</table>\n"
            ],
            "text/markdown": "\nA data.frame: 6 × 28\n\n| <!--/--> | S..No &lt;int&gt; | Year &lt;int&gt; | Category &lt;chr&gt; | State.UT &lt;chr&gt; | Unrecovered.Untraced.Persons.from.Previous.years...Male &lt;int&gt; | Unrecovered.Untraced.Persons.from.Previous.years...Female &lt;int&gt; | Unrecovered.Untraced.Persons.from.Previous.years...Trans &lt;int&gt; | Unrecovered.Untraced.Persons.from.Previous.years...Total &lt;int&gt; | Persons.Missing.this.year...Male &lt;int&gt; | Persons.Missing.this.year...Female &lt;int&gt; | ⋯ ⋯ | Total.Recovered.Traced.this.year...Trans &lt;int&gt; | Total.Recovered.Traced.this.year...Total &lt;int&gt; | Percentage.Recovery..Total.Recovered.or.Traced..Total.Missing....100...Male &lt;dbl&gt; | Percentage.Recovery..Total.Recovered.or.Traced..Total.Missing....100...Female &lt;dbl&gt; | Percentage.Recovery..Total.Recovered.or.Traced..Total.Missing....100...Trans &lt;dbl&gt; | Percentage.Recovery..Total.Recovered.or.Traced..Total.Missing....100...Total &lt;dbl&gt; | Un.Recovered.Untraced.Persons..including.previous.years.Untraced.Missing.Persons....Male &lt;int&gt; | Un.Recovered.Untraced.Persons..including.previous.years.Untraced.Missing.Persons....Female &lt;int&gt; | Un.Recovered.Untraced.Persons..including.previous.years.Untraced.Missing.Persons....Trans &lt;int&gt; | Un.Recovered.Untraced.Persons..including.previous.years.Untraced.Missing.Persons....Total &lt;int&gt; |\n|---|---|---|---|---|---|---|---|---|---|---|---|---|---|---|---|---|---|---|---|---|---|\n| 1 | 1 | 2017 | State | Andhra Pradesh    | 4173 | 2990 |  5 |  7168 | 3114 | 5225 | ⋯ |   7 | 10177 | 51.4 | 78.2 | 58.3 | 65.6 | 3540 | 1792 |   5 |  5337 |\n| 2 | 2 | 2017 | State | Arunachal Pradesh |    2 |   93 |  0 |    95 |    9 |   90 | ⋯ |   0 |   103 | 63.6 | 52.5 |   NA | 53.1 |    4 |   87 |   0 |    91 |\n| 3 | 3 | 2017 | State | Assam             |  530 | 1223 |  0 |  1753 |  997 | 2302 | ⋯ |   0 |  3329 | 66.5 | 65.6 |   NA | 65.9 |  512 | 1211 |   0 |  1723 |\n| 4 | 4 | 2017 | State | Bihar             | 1523 | 2935 | 86 |  4544 | 1932 | 6020 | ⋯ | 104 |  4710 | 30.2 | 39.8 | 44.8 | 37.3 | 2410 | 5394 | 128 |  7932 |\n| 5 | 5 | 2017 | State | Chhattisgarh      | 4366 | 5836 |  0 | 10202 | 3449 | 7383 | ⋯ |   0 |  9446 | 37.7 | 49.2 |   NA | 44.9 | 4870 | 6718 |   0 | 11588 |\n| 6 | 6 | 2017 | State | Goa               |  475 |  230 |  0 |   705 |  304 |  274 | ⋯ |   0 |   515 | 33.5 | 50.4 |   NA | 40.1 |  518 |  250 |   0 |   768 |\n\n",
            "text/latex": "A data.frame: 6 × 28\n\\begin{tabular}{r|lllllllllllllllllllll}\n  & S..No & Year & Category & State.UT & Unrecovered.Untraced.Persons.from.Previous.years...Male & Unrecovered.Untraced.Persons.from.Previous.years...Female & Unrecovered.Untraced.Persons.from.Previous.years...Trans & Unrecovered.Untraced.Persons.from.Previous.years...Total & Persons.Missing.this.year...Male & Persons.Missing.this.year...Female & ⋯ & Total.Recovered.Traced.this.year...Trans & Total.Recovered.Traced.this.year...Total & Percentage.Recovery..Total.Recovered.or.Traced..Total.Missing....100...Male & Percentage.Recovery..Total.Recovered.or.Traced..Total.Missing....100...Female & Percentage.Recovery..Total.Recovered.or.Traced..Total.Missing....100...Trans & Percentage.Recovery..Total.Recovered.or.Traced..Total.Missing....100...Total & Un.Recovered.Untraced.Persons..including.previous.years.Untraced.Missing.Persons....Male & Un.Recovered.Untraced.Persons..including.previous.years.Untraced.Missing.Persons....Female & Un.Recovered.Untraced.Persons..including.previous.years.Untraced.Missing.Persons....Trans & Un.Recovered.Untraced.Persons..including.previous.years.Untraced.Missing.Persons....Total\\\\\n  & <int> & <int> & <chr> & <chr> & <int> & <int> & <int> & <int> & <int> & <int> & ⋯ & <int> & <int> & <dbl> & <dbl> & <dbl> & <dbl> & <int> & <int> & <int> & <int>\\\\\n\\hline\n\t1 & 1 & 2017 & State & Andhra Pradesh    & 4173 & 2990 &  5 &  7168 & 3114 & 5225 & ⋯ &   7 & 10177 & 51.4 & 78.2 & 58.3 & 65.6 & 3540 & 1792 &   5 &  5337\\\\\n\t2 & 2 & 2017 & State & Arunachal Pradesh &    2 &   93 &  0 &    95 &    9 &   90 & ⋯ &   0 &   103 & 63.6 & 52.5 &   NA & 53.1 &    4 &   87 &   0 &    91\\\\\n\t3 & 3 & 2017 & State & Assam             &  530 & 1223 &  0 &  1753 &  997 & 2302 & ⋯ &   0 &  3329 & 66.5 & 65.6 &   NA & 65.9 &  512 & 1211 &   0 &  1723\\\\\n\t4 & 4 & 2017 & State & Bihar             & 1523 & 2935 & 86 &  4544 & 1932 & 6020 & ⋯ & 104 &  4710 & 30.2 & 39.8 & 44.8 & 37.3 & 2410 & 5394 & 128 &  7932\\\\\n\t5 & 5 & 2017 & State & Chhattisgarh      & 4366 & 5836 &  0 & 10202 & 3449 & 7383 & ⋯ &   0 &  9446 & 37.7 & 49.2 &   NA & 44.9 & 4870 & 6718 &   0 & 11588\\\\\n\t6 & 6 & 2017 & State & Goa               &  475 &  230 &  0 &   705 &  304 &  274 & ⋯ &   0 &   515 & 33.5 & 50.4 &   NA & 40.1 &  518 &  250 &   0 &   768\\\\\n\\end{tabular}\n",
            "text/plain": [
              "  S..No Year Category State.UT         \n",
              "1 1     2017 State    Andhra Pradesh   \n",
              "2 2     2017 State    Arunachal Pradesh\n",
              "3 3     2017 State    Assam            \n",
              "4 4     2017 State    Bihar            \n",
              "5 5     2017 State    Chhattisgarh     \n",
              "6 6     2017 State    Goa              \n",
              "  Unrecovered.Untraced.Persons.from.Previous.years...Male\n",
              "1 4173                                                   \n",
              "2    2                                                   \n",
              "3  530                                                   \n",
              "4 1523                                                   \n",
              "5 4366                                                   \n",
              "6  475                                                   \n",
              "  Unrecovered.Untraced.Persons.from.Previous.years...Female\n",
              "1 2990                                                     \n",
              "2   93                                                     \n",
              "3 1223                                                     \n",
              "4 2935                                                     \n",
              "5 5836                                                     \n",
              "6  230                                                     \n",
              "  Unrecovered.Untraced.Persons.from.Previous.years...Trans\n",
              "1  5                                                      \n",
              "2  0                                                      \n",
              "3  0                                                      \n",
              "4 86                                                      \n",
              "5  0                                                      \n",
              "6  0                                                      \n",
              "  Unrecovered.Untraced.Persons.from.Previous.years...Total\n",
              "1  7168                                                   \n",
              "2    95                                                   \n",
              "3  1753                                                   \n",
              "4  4544                                                   \n",
              "5 10202                                                   \n",
              "6   705                                                   \n",
              "  Persons.Missing.this.year...Male Persons.Missing.this.year...Female ⋯\n",
              "1 3114                             5225                               ⋯\n",
              "2    9                               90                               ⋯\n",
              "3  997                             2302                               ⋯\n",
              "4 1932                             6020                               ⋯\n",
              "5 3449                             7383                               ⋯\n",
              "6  304                              274                               ⋯\n",
              "  Total.Recovered.Traced.this.year...Trans\n",
              "1   7                                     \n",
              "2   0                                     \n",
              "3   0                                     \n",
              "4 104                                     \n",
              "5   0                                     \n",
              "6   0                                     \n",
              "  Total.Recovered.Traced.this.year...Total\n",
              "1 10177                                   \n",
              "2   103                                   \n",
              "3  3329                                   \n",
              "4  4710                                   \n",
              "5  9446                                   \n",
              "6   515                                   \n",
              "  Percentage.Recovery..Total.Recovered.or.Traced..Total.Missing....100...Male\n",
              "1 51.4                                                                       \n",
              "2 63.6                                                                       \n",
              "3 66.5                                                                       \n",
              "4 30.2                                                                       \n",
              "5 37.7                                                                       \n",
              "6 33.5                                                                       \n",
              "  Percentage.Recovery..Total.Recovered.or.Traced..Total.Missing....100...Female\n",
              "1 78.2                                                                         \n",
              "2 52.5                                                                         \n",
              "3 65.6                                                                         \n",
              "4 39.8                                                                         \n",
              "5 49.2                                                                         \n",
              "6 50.4                                                                         \n",
              "  Percentage.Recovery..Total.Recovered.or.Traced..Total.Missing....100...Trans\n",
              "1 58.3                                                                        \n",
              "2   NA                                                                        \n",
              "3   NA                                                                        \n",
              "4 44.8                                                                        \n",
              "5   NA                                                                        \n",
              "6   NA                                                                        \n",
              "  Percentage.Recovery..Total.Recovered.or.Traced..Total.Missing....100...Total\n",
              "1 65.6                                                                        \n",
              "2 53.1                                                                        \n",
              "3 65.9                                                                        \n",
              "4 37.3                                                                        \n",
              "5 44.9                                                                        \n",
              "6 40.1                                                                        \n",
              "  Un.Recovered.Untraced.Persons..including.previous.years.Untraced.Missing.Persons....Male\n",
              "1 3540                                                                                    \n",
              "2    4                                                                                    \n",
              "3  512                                                                                    \n",
              "4 2410                                                                                    \n",
              "5 4870                                                                                    \n",
              "6  518                                                                                    \n",
              "  Un.Recovered.Untraced.Persons..including.previous.years.Untraced.Missing.Persons....Female\n",
              "1 1792                                                                                      \n",
              "2   87                                                                                      \n",
              "3 1211                                                                                      \n",
              "4 5394                                                                                      \n",
              "5 6718                                                                                      \n",
              "6  250                                                                                      \n",
              "  Un.Recovered.Untraced.Persons..including.previous.years.Untraced.Missing.Persons....Trans\n",
              "1   5                                                                                      \n",
              "2   0                                                                                      \n",
              "3   0                                                                                      \n",
              "4 128                                                                                      \n",
              "5   0                                                                                      \n",
              "6   0                                                                                      \n",
              "  Un.Recovered.Untraced.Persons..including.previous.years.Untraced.Missing.Persons....Total\n",
              "1  5337                                                                                    \n",
              "2    91                                                                                    \n",
              "3  1723                                                                                    \n",
              "4  7932                                                                                    \n",
              "5 11588                                                                                    \n",
              "6   768                                                                                    "
            ]
          },
          "metadata": {}
        }
      ]
    },
    {
      "cell_type": "code",
      "source": [
        "dim(df)  #Dimensions of Dataset"
      ],
      "metadata": {
        "id": "wNnW9qlXXQy4",
        "colab": {
          "base_uri": "https://localhost:8080/",
          "height": 34
        },
        "outputId": "75d08fd0-e8d4-4f47-9b06-723bfc62bdb5"
      },
      "execution_count": 13,
      "outputs": [
        {
          "output_type": "display_data",
          "data": {
            "text/html": [
              "<style>\n",
              ".list-inline {list-style: none; margin:0; padding: 0}\n",
              ".list-inline>li {display: inline-block}\n",
              ".list-inline>li:not(:last-child)::after {content: \"\\00b7\"; padding: 0 .5ex}\n",
              "</style>\n",
              "<ol class=list-inline><li>180</li><li>28</li></ol>\n"
            ],
            "text/markdown": "1. 180\n2. 28\n\n\n",
            "text/latex": "\\begin{enumerate*}\n\\item 180\n\\item 28\n\\end{enumerate*}\n",
            "text/plain": [
              "[1] 180  28"
            ]
          },
          "metadata": {}
        }
      ]
    },
    {
      "cell_type": "code",
      "source": [
        "df[is.na(df)]=0  # Assigning missing values 0 value"
      ],
      "metadata": {
        "id": "TZKk4YnQZMAn"
      },
      "execution_count": 14,
      "outputs": []
    },
    {
      "cell_type": "code",
      "source": [
        "View(summary(df))"
      ],
      "metadata": {
        "colab": {
          "base_uri": "https://localhost:8080/",
          "height": 1000
        },
        "id": "VohWSiBEXs21",
        "outputId": "450655df-162e-436c-b740-42419756e0c1"
      },
      "execution_count": 15,
      "outputs": [
        {
          "output_type": "display_data",
          "data": {
            "text/plain": [
              "     S..No             Year        Category           State.UT        \n",
              " Min.   :  1.00   Min.   :2017   Length:180         Length:180        \n",
              " 1st Qu.: 45.75   1st Qu.:2018   Class :character   Class :character  \n",
              " Median : 90.50   Median :2019   Mode  :character   Mode  :character  \n",
              " Mean   : 90.50   Mean   :2019                                        \n",
              " 3rd Qu.:135.25   3rd Qu.:2020                                        \n",
              " Max.   :180.00   Max.   :2021                                        \n",
              " Unrecovered.Untraced.Persons.from.Previous.years...Male\n",
              " Min.   :    0                                          \n",
              " 1st Qu.:   56                                          \n",
              " Median : 1258                                          \n",
              " Mean   : 3893                                          \n",
              " 3rd Qu.: 5185                                          \n",
              " Max.   :28778                                          \n",
              " Unrecovered.Untraced.Persons.from.Previous.years...Female\n",
              " Min.   :    0.00                                         \n",
              " 1st Qu.:   66.25                                         \n",
              " Median : 1217.00                                         \n",
              " Mean   : 5047.92                                         \n",
              " 3rd Qu.: 4889.25                                         \n",
              " Max.   :39124.00                                         \n",
              " Unrecovered.Untraced.Persons.from.Previous.years...Trans\n",
              " Min.   :  0.000                                         \n",
              " 1st Qu.:  0.000                                         \n",
              " Median :  0.000                                         \n",
              " Mean   :  1.839                                         \n",
              " 3rd Qu.:  0.000                                         \n",
              " Max.   :100.000                                         \n",
              " Unrecovered.Untraced.Persons.from.Previous.years...Total\n",
              " Min.   :    0.0                                         \n",
              " 1st Qu.:  127.5                                         \n",
              " Median : 2779.5                                         \n",
              " Mean   : 8942.5                                         \n",
              " 3rd Qu.:10094.8                                         \n",
              " Max.   :62231.0                                         \n",
              " Persons.Missing.this.year...Male Persons.Missing.this.year...Female\n",
              " Min.   :    0.00                 Min.   :    0.0                   \n",
              " 1st Qu.:   91.25                 1st Qu.:  138.8                   \n",
              " Median : 1191.50                 Median : 1727.0                   \n",
              " Mean   : 3315.67                 Mean   : 6379.3                   \n",
              " 3rd Qu.: 4560.75                 3rd Qu.: 9444.5                   \n",
              " Max.   :27972.00                 Max.   :38506.0                   \n",
              " Persons.Missing.this.year...Trans Persons.Missing.this.year...Total\n",
              " Min.   :  0.000                   Min.   :    0.0                  \n",
              " 1st Qu.:  0.000                   1st Qu.:  215.8                  \n",
              " Median :  0.000                   Median : 2854.0                  \n",
              " Mean   :  6.861                   Mean   : 9701.8                  \n",
              " 3rd Qu.:  0.000                   3rd Qu.:14193.0                  \n",
              " Max.   :488.000                   Max.   :66478.0                  \n",
              " Total.Persons.Missing...Male Total.Persons.Missing...Female\n",
              " Min.   :    0                Min.   :    0.0               \n",
              " 1st Qu.:  170                1st Qu.:  180.5               \n",
              " Median : 2930                Median : 3573.0               \n",
              " Mean   : 7208                Mean   :11427.2               \n",
              " 3rd Qu.: 9064                3rd Qu.:13638.5               \n",
              " Max.   :56750                Max.   :68738.0               \n",
              " Total.Persons.Missing...Trans Total.Persons.Missing...Total\n",
              " Min.   :  0.0                 Min.   :     0.0             \n",
              " 1st Qu.:  0.0                 1st Qu.:   342.5             \n",
              " Median :  0.0                 Median :  6543.5             \n",
              " Mean   :  8.7                 Mean   : 18644.3             \n",
              " 3rd Qu.:  0.0                 3rd Qu.: 23330.5             \n",
              " Max.   :493.0                 Max.   :124515.0             \n",
              " Total.Recovered.Traced.this.year...Male\n",
              " Min.   :    0.00                       \n",
              " 1st Qu.:   91.75                       \n",
              " Median : 1012.50                       \n",
              " Mean   : 3335.51                       \n",
              " 3rd Qu.: 4335.75                       \n",
              " Max.   :30235.00                       \n",
              " Total.Recovered.Traced.this.year...Female\n",
              " Min.   :    0                            \n",
              " 1st Qu.:  134                            \n",
              " Median : 1464                            \n",
              " Mean   : 6214                            \n",
              " 3rd Qu.: 8773                            \n",
              " Max.   :40095                            \n",
              " Total.Recovered.Traced.this.year...Trans\n",
              " Min.   :  0.000                         \n",
              " 1st Qu.:  0.000                         \n",
              " Median :  0.000                         \n",
              " Mean   :  6.872                         \n",
              " 3rd Qu.:  0.000                         \n",
              " Max.   :434.000                         \n",
              " Total.Recovered.Traced.this.year...Total\n",
              " Min.   :    0.0                         \n",
              " 1st Qu.:  223.5                         \n",
              " Median : 2417.0                         \n",
              " Mean   : 9556.1                         \n",
              " 3rd Qu.:13195.0                         \n",
              " Max.   :67018.0                         \n",
              " Percentage.Recovery..Total.Recovered.or.Traced..Total.Missing....100...Male\n",
              " Min.   :  0.00                                                             \n",
              " 1st Qu.: 33.05                                                             \n",
              " Median : 46.35                                                             \n",
              " Mean   : 46.78                                                             \n",
              " 3rd Qu.: 62.62                                                             \n",
              " Max.   :100.00                                                             \n",
              " Percentage.Recovery..Total.Recovered.or.Traced..Total.Missing....100...Female\n",
              " Min.   :  0.00                                                               \n",
              " 1st Qu.: 43.90                                                               \n",
              " Median : 59.80                                                               \n",
              " Mean   : 56.83                                                               \n",
              " 3rd Qu.: 75.03                                                               \n",
              " Max.   :100.00                                                               \n",
              " Percentage.Recovery..Total.Recovered.or.Traced..Total.Missing....100...Trans\n",
              " Min.   :  0.00                                                              \n",
              " 1st Qu.:  0.00                                                              \n",
              " Median :  0.00                                                              \n",
              " Mean   : 19.64                                                              \n",
              " 3rd Qu.:  0.00                                                              \n",
              " Max.   :100.00                                                              \n",
              " Percentage.Recovery..Total.Recovered.or.Traced..Total.Missing....100...Total\n",
              " Min.   :  0.00                                                              \n",
              " 1st Qu.: 39.05                                                              \n",
              " Median : 53.15                                                              \n",
              " Mean   : 53.15                                                              \n",
              " 3rd Qu.: 68.00                                                              \n",
              " Max.   :100.00                                                              \n",
              " Un.Recovered.Untraced.Persons..including.previous.years.Untraced.Missing.Persons....Male\n",
              " Min.   :    0.00                                                                        \n",
              " 1st Qu.:   52.75                                                                        \n",
              " Median : 1331.00                                                                        \n",
              " Mean   : 3872.92                                                                        \n",
              " 3rd Qu.: 5185.00                                                                        \n",
              " Max.   :28778.00                                                                        \n",
              " Un.Recovered.Untraced.Persons..including.previous.years.Untraced.Missing.Persons....Female\n",
              " Min.   :    0                                                                             \n",
              " 1st Qu.:   59                                                                             \n",
              " Median : 1185                                                                             \n",
              " Mean   : 5213                                                                             \n",
              " 3rd Qu.: 5452                                                                             \n",
              " Max.   :35110                                                                             \n",
              " Un.Recovered.Untraced.Persons..including.previous.years.Untraced.Missing.Persons....Trans\n",
              " Min.   :  0.000                                                                          \n",
              " 1st Qu.:  0.000                                                                          \n",
              " Median :  0.000                                                                          \n",
              " Mean   :  1.828                                                                          \n",
              " 3rd Qu.:  0.000                                                                          \n",
              " Max.   :128.000                                                                          \n",
              " Un.Recovered.Untraced.Persons..including.previous.years.Untraced.Missing.Persons....Total\n",
              " Min.   :    0.0                                                                          \n",
              " 1st Qu.:  109.5                                                                          \n",
              " Median : 3071.0                                                                          \n",
              " Mean   : 9088.2                                                                          \n",
              " 3rd Qu.:11105.2                                                                          \n",
              " Max.   :58037.0                                                                          "
            ]
          },
          "metadata": {}
        }
      ]
    },
    {
      "cell_type": "code",
      "source": [
        "str(df)"
      ],
      "metadata": {
        "colab": {
          "base_uri": "https://localhost:8080/"
        },
        "id": "ilKRW1EuY6mc",
        "outputId": "c0eb7125-deaa-4c8f-e70b-e91cca7484a5"
      },
      "execution_count": 16,
      "outputs": [
        {
          "output_type": "stream",
          "name": "stdout",
          "text": [
            "'data.frame':\t180 obs. of  28 variables:\n",
            " $ S..No                                                                                     : int  1 2 3 4 5 6 7 8 9 10 ...\n",
            " $ Year                                                                                      : int  2017 2017 2017 2017 2017 2017 2017 2017 2017 2017 ...\n",
            " $ Category                                                                                  : chr  \"State\" \"State\" \"State\" \"State\" ...\n",
            " $ State.UT                                                                                  : chr  \"Andhra Pradesh\" \"Arunachal Pradesh\" \"Assam\" \"Bihar\" ...\n",
            " $ Unrecovered.Untraced.Persons.from.Previous.years...Male                                   : int  4173 2 530 1523 4366 475 4174 4229 785 1935 ...\n",
            " $ Unrecovered.Untraced.Persons.from.Previous.years...Female                                 : int  2990 93 1223 2935 5836 230 4240 3641 506 1360 ...\n",
            " $ Unrecovered.Untraced.Persons.from.Previous.years...Trans                                  : int  5 0 0 86 0 0 0 0 0 0 ...\n",
            " $ Unrecovered.Untraced.Persons.from.Previous.years...Total                                  : int  7168 95 1753 4544 10202 705 8414 7870 1291 3295 ...\n",
            " $ Persons.Missing.this.year...Male                                                          : int  3114 9 997 1932 3449 304 4509 3334 512 849 ...\n",
            " $ Persons.Missing.this.year...Female                                                        : int  5225 90 2302 6020 7383 274 7712 4780 852 1044 ...\n",
            " $ Persons.Missing.this.year...Trans                                                         : int  7 0 0 146 0 0 1 0 0 0 ...\n",
            " $ Persons.Missing.this.year...Total                                                         : int  8346 99 3299 8098 10832 578 12222 8114 1364 1893 ...\n",
            " $ Total.Persons.Missing...Male                                                              : int  7287 11 1527 3455 7815 779 8683 7563 1297 2784 ...\n",
            " $ Total.Persons.Missing...Female                                                            : int  8215 183 3525 8955 13219 504 11952 8421 1358 2404 ...\n",
            " $ Total.Persons.Missing...Trans                                                             : int  12 0 0 232 0 0 1 0 0 0 ...\n",
            " $ Total.Persons.Missing...Total                                                             : int  15514 194 5052 12642 21034 1283 20636 15984 2655 5188 ...\n",
            " $ Total.Recovered.Traced.this.year...Male                                                   : int  3747 7 1015 1045 2945 261 5291 3555 648 904 ...\n",
            " $ Total.Recovered.Traced.this.year...Female                                                 : int  6423 96 2314 3561 6501 254 8481 5003 881 942 ...\n",
            " $ Total.Recovered.Traced.this.year...Trans                                                  : int  7 0 0 104 0 0 1 0 0 0 ...\n",
            " $ Total.Recovered.Traced.this.year...Total                                                  : int  10177 103 3329 4710 9446 515 13773 8558 1529 1846 ...\n",
            " $ Percentage.Recovery..Total.Recovered.or.Traced..Total.Missing....100...Male               : num  51.4 63.6 66.5 30.2 37.7 33.5 60.9 47 50 32.5 ...\n",
            " $ Percentage.Recovery..Total.Recovered.or.Traced..Total.Missing....100...Female             : num  78.2 52.5 65.6 39.8 49.2 50.4 71 59.4 64.9 39.2 ...\n",
            " $ Percentage.Recovery..Total.Recovered.or.Traced..Total.Missing....100...Trans              : num  58.3 0 0 44.8 0 0 100 0 0 0 ...\n",
            " $ Percentage.Recovery..Total.Recovered.or.Traced..Total.Missing....100...Total              : num  65.6 53.1 65.9 37.3 44.9 40.1 66.7 53.5 57.6 35.6 ...\n",
            " $ Un.Recovered.Untraced.Persons..including.previous.years.Untraced.Missing.Persons....Male  : int  3540 4 512 2410 4870 518 3392 4008 649 1880 ...\n",
            " $ Un.Recovered.Untraced.Persons..including.previous.years.Untraced.Missing.Persons....Female: int  1792 87 1211 5394 6718 250 3471 3418 477 1462 ...\n",
            " $ Un.Recovered.Untraced.Persons..including.previous.years.Untraced.Missing.Persons....Trans : int  5 0 0 128 0 0 0 0 0 0 ...\n",
            " $ Un.Recovered.Untraced.Persons..including.previous.years.Untraced.Missing.Persons....Total : int  5337 91 1723 7932 11588 768 6863 7426 1126 3342 ...\n"
          ]
        }
      ]
    },
    {
      "cell_type": "code",
      "source": [
        "head(df)"
      ],
      "metadata": {
        "colab": {
          "base_uri": "https://localhost:8080/",
          "height": 341
        },
        "id": "zil72-aKY6vI",
        "outputId": "358f0792-5f9e-48a6-e113-b46ea048315a"
      },
      "execution_count": 17,
      "outputs": [
        {
          "output_type": "display_data",
          "data": {
            "text/html": [
              "<table class=\"dataframe\">\n",
              "<caption>A data.frame: 6 × 28</caption>\n",
              "<thead>\n",
              "\t<tr><th></th><th scope=col>S..No</th><th scope=col>Year</th><th scope=col>Category</th><th scope=col>State.UT</th><th scope=col>Unrecovered.Untraced.Persons.from.Previous.years...Male</th><th scope=col>Unrecovered.Untraced.Persons.from.Previous.years...Female</th><th scope=col>Unrecovered.Untraced.Persons.from.Previous.years...Trans</th><th scope=col>Unrecovered.Untraced.Persons.from.Previous.years...Total</th><th scope=col>Persons.Missing.this.year...Male</th><th scope=col>Persons.Missing.this.year...Female</th><th scope=col>⋯</th><th scope=col>Total.Recovered.Traced.this.year...Trans</th><th scope=col>Total.Recovered.Traced.this.year...Total</th><th scope=col>Percentage.Recovery..Total.Recovered.or.Traced..Total.Missing....100...Male</th><th scope=col>Percentage.Recovery..Total.Recovered.or.Traced..Total.Missing....100...Female</th><th scope=col>Percentage.Recovery..Total.Recovered.or.Traced..Total.Missing....100...Trans</th><th scope=col>Percentage.Recovery..Total.Recovered.or.Traced..Total.Missing....100...Total</th><th scope=col>Un.Recovered.Untraced.Persons..including.previous.years.Untraced.Missing.Persons....Male</th><th scope=col>Un.Recovered.Untraced.Persons..including.previous.years.Untraced.Missing.Persons....Female</th><th scope=col>Un.Recovered.Untraced.Persons..including.previous.years.Untraced.Missing.Persons....Trans</th><th scope=col>Un.Recovered.Untraced.Persons..including.previous.years.Untraced.Missing.Persons....Total</th></tr>\n",
              "\t<tr><th></th><th scope=col>&lt;int&gt;</th><th scope=col>&lt;int&gt;</th><th scope=col>&lt;chr&gt;</th><th scope=col>&lt;chr&gt;</th><th scope=col>&lt;int&gt;</th><th scope=col>&lt;int&gt;</th><th scope=col>&lt;int&gt;</th><th scope=col>&lt;int&gt;</th><th scope=col>&lt;int&gt;</th><th scope=col>&lt;int&gt;</th><th scope=col>⋯</th><th scope=col>&lt;int&gt;</th><th scope=col>&lt;int&gt;</th><th scope=col>&lt;dbl&gt;</th><th scope=col>&lt;dbl&gt;</th><th scope=col>&lt;dbl&gt;</th><th scope=col>&lt;dbl&gt;</th><th scope=col>&lt;int&gt;</th><th scope=col>&lt;int&gt;</th><th scope=col>&lt;int&gt;</th><th scope=col>&lt;int&gt;</th></tr>\n",
              "</thead>\n",
              "<tbody>\n",
              "\t<tr><th scope=row>1</th><td>1</td><td>2017</td><td>State</td><td>Andhra Pradesh   </td><td>4173</td><td>2990</td><td> 5</td><td> 7168</td><td>3114</td><td>5225</td><td>⋯</td><td>  7</td><td>10177</td><td>51.4</td><td>78.2</td><td>58.3</td><td>65.6</td><td>3540</td><td>1792</td><td>  5</td><td> 5337</td></tr>\n",
              "\t<tr><th scope=row>2</th><td>2</td><td>2017</td><td>State</td><td>Arunachal Pradesh</td><td>   2</td><td>  93</td><td> 0</td><td>   95</td><td>   9</td><td>  90</td><td>⋯</td><td>  0</td><td>  103</td><td>63.6</td><td>52.5</td><td> 0.0</td><td>53.1</td><td>   4</td><td>  87</td><td>  0</td><td>   91</td></tr>\n",
              "\t<tr><th scope=row>3</th><td>3</td><td>2017</td><td>State</td><td>Assam            </td><td> 530</td><td>1223</td><td> 0</td><td> 1753</td><td> 997</td><td>2302</td><td>⋯</td><td>  0</td><td> 3329</td><td>66.5</td><td>65.6</td><td> 0.0</td><td>65.9</td><td> 512</td><td>1211</td><td>  0</td><td> 1723</td></tr>\n",
              "\t<tr><th scope=row>4</th><td>4</td><td>2017</td><td>State</td><td>Bihar            </td><td>1523</td><td>2935</td><td>86</td><td> 4544</td><td>1932</td><td>6020</td><td>⋯</td><td>104</td><td> 4710</td><td>30.2</td><td>39.8</td><td>44.8</td><td>37.3</td><td>2410</td><td>5394</td><td>128</td><td> 7932</td></tr>\n",
              "\t<tr><th scope=row>5</th><td>5</td><td>2017</td><td>State</td><td>Chhattisgarh     </td><td>4366</td><td>5836</td><td> 0</td><td>10202</td><td>3449</td><td>7383</td><td>⋯</td><td>  0</td><td> 9446</td><td>37.7</td><td>49.2</td><td> 0.0</td><td>44.9</td><td>4870</td><td>6718</td><td>  0</td><td>11588</td></tr>\n",
              "\t<tr><th scope=row>6</th><td>6</td><td>2017</td><td>State</td><td>Goa              </td><td> 475</td><td> 230</td><td> 0</td><td>  705</td><td> 304</td><td> 274</td><td>⋯</td><td>  0</td><td>  515</td><td>33.5</td><td>50.4</td><td> 0.0</td><td>40.1</td><td> 518</td><td> 250</td><td>  0</td><td>  768</td></tr>\n",
              "</tbody>\n",
              "</table>\n"
            ],
            "text/markdown": "\nA data.frame: 6 × 28\n\n| <!--/--> | S..No &lt;int&gt; | Year &lt;int&gt; | Category &lt;chr&gt; | State.UT &lt;chr&gt; | Unrecovered.Untraced.Persons.from.Previous.years...Male &lt;int&gt; | Unrecovered.Untraced.Persons.from.Previous.years...Female &lt;int&gt; | Unrecovered.Untraced.Persons.from.Previous.years...Trans &lt;int&gt; | Unrecovered.Untraced.Persons.from.Previous.years...Total &lt;int&gt; | Persons.Missing.this.year...Male &lt;int&gt; | Persons.Missing.this.year...Female &lt;int&gt; | ⋯ ⋯ | Total.Recovered.Traced.this.year...Trans &lt;int&gt; | Total.Recovered.Traced.this.year...Total &lt;int&gt; | Percentage.Recovery..Total.Recovered.or.Traced..Total.Missing....100...Male &lt;dbl&gt; | Percentage.Recovery..Total.Recovered.or.Traced..Total.Missing....100...Female &lt;dbl&gt; | Percentage.Recovery..Total.Recovered.or.Traced..Total.Missing....100...Trans &lt;dbl&gt; | Percentage.Recovery..Total.Recovered.or.Traced..Total.Missing....100...Total &lt;dbl&gt; | Un.Recovered.Untraced.Persons..including.previous.years.Untraced.Missing.Persons....Male &lt;int&gt; | Un.Recovered.Untraced.Persons..including.previous.years.Untraced.Missing.Persons....Female &lt;int&gt; | Un.Recovered.Untraced.Persons..including.previous.years.Untraced.Missing.Persons....Trans &lt;int&gt; | Un.Recovered.Untraced.Persons..including.previous.years.Untraced.Missing.Persons....Total &lt;int&gt; |\n|---|---|---|---|---|---|---|---|---|---|---|---|---|---|---|---|---|---|---|---|---|---|\n| 1 | 1 | 2017 | State | Andhra Pradesh    | 4173 | 2990 |  5 |  7168 | 3114 | 5225 | ⋯ |   7 | 10177 | 51.4 | 78.2 | 58.3 | 65.6 | 3540 | 1792 |   5 |  5337 |\n| 2 | 2 | 2017 | State | Arunachal Pradesh |    2 |   93 |  0 |    95 |    9 |   90 | ⋯ |   0 |   103 | 63.6 | 52.5 |  0.0 | 53.1 |    4 |   87 |   0 |    91 |\n| 3 | 3 | 2017 | State | Assam             |  530 | 1223 |  0 |  1753 |  997 | 2302 | ⋯ |   0 |  3329 | 66.5 | 65.6 |  0.0 | 65.9 |  512 | 1211 |   0 |  1723 |\n| 4 | 4 | 2017 | State | Bihar             | 1523 | 2935 | 86 |  4544 | 1932 | 6020 | ⋯ | 104 |  4710 | 30.2 | 39.8 | 44.8 | 37.3 | 2410 | 5394 | 128 |  7932 |\n| 5 | 5 | 2017 | State | Chhattisgarh      | 4366 | 5836 |  0 | 10202 | 3449 | 7383 | ⋯ |   0 |  9446 | 37.7 | 49.2 |  0.0 | 44.9 | 4870 | 6718 |   0 | 11588 |\n| 6 | 6 | 2017 | State | Goa               |  475 |  230 |  0 |   705 |  304 |  274 | ⋯ |   0 |   515 | 33.5 | 50.4 |  0.0 | 40.1 |  518 |  250 |   0 |   768 |\n\n",
            "text/latex": "A data.frame: 6 × 28\n\\begin{tabular}{r|lllllllllllllllllllll}\n  & S..No & Year & Category & State.UT & Unrecovered.Untraced.Persons.from.Previous.years...Male & Unrecovered.Untraced.Persons.from.Previous.years...Female & Unrecovered.Untraced.Persons.from.Previous.years...Trans & Unrecovered.Untraced.Persons.from.Previous.years...Total & Persons.Missing.this.year...Male & Persons.Missing.this.year...Female & ⋯ & Total.Recovered.Traced.this.year...Trans & Total.Recovered.Traced.this.year...Total & Percentage.Recovery..Total.Recovered.or.Traced..Total.Missing....100...Male & Percentage.Recovery..Total.Recovered.or.Traced..Total.Missing....100...Female & Percentage.Recovery..Total.Recovered.or.Traced..Total.Missing....100...Trans & Percentage.Recovery..Total.Recovered.or.Traced..Total.Missing....100...Total & Un.Recovered.Untraced.Persons..including.previous.years.Untraced.Missing.Persons....Male & Un.Recovered.Untraced.Persons..including.previous.years.Untraced.Missing.Persons....Female & Un.Recovered.Untraced.Persons..including.previous.years.Untraced.Missing.Persons....Trans & Un.Recovered.Untraced.Persons..including.previous.years.Untraced.Missing.Persons....Total\\\\\n  & <int> & <int> & <chr> & <chr> & <int> & <int> & <int> & <int> & <int> & <int> & ⋯ & <int> & <int> & <dbl> & <dbl> & <dbl> & <dbl> & <int> & <int> & <int> & <int>\\\\\n\\hline\n\t1 & 1 & 2017 & State & Andhra Pradesh    & 4173 & 2990 &  5 &  7168 & 3114 & 5225 & ⋯ &   7 & 10177 & 51.4 & 78.2 & 58.3 & 65.6 & 3540 & 1792 &   5 &  5337\\\\\n\t2 & 2 & 2017 & State & Arunachal Pradesh &    2 &   93 &  0 &    95 &    9 &   90 & ⋯ &   0 &   103 & 63.6 & 52.5 &  0.0 & 53.1 &    4 &   87 &   0 &    91\\\\\n\t3 & 3 & 2017 & State & Assam             &  530 & 1223 &  0 &  1753 &  997 & 2302 & ⋯ &   0 &  3329 & 66.5 & 65.6 &  0.0 & 65.9 &  512 & 1211 &   0 &  1723\\\\\n\t4 & 4 & 2017 & State & Bihar             & 1523 & 2935 & 86 &  4544 & 1932 & 6020 & ⋯ & 104 &  4710 & 30.2 & 39.8 & 44.8 & 37.3 & 2410 & 5394 & 128 &  7932\\\\\n\t5 & 5 & 2017 & State & Chhattisgarh      & 4366 & 5836 &  0 & 10202 & 3449 & 7383 & ⋯ &   0 &  9446 & 37.7 & 49.2 &  0.0 & 44.9 & 4870 & 6718 &   0 & 11588\\\\\n\t6 & 6 & 2017 & State & Goa               &  475 &  230 &  0 &   705 &  304 &  274 & ⋯ &   0 &   515 & 33.5 & 50.4 &  0.0 & 40.1 &  518 &  250 &   0 &   768\\\\\n\\end{tabular}\n",
            "text/plain": [
              "  S..No Year Category State.UT         \n",
              "1 1     2017 State    Andhra Pradesh   \n",
              "2 2     2017 State    Arunachal Pradesh\n",
              "3 3     2017 State    Assam            \n",
              "4 4     2017 State    Bihar            \n",
              "5 5     2017 State    Chhattisgarh     \n",
              "6 6     2017 State    Goa              \n",
              "  Unrecovered.Untraced.Persons.from.Previous.years...Male\n",
              "1 4173                                                   \n",
              "2    2                                                   \n",
              "3  530                                                   \n",
              "4 1523                                                   \n",
              "5 4366                                                   \n",
              "6  475                                                   \n",
              "  Unrecovered.Untraced.Persons.from.Previous.years...Female\n",
              "1 2990                                                     \n",
              "2   93                                                     \n",
              "3 1223                                                     \n",
              "4 2935                                                     \n",
              "5 5836                                                     \n",
              "6  230                                                     \n",
              "  Unrecovered.Untraced.Persons.from.Previous.years...Trans\n",
              "1  5                                                      \n",
              "2  0                                                      \n",
              "3  0                                                      \n",
              "4 86                                                      \n",
              "5  0                                                      \n",
              "6  0                                                      \n",
              "  Unrecovered.Untraced.Persons.from.Previous.years...Total\n",
              "1  7168                                                   \n",
              "2    95                                                   \n",
              "3  1753                                                   \n",
              "4  4544                                                   \n",
              "5 10202                                                   \n",
              "6   705                                                   \n",
              "  Persons.Missing.this.year...Male Persons.Missing.this.year...Female ⋯\n",
              "1 3114                             5225                               ⋯\n",
              "2    9                               90                               ⋯\n",
              "3  997                             2302                               ⋯\n",
              "4 1932                             6020                               ⋯\n",
              "5 3449                             7383                               ⋯\n",
              "6  304                              274                               ⋯\n",
              "  Total.Recovered.Traced.this.year...Trans\n",
              "1   7                                     \n",
              "2   0                                     \n",
              "3   0                                     \n",
              "4 104                                     \n",
              "5   0                                     \n",
              "6   0                                     \n",
              "  Total.Recovered.Traced.this.year...Total\n",
              "1 10177                                   \n",
              "2   103                                   \n",
              "3  3329                                   \n",
              "4  4710                                   \n",
              "5  9446                                   \n",
              "6   515                                   \n",
              "  Percentage.Recovery..Total.Recovered.or.Traced..Total.Missing....100...Male\n",
              "1 51.4                                                                       \n",
              "2 63.6                                                                       \n",
              "3 66.5                                                                       \n",
              "4 30.2                                                                       \n",
              "5 37.7                                                                       \n",
              "6 33.5                                                                       \n",
              "  Percentage.Recovery..Total.Recovered.or.Traced..Total.Missing....100...Female\n",
              "1 78.2                                                                         \n",
              "2 52.5                                                                         \n",
              "3 65.6                                                                         \n",
              "4 39.8                                                                         \n",
              "5 49.2                                                                         \n",
              "6 50.4                                                                         \n",
              "  Percentage.Recovery..Total.Recovered.or.Traced..Total.Missing....100...Trans\n",
              "1 58.3                                                                        \n",
              "2  0.0                                                                        \n",
              "3  0.0                                                                        \n",
              "4 44.8                                                                        \n",
              "5  0.0                                                                        \n",
              "6  0.0                                                                        \n",
              "  Percentage.Recovery..Total.Recovered.or.Traced..Total.Missing....100...Total\n",
              "1 65.6                                                                        \n",
              "2 53.1                                                                        \n",
              "3 65.9                                                                        \n",
              "4 37.3                                                                        \n",
              "5 44.9                                                                        \n",
              "6 40.1                                                                        \n",
              "  Un.Recovered.Untraced.Persons..including.previous.years.Untraced.Missing.Persons....Male\n",
              "1 3540                                                                                    \n",
              "2    4                                                                                    \n",
              "3  512                                                                                    \n",
              "4 2410                                                                                    \n",
              "5 4870                                                                                    \n",
              "6  518                                                                                    \n",
              "  Un.Recovered.Untraced.Persons..including.previous.years.Untraced.Missing.Persons....Female\n",
              "1 1792                                                                                      \n",
              "2   87                                                                                      \n",
              "3 1211                                                                                      \n",
              "4 5394                                                                                      \n",
              "5 6718                                                                                      \n",
              "6  250                                                                                      \n",
              "  Un.Recovered.Untraced.Persons..including.previous.years.Untraced.Missing.Persons....Trans\n",
              "1   5                                                                                      \n",
              "2   0                                                                                      \n",
              "3   0                                                                                      \n",
              "4 128                                                                                      \n",
              "5   0                                                                                      \n",
              "6   0                                                                                      \n",
              "  Un.Recovered.Untraced.Persons..including.previous.years.Untraced.Missing.Persons....Total\n",
              "1  5337                                                                                    \n",
              "2    91                                                                                    \n",
              "3  1723                                                                                    \n",
              "4  7932                                                                                    \n",
              "5 11588                                                                                    \n",
              "6   768                                                                                    "
            ]
          },
          "metadata": {}
        }
      ]
    },
    {
      "cell_type": "code",
      "source": [
        "DataExplorer::create_report(df)  #Creating Report using DataExplorer"
      ],
      "metadata": {
        "id": "MFhtdmZjXs6J",
        "colab": {
          "base_uri": "https://localhost:8080/"
        },
        "outputId": "175b1372-bba3-43e0-d151-202fdd36be11"
      },
      "execution_count": 18,
      "outputs": [
        {
          "output_type": "stream",
          "name": "stderr",
          "text": [
            "\n",
            "\n",
            "processing file: report.rmd\n",
            "\n"
          ]
        },
        {
          "output_type": "stream",
          "name": "stdout",
          "text": [
            "                                                                                                                           \n"
          ]
        },
        {
          "output_type": "stream",
          "name": "stderr",
          "text": [
            "output file: /content/report.knit.md\n",
            "\n",
            "\n"
          ]
        },
        {
          "output_type": "stream",
          "name": "stdout",
          "text": [
            "/usr/bin/pandoc +RTS -K512m -RTS /content/report.knit.md --to html4 --from markdown+autolink_bare_uris+tex_math_single_backslash --output /content/report.html --lua-filter /usr/lib/R/site-library/rmarkdown/rmarkdown/lua/pagebreak.lua --lua-filter /usr/lib/R/site-library/rmarkdown/rmarkdown/lua/latex-div.lua --self-contained --variable bs3=TRUE --section-divs --table-of-contents --toc-depth 6 --template /usr/lib/R/site-library/rmarkdown/rmd/h/default.html --no-highlight --variable highlightjs=1 --variable theme=yeti --mathjax --variable 'mathjax-url=https://mathjax.rstudio.com/latest/MathJax.js?config=TeX-AMS-MML_HTMLorMML' --include-in-header /tmp/RtmpHPnX5E/rmarkdown-strf458d39c61.html \n"
          ]
        },
        {
          "output_type": "stream",
          "name": "stderr",
          "text": [
            "\n",
            "Output created: report.html\n",
            "\n"
          ]
        }
      ]
    },
    {
      "cell_type": "markdown",
      "source": [
        "# Questions"
      ],
      "metadata": {
        "id": "MA2vOQXdP2YJ"
      }
    },
    {
      "cell_type": "markdown",
      "source": [
        "## Q1 In which year and in which state were total maximum missing cases (male,female and trans)? "
      ],
      "metadata": {
        "id": "vR_q5laQekZj"
      }
    },
    {
      "cell_type": "markdown",
      "source": [
        "### Year wise"
      ],
      "metadata": {
        "id": "HJsQZvT2QKEa"
      }
    },
    {
      "cell_type": "code",
      "source": [
        "gender_missing <- subset(df,select=c(\"Persons.Missing.this.year...Female\",\"Persons.Missing.this.year...Male\",\"Persons.Missing.this.year...Trans\",\"Year\"))\n",
        "gender_missing"
      ],
      "metadata": {
        "colab": {
          "base_uri": "https://localhost:8080/",
          "height": 1000
        },
        "id": "lNXgEjVQ_f-3",
        "outputId": "279be3d8-b02d-42be-9f7f-bcc7acad496a"
      },
      "execution_count": 19,
      "outputs": [
        {
          "output_type": "display_data",
          "data": {
            "text/html": [
              "<table class=\"dataframe\">\n",
              "<caption>A data.frame: 180 × 4</caption>\n",
              "<thead>\n",
              "\t<tr><th></th><th scope=col>Persons.Missing.this.year...Female</th><th scope=col>Persons.Missing.this.year...Male</th><th scope=col>Persons.Missing.this.year...Trans</th><th scope=col>Year</th></tr>\n",
              "\t<tr><th></th><th scope=col>&lt;int&gt;</th><th scope=col>&lt;int&gt;</th><th scope=col>&lt;int&gt;</th><th scope=col>&lt;int&gt;</th></tr>\n",
              "</thead>\n",
              "<tbody>\n",
              "\t<tr><th scope=row>1</th><td> 5225</td><td> 3114</td><td>  7</td><td>2017</td></tr>\n",
              "\t<tr><th scope=row>2</th><td>   90</td><td>    9</td><td>  0</td><td>2017</td></tr>\n",
              "\t<tr><th scope=row>3</th><td> 2302</td><td>  997</td><td>  0</td><td>2017</td></tr>\n",
              "\t<tr><th scope=row>4</th><td> 6020</td><td> 1932</td><td>146</td><td>2017</td></tr>\n",
              "\t<tr><th scope=row>5</th><td> 7383</td><td> 3449</td><td>  0</td><td>2017</td></tr>\n",
              "\t<tr><th scope=row>6</th><td>  274</td><td>  304</td><td>  0</td><td>2017</td></tr>\n",
              "\t<tr><th scope=row>7</th><td> 7712</td><td> 4509</td><td>  1</td><td>2017</td></tr>\n",
              "\t<tr><th scope=row>8</th><td> 4780</td><td> 3334</td><td>  0</td><td>2017</td></tr>\n",
              "\t<tr><th scope=row>9</th><td>  852</td><td>  512</td><td>  0</td><td>2017</td></tr>\n",
              "\t<tr><th scope=row>10</th><td> 1044</td><td>  849</td><td>  0</td><td>2017</td></tr>\n",
              "\t<tr><th scope=row>11</th><td>  361</td><td>  426</td><td>  0</td><td>2017</td></tr>\n",
              "\t<tr><th scope=row>12</th><td> 8757</td><td> 5796</td><td>  0</td><td>2017</td></tr>\n",
              "\t<tr><th scope=row>13</th><td> 6076</td><td> 3201</td><td>  8</td><td>2017</td></tr>\n",
              "\t<tr><th scope=row>14</th><td>26587</td><td>12699</td><td>  0</td><td>2017</td></tr>\n",
              "\t<tr><th scope=row>15</th><td>29279</td><td>23386</td><td>254</td><td>2017</td></tr>\n",
              "\t<tr><th scope=row>16</th><td>  139</td><td>  150</td><td>  0</td><td>2017</td></tr>\n",
              "\t<tr><th scope=row>17</th><td>  172</td><td>  142</td><td>  0</td><td>2017</td></tr>\n",
              "\t<tr><th scope=row>18</th><td>    1</td><td>    0</td><td>  0</td><td>2017</td></tr>\n",
              "\t<tr><th scope=row>19</th><td>   89</td><td>   50</td><td>  0</td><td>2017</td></tr>\n",
              "\t<tr><th scope=row>20</th><td> 4187</td><td> 1679</td><td>  0</td><td>2017</td></tr>\n",
              "\t<tr><th scope=row>21</th><td> 1256</td><td> 1243</td><td>  0</td><td>2017</td></tr>\n",
              "\t<tr><th scope=row>22</th><td>10230</td><td> 4575</td><td>  0</td><td>2017</td></tr>\n",
              "\t<tr><th scope=row>23</th><td>  222</td><td>  180</td><td>  0</td><td>2017</td></tr>\n",
              "\t<tr><th scope=row>24</th><td> 9564</td><td> 4811</td><td>  1</td><td>2017</td></tr>\n",
              "\t<tr><th scope=row>25</th><td> 8405</td><td> 5465</td><td>  0</td><td>2017</td></tr>\n",
              "\t<tr><th scope=row>26</th><td>  866</td><td>  460</td><td>  0</td><td>2017</td></tr>\n",
              "\t<tr><th scope=row>27</th><td> 4511</td><td> 5255</td><td>  0</td><td>2017</td></tr>\n",
              "\t<tr><th scope=row>28</th><td> 1081</td><td> 1254</td><td>  0</td><td>2017</td></tr>\n",
              "\t<tr><th scope=row>29</th><td>28133</td><td>15542</td><td>  0</td><td>2017</td></tr>\n",
              "\t<tr><th scope=row>30</th><td>   65</td><td>   70</td><td>  0</td><td>2017</td></tr>\n",
              "\t<tr><th scope=row>⋮</th><td>⋮</td><td>⋮</td><td>⋮</td><td>⋮</td></tr>\n",
              "\t<tr><th scope=row>151</th><td> 9812</td><td> 4240</td><td>15</td><td>2021</td></tr>\n",
              "\t<tr><th scope=row>152</th><td> 8863</td><td> 4732</td><td> 3</td><td>2021</td></tr>\n",
              "\t<tr><th scope=row>153</th><td> 1587</td><td>  616</td><td> 0</td><td>2021</td></tr>\n",
              "\t<tr><th scope=row>154</th><td> 1835</td><td>  838</td><td> 0</td><td>2021</td></tr>\n",
              "\t<tr><th scope=row>155</th><td>  494</td><td>  353</td><td> 0</td><td>2021</td></tr>\n",
              "\t<tr><th scope=row>156</th><td>10962</td><td> 5643</td><td> 0</td><td>2021</td></tr>\n",
              "\t<tr><th scope=row>157</th><td> 6183</td><td> 3202</td><td>51</td><td>2021</td></tr>\n",
              "\t<tr><th scope=row>158</th><td>35638</td><td>13419</td><td> 0</td><td>2021</td></tr>\n",
              "\t<tr><th scope=row>159</th><td>37278</td><td>24621</td><td>28</td><td>2021</td></tr>\n",
              "\t<tr><th scope=row>160</th><td>  115</td><td>   79</td><td> 0</td><td>2021</td></tr>\n",
              "\t<tr><th scope=row>161</th><td>  108</td><td>   82</td><td> 0</td><td>2021</td></tr>\n",
              "\t<tr><th scope=row>162</th><td>    0</td><td>    1</td><td> 0</td><td>2021</td></tr>\n",
              "\t<tr><th scope=row>163</th><td>   27</td><td>   44</td><td> 0</td><td>2021</td></tr>\n",
              "\t<tr><th scope=row>164</th><td>12986</td><td> 3449</td><td> 0</td><td>2021</td></tr>\n",
              "\t<tr><th scope=row>165</th><td> 2362</td><td> 1332</td><td> 0</td><td>2021</td></tr>\n",
              "\t<tr><th scope=row>166</th><td>20029</td><td> 6291</td><td> 0</td><td>2021</td></tr>\n",
              "\t<tr><th scope=row>167</th><td>  118</td><td>   51</td><td> 0</td><td>2021</td></tr>\n",
              "\t<tr><th scope=row>168</th><td>17704</td><td> 6204</td><td> 3</td><td>2021</td></tr>\n",
              "\t<tr><th scope=row>169</th><td>13360</td><td> 8465</td><td> 0</td><td>2021</td></tr>\n",
              "\t<tr><th scope=row>170</th><td> 1196</td><td>  424</td><td> 0</td><td>2021</td></tr>\n",
              "\t<tr><th scope=row>171</th><td> 6668</td><td> 4420</td><td> 0</td><td>2021</td></tr>\n",
              "\t<tr><th scope=row>172</th><td> 1857</td><td> 1594</td><td> 0</td><td>2021</td></tr>\n",
              "\t<tr><th scope=row>173</th><td>30611</td><td>13588</td><td> 1</td><td>2021</td></tr>\n",
              "\t<tr><th scope=row>174</th><td>   56</td><td>   51</td><td> 0</td><td>2021</td></tr>\n",
              "\t<tr><th scope=row>175</th><td>  533</td><td>  349</td><td> 0</td><td>2021</td></tr>\n",
              "\t<tr><th scope=row>176</th><td>  100</td><td>   48</td><td> 0</td><td>2021</td></tr>\n",
              "\t<tr><th scope=row>177</th><td>13072</td><td> 8638</td><td> 0</td><td>2021</td></tr>\n",
              "\t<tr><th scope=row>178</th><td>    5</td><td>   19</td><td> 0</td><td>2021</td></tr>\n",
              "\t<tr><th scope=row>179</th><td>    0</td><td>    0</td><td> 0</td><td>2021</td></tr>\n",
              "\t<tr><th scope=row>180</th><td>  179</td><td>   86</td><td> 0</td><td>2021</td></tr>\n",
              "</tbody>\n",
              "</table>\n"
            ],
            "text/markdown": "\nA data.frame: 180 × 4\n\n| <!--/--> | Persons.Missing.this.year...Female &lt;int&gt; | Persons.Missing.this.year...Male &lt;int&gt; | Persons.Missing.this.year...Trans &lt;int&gt; | Year &lt;int&gt; |\n|---|---|---|---|---|\n| 1 |  5225 |  3114 |   7 | 2017 |\n| 2 |    90 |     9 |   0 | 2017 |\n| 3 |  2302 |   997 |   0 | 2017 |\n| 4 |  6020 |  1932 | 146 | 2017 |\n| 5 |  7383 |  3449 |   0 | 2017 |\n| 6 |   274 |   304 |   0 | 2017 |\n| 7 |  7712 |  4509 |   1 | 2017 |\n| 8 |  4780 |  3334 |   0 | 2017 |\n| 9 |   852 |   512 |   0 | 2017 |\n| 10 |  1044 |   849 |   0 | 2017 |\n| 11 |   361 |   426 |   0 | 2017 |\n| 12 |  8757 |  5796 |   0 | 2017 |\n| 13 |  6076 |  3201 |   8 | 2017 |\n| 14 | 26587 | 12699 |   0 | 2017 |\n| 15 | 29279 | 23386 | 254 | 2017 |\n| 16 |   139 |   150 |   0 | 2017 |\n| 17 |   172 |   142 |   0 | 2017 |\n| 18 |     1 |     0 |   0 | 2017 |\n| 19 |    89 |    50 |   0 | 2017 |\n| 20 |  4187 |  1679 |   0 | 2017 |\n| 21 |  1256 |  1243 |   0 | 2017 |\n| 22 | 10230 |  4575 |   0 | 2017 |\n| 23 |   222 |   180 |   0 | 2017 |\n| 24 |  9564 |  4811 |   1 | 2017 |\n| 25 |  8405 |  5465 |   0 | 2017 |\n| 26 |   866 |   460 |   0 | 2017 |\n| 27 |  4511 |  5255 |   0 | 2017 |\n| 28 |  1081 |  1254 |   0 | 2017 |\n| 29 | 28133 | 15542 |   0 | 2017 |\n| 30 |    65 |    70 |   0 | 2017 |\n| ⋮ | ⋮ | ⋮ | ⋮ | ⋮ |\n| 151 |  9812 |  4240 | 15 | 2021 |\n| 152 |  8863 |  4732 |  3 | 2021 |\n| 153 |  1587 |   616 |  0 | 2021 |\n| 154 |  1835 |   838 |  0 | 2021 |\n| 155 |   494 |   353 |  0 | 2021 |\n| 156 | 10962 |  5643 |  0 | 2021 |\n| 157 |  6183 |  3202 | 51 | 2021 |\n| 158 | 35638 | 13419 |  0 | 2021 |\n| 159 | 37278 | 24621 | 28 | 2021 |\n| 160 |   115 |    79 |  0 | 2021 |\n| 161 |   108 |    82 |  0 | 2021 |\n| 162 |     0 |     1 |  0 | 2021 |\n| 163 |    27 |    44 |  0 | 2021 |\n| 164 | 12986 |  3449 |  0 | 2021 |\n| 165 |  2362 |  1332 |  0 | 2021 |\n| 166 | 20029 |  6291 |  0 | 2021 |\n| 167 |   118 |    51 |  0 | 2021 |\n| 168 | 17704 |  6204 |  3 | 2021 |\n| 169 | 13360 |  8465 |  0 | 2021 |\n| 170 |  1196 |   424 |  0 | 2021 |\n| 171 |  6668 |  4420 |  0 | 2021 |\n| 172 |  1857 |  1594 |  0 | 2021 |\n| 173 | 30611 | 13588 |  1 | 2021 |\n| 174 |    56 |    51 |  0 | 2021 |\n| 175 |   533 |   349 |  0 | 2021 |\n| 176 |   100 |    48 |  0 | 2021 |\n| 177 | 13072 |  8638 |  0 | 2021 |\n| 178 |     5 |    19 |  0 | 2021 |\n| 179 |     0 |     0 |  0 | 2021 |\n| 180 |   179 |    86 |  0 | 2021 |\n\n",
            "text/latex": "A data.frame: 180 × 4\n\\begin{tabular}{r|llll}\n  & Persons.Missing.this.year...Female & Persons.Missing.this.year...Male & Persons.Missing.this.year...Trans & Year\\\\\n  & <int> & <int> & <int> & <int>\\\\\n\\hline\n\t1 &  5225 &  3114 &   7 & 2017\\\\\n\t2 &    90 &     9 &   0 & 2017\\\\\n\t3 &  2302 &   997 &   0 & 2017\\\\\n\t4 &  6020 &  1932 & 146 & 2017\\\\\n\t5 &  7383 &  3449 &   0 & 2017\\\\\n\t6 &   274 &   304 &   0 & 2017\\\\\n\t7 &  7712 &  4509 &   1 & 2017\\\\\n\t8 &  4780 &  3334 &   0 & 2017\\\\\n\t9 &   852 &   512 &   0 & 2017\\\\\n\t10 &  1044 &   849 &   0 & 2017\\\\\n\t11 &   361 &   426 &   0 & 2017\\\\\n\t12 &  8757 &  5796 &   0 & 2017\\\\\n\t13 &  6076 &  3201 &   8 & 2017\\\\\n\t14 & 26587 & 12699 &   0 & 2017\\\\\n\t15 & 29279 & 23386 & 254 & 2017\\\\\n\t16 &   139 &   150 &   0 & 2017\\\\\n\t17 &   172 &   142 &   0 & 2017\\\\\n\t18 &     1 &     0 &   0 & 2017\\\\\n\t19 &    89 &    50 &   0 & 2017\\\\\n\t20 &  4187 &  1679 &   0 & 2017\\\\\n\t21 &  1256 &  1243 &   0 & 2017\\\\\n\t22 & 10230 &  4575 &   0 & 2017\\\\\n\t23 &   222 &   180 &   0 & 2017\\\\\n\t24 &  9564 &  4811 &   1 & 2017\\\\\n\t25 &  8405 &  5465 &   0 & 2017\\\\\n\t26 &   866 &   460 &   0 & 2017\\\\\n\t27 &  4511 &  5255 &   0 & 2017\\\\\n\t28 &  1081 &  1254 &   0 & 2017\\\\\n\t29 & 28133 & 15542 &   0 & 2017\\\\\n\t30 &    65 &    70 &   0 & 2017\\\\\n\t⋮ & ⋮ & ⋮ & ⋮ & ⋮\\\\\n\t151 &  9812 &  4240 & 15 & 2021\\\\\n\t152 &  8863 &  4732 &  3 & 2021\\\\\n\t153 &  1587 &   616 &  0 & 2021\\\\\n\t154 &  1835 &   838 &  0 & 2021\\\\\n\t155 &   494 &   353 &  0 & 2021\\\\\n\t156 & 10962 &  5643 &  0 & 2021\\\\\n\t157 &  6183 &  3202 & 51 & 2021\\\\\n\t158 & 35638 & 13419 &  0 & 2021\\\\\n\t159 & 37278 & 24621 & 28 & 2021\\\\\n\t160 &   115 &    79 &  0 & 2021\\\\\n\t161 &   108 &    82 &  0 & 2021\\\\\n\t162 &     0 &     1 &  0 & 2021\\\\\n\t163 &    27 &    44 &  0 & 2021\\\\\n\t164 & 12986 &  3449 &  0 & 2021\\\\\n\t165 &  2362 &  1332 &  0 & 2021\\\\\n\t166 & 20029 &  6291 &  0 & 2021\\\\\n\t167 &   118 &    51 &  0 & 2021\\\\\n\t168 & 17704 &  6204 &  3 & 2021\\\\\n\t169 & 13360 &  8465 &  0 & 2021\\\\\n\t170 &  1196 &   424 &  0 & 2021\\\\\n\t171 &  6668 &  4420 &  0 & 2021\\\\\n\t172 &  1857 &  1594 &  0 & 2021\\\\\n\t173 & 30611 & 13588 &  1 & 2021\\\\\n\t174 &    56 &    51 &  0 & 2021\\\\\n\t175 &   533 &   349 &  0 & 2021\\\\\n\t176 &   100 &    48 &  0 & 2021\\\\\n\t177 & 13072 &  8638 &  0 & 2021\\\\\n\t178 &     5 &    19 &  0 & 2021\\\\\n\t179 &     0 &     0 &  0 & 2021\\\\\n\t180 &   179 &    86 &  0 & 2021\\\\\n\\end{tabular}\n",
            "text/plain": [
              "    Persons.Missing.this.year...Female Persons.Missing.this.year...Male\n",
              "1    5225                               3114                           \n",
              "2      90                                  9                           \n",
              "3    2302                                997                           \n",
              "4    6020                               1932                           \n",
              "5    7383                               3449                           \n",
              "6     274                                304                           \n",
              "7    7712                               4509                           \n",
              "8    4780                               3334                           \n",
              "9     852                                512                           \n",
              "10   1044                                849                           \n",
              "11    361                                426                           \n",
              "12   8757                               5796                           \n",
              "13   6076                               3201                           \n",
              "14  26587                              12699                           \n",
              "15  29279                              23386                           \n",
              "16    139                                150                           \n",
              "17    172                                142                           \n",
              "18      1                                  0                           \n",
              "19     89                                 50                           \n",
              "20   4187                               1679                           \n",
              "21   1256                               1243                           \n",
              "22  10230                               4575                           \n",
              "23    222                                180                           \n",
              "24   9564                               4811                           \n",
              "25   8405                               5465                           \n",
              "26    866                                460                           \n",
              "27   4511                               5255                           \n",
              "28   1081                               1254                           \n",
              "29  28133                              15542                           \n",
              "30     65                                 70                           \n",
              "⋮   ⋮                                  ⋮                               \n",
              "151  9812                               4240                           \n",
              "152  8863                               4732                           \n",
              "153  1587                                616                           \n",
              "154  1835                                838                           \n",
              "155   494                                353                           \n",
              "156 10962                               5643                           \n",
              "157  6183                               3202                           \n",
              "158 35638                              13419                           \n",
              "159 37278                              24621                           \n",
              "160   115                                 79                           \n",
              "161   108                                 82                           \n",
              "162     0                                  1                           \n",
              "163    27                                 44                           \n",
              "164 12986                               3449                           \n",
              "165  2362                               1332                           \n",
              "166 20029                               6291                           \n",
              "167   118                                 51                           \n",
              "168 17704                               6204                           \n",
              "169 13360                               8465                           \n",
              "170  1196                                424                           \n",
              "171  6668                               4420                           \n",
              "172  1857                               1594                           \n",
              "173 30611                              13588                           \n",
              "174    56                                 51                           \n",
              "175   533                                349                           \n",
              "176   100                                 48                           \n",
              "177 13072                               8638                           \n",
              "178     5                                 19                           \n",
              "179     0                                  0                           \n",
              "180   179                                 86                           \n",
              "    Persons.Missing.this.year...Trans Year\n",
              "1     7                               2017\n",
              "2     0                               2017\n",
              "3     0                               2017\n",
              "4   146                               2017\n",
              "5     0                               2017\n",
              "6     0                               2017\n",
              "7     1                               2017\n",
              "8     0                               2017\n",
              "9     0                               2017\n",
              "10    0                               2017\n",
              "11    0                               2017\n",
              "12    0                               2017\n",
              "13    8                               2017\n",
              "14    0                               2017\n",
              "15  254                               2017\n",
              "16    0                               2017\n",
              "17    0                               2017\n",
              "18    0                               2017\n",
              "19    0                               2017\n",
              "20    0                               2017\n",
              "21    0                               2017\n",
              "22    0                               2017\n",
              "23    0                               2017\n",
              "24    1                               2017\n",
              "25    0                               2017\n",
              "26    0                               2017\n",
              "27    0                               2017\n",
              "28    0                               2017\n",
              "29    0                               2017\n",
              "30    0                               2017\n",
              "⋮   ⋮                                 ⋮   \n",
              "151 15                                2021\n",
              "152  3                                2021\n",
              "153  0                                2021\n",
              "154  0                                2021\n",
              "155  0                                2021\n",
              "156  0                                2021\n",
              "157 51                                2021\n",
              "158  0                                2021\n",
              "159 28                                2021\n",
              "160  0                                2021\n",
              "161  0                                2021\n",
              "162  0                                2021\n",
              "163  0                                2021\n",
              "164  0                                2021\n",
              "165  0                                2021\n",
              "166  0                                2021\n",
              "167  0                                2021\n",
              "168  3                                2021\n",
              "169  0                                2021\n",
              "170  0                                2021\n",
              "171  0                                2021\n",
              "172  0                                2021\n",
              "173  1                                2021\n",
              "174  0                                2021\n",
              "175  0                                2021\n",
              "176  0                                2021\n",
              "177  0                                2021\n",
              "178  0                                2021\n",
              "179  0                                2021\n",
              "180  0                                2021"
            ]
          },
          "metadata": {}
        }
      ]
    },
    {
      "cell_type": "code",
      "source": [
        "df_grp_year = gender_missing %>% group_by(Year)  %>%\n",
        "                    summarise(total_missing_female = sum(Persons.Missing.this.year...Female),\n",
        "                              total_missing_male = sum(Persons.Missing.this.year...Male),\n",
        "                              total_missing_trans = sum(Persons.Missing.this.year...Trans),\n",
        "                              .groups = 'drop')\n",
        "df_grp_year"
      ],
      "metadata": {
        "colab": {
          "base_uri": "https://localhost:8080/",
          "height": 255
        },
        "id": "ffQriq1NCM7p",
        "outputId": "956469e5-d3f5-43eb-819e-d9a77aa6e4d0"
      },
      "execution_count": 20,
      "outputs": [
        {
          "output_type": "display_data",
          "data": {
            "text/html": [
              "<table class=\"dataframe\">\n",
              "<caption>A tibble: 5 × 4</caption>\n",
              "<thead>\n",
              "\t<tr><th scope=col>Year</th><th scope=col>total_missing_female</th><th scope=col>total_missing_male</th><th scope=col>total_missing_trans</th></tr>\n",
              "\t<tr><th scope=col>&lt;int&gt;</th><th scope=col>&lt;int&gt;</th><th scope=col>&lt;int&gt;</th><th scope=col>&lt;int&gt;</th></tr>\n",
              "</thead>\n",
              "<tbody>\n",
              "\t<tr><td>2017</td><td>188382</td><td>116467</td><td>418</td></tr>\n",
              "\t<tr><td>2018</td><td>223621</td><td>123339</td><td>564</td></tr>\n",
              "\t<tr><td>2019</td><td>248397</td><td>132089</td><td> 40</td></tr>\n",
              "\t<tr><td>2020</td><td>222395</td><td>100748</td><td> 27</td></tr>\n",
              "\t<tr><td>2021</td><td>265481</td><td>124177</td><td>186</td></tr>\n",
              "</tbody>\n",
              "</table>\n"
            ],
            "text/markdown": "\nA tibble: 5 × 4\n\n| Year &lt;int&gt; | total_missing_female &lt;int&gt; | total_missing_male &lt;int&gt; | total_missing_trans &lt;int&gt; |\n|---|---|---|---|\n| 2017 | 188382 | 116467 | 418 |\n| 2018 | 223621 | 123339 | 564 |\n| 2019 | 248397 | 132089 |  40 |\n| 2020 | 222395 | 100748 |  27 |\n| 2021 | 265481 | 124177 | 186 |\n\n",
            "text/latex": "A tibble: 5 × 4\n\\begin{tabular}{llll}\n Year & total\\_missing\\_female & total\\_missing\\_male & total\\_missing\\_trans\\\\\n <int> & <int> & <int> & <int>\\\\\n\\hline\n\t 2017 & 188382 & 116467 & 418\\\\\n\t 2018 & 223621 & 123339 & 564\\\\\n\t 2019 & 248397 & 132089 &  40\\\\\n\t 2020 & 222395 & 100748 &  27\\\\\n\t 2021 & 265481 & 124177 & 186\\\\\n\\end{tabular}\n",
            "text/plain": [
              "  Year total_missing_female total_missing_male total_missing_trans\n",
              "1 2017 188382               116467             418                \n",
              "2 2018 223621               123339             564                \n",
              "3 2019 248397               132089              40                \n",
              "4 2020 222395               100748              27                \n",
              "5 2021 265481               124177             186                "
            ]
          },
          "metadata": {}
        }
      ]
    },
    {
      "cell_type": "code",
      "source": [
        "colors = c(\"#00FFFF\", \"#1983AB\", \"#ABC782\")\n",
        "year <- c(\"2017\", \"2018\", \"2019\", \"2020\", \"2021\")\n",
        "gender <- c(\"Female\", \"Male\", \"Trans\")\n",
        "  \n",
        "mx <- t(as.matrix(df_grp_year[-1]))\n",
        "colnames(mx) <- df_grp_year$Year\n",
        "\n",
        "\n",
        "# Create the bar chart\n",
        "barplot(mx,main = \"Year wise missing persons\", names.arg = year, \n",
        "                          xlab = \"Year\", ylab = \"Number of missing cases\", \n",
        "                          col = colors, beside = TRUE)  \n",
        "                            #geom_text(aes(label = signif(value)), nudge_y = 3)\n",
        "\n",
        "# Add the legend to the chart\n",
        "legend(\"topleft\", gender, cex = 0.7, fill = colors)\n"
      ],
      "metadata": {
        "colab": {
          "base_uri": "https://localhost:8080/",
          "height": 437
        },
        "id": "28eWThHWDucX",
        "outputId": "30d74594-7062-4d09-f2ad-b7852446f6b1"
      },
      "execution_count": 21,
      "outputs": [
        {
          "output_type": "display_data",
          "data": {
            "text/plain": [
              "Plot with title “Year wise missing persons”"
            ],
            "image/png": "[encoded data removed]"
          },
          "metadata": {
            "image/png": {
              "width": 420,
              "height": 420
            }
          }
        }
      ]
    },
    {
      "cell_type": "markdown",
      "source": [
        "### State-wise"
      ],
      "metadata": {
        "id": "lpumJ53IJQLf"
      }
    },
    {
      "cell_type": "code",
      "source": [
        "state_missing <- subset(df,select=c(\"Persons.Missing.this.year...Female\",\"Persons.Missing.this.year...Male\",\"Persons.Missing.this.year...Trans\",\"State.UT\"))\n",
        "state_missing"
      ],
      "metadata": {
        "colab": {
          "base_uri": "https://localhost:8080/",
          "height": 1000
        },
        "id": "cFieN10fJUx2",
        "outputId": "f09b9daa-3847-4cdb-b1ad-e688b85dd863"
      },
      "execution_count": 22,
      "outputs": [
        {
          "output_type": "display_data",
          "data": {
            "text/html": [
              "<table class=\"dataframe\">\n",
              "<caption>A data.frame: 180 × 4</caption>\n",
              "<thead>\n",
              "\t<tr><th></th><th scope=col>Persons.Missing.this.year...Female</th><th scope=col>Persons.Missing.this.year...Male</th><th scope=col>Persons.Missing.this.year...Trans</th><th scope=col>State.UT</th></tr>\n",
              "\t<tr><th></th><th scope=col>&lt;int&gt;</th><th scope=col>&lt;int&gt;</th><th scope=col>&lt;int&gt;</th><th scope=col>&lt;chr&gt;</th></tr>\n",
              "</thead>\n",
              "<tbody>\n",
              "\t<tr><th scope=row>1</th><td> 5225</td><td> 3114</td><td>  7</td><td>Andhra Pradesh   </td></tr>\n",
              "\t<tr><th scope=row>2</th><td>   90</td><td>    9</td><td>  0</td><td>Arunachal Pradesh</td></tr>\n",
              "\t<tr><th scope=row>3</th><td> 2302</td><td>  997</td><td>  0</td><td>Assam            </td></tr>\n",
              "\t<tr><th scope=row>4</th><td> 6020</td><td> 1932</td><td>146</td><td>Bihar            </td></tr>\n",
              "\t<tr><th scope=row>5</th><td> 7383</td><td> 3449</td><td>  0</td><td>Chhattisgarh     </td></tr>\n",
              "\t<tr><th scope=row>6</th><td>  274</td><td>  304</td><td>  0</td><td>Goa              </td></tr>\n",
              "\t<tr><th scope=row>7</th><td> 7712</td><td> 4509</td><td>  1</td><td>Gujarat          </td></tr>\n",
              "\t<tr><th scope=row>8</th><td> 4780</td><td> 3334</td><td>  0</td><td>Haryana          </td></tr>\n",
              "\t<tr><th scope=row>9</th><td>  852</td><td>  512</td><td>  0</td><td>Himachal Pradesh </td></tr>\n",
              "\t<tr><th scope=row>10</th><td> 1044</td><td><span style=white-space:pre-wrap>  849</span></td><td><span style=white-space:pre-wrap>  0</span></td><td><span style=white-space:pre-wrap>Jammu &amp; Kashmir  </span></td></tr>\n",
              "\t<tr><th scope=row>11</th><td>  361</td><td>  426</td><td>  0</td><td>Jharkhand        </td></tr>\n",
              "\t<tr><th scope=row>12</th><td> 8757</td><td> 5796</td><td>  0</td><td>Karnataka        </td></tr>\n",
              "\t<tr><th scope=row>13</th><td> 6076</td><td> 3201</td><td>  8</td><td>Kerala           </td></tr>\n",
              "\t<tr><th scope=row>14</th><td>26587</td><td>12699</td><td>  0</td><td>Madhya Pradesh   </td></tr>\n",
              "\t<tr><th scope=row>15</th><td>29279</td><td>23386</td><td>254</td><td>Maharashtra      </td></tr>\n",
              "\t<tr><th scope=row>16</th><td>  139</td><td>  150</td><td>  0</td><td>Manipur          </td></tr>\n",
              "\t<tr><th scope=row>17</th><td>  172</td><td>  142</td><td>  0</td><td>Meghalaya        </td></tr>\n",
              "\t<tr><th scope=row>18</th><td>    1</td><td>    0</td><td>  0</td><td>Mizoram          </td></tr>\n",
              "\t<tr><th scope=row>19</th><td>   89</td><td>   50</td><td>  0</td><td>Nagaland         </td></tr>\n",
              "\t<tr><th scope=row>20</th><td> 4187</td><td> 1679</td><td>  0</td><td>Odisha           </td></tr>\n",
              "\t<tr><th scope=row>21</th><td> 1256</td><td> 1243</td><td>  0</td><td>Punjab           </td></tr>\n",
              "\t<tr><th scope=row>22</th><td>10230</td><td> 4575</td><td>  0</td><td>Rajasthan        </td></tr>\n",
              "\t<tr><th scope=row>23</th><td>  222</td><td>  180</td><td>  0</td><td>Sikkim           </td></tr>\n",
              "\t<tr><th scope=row>24</th><td> 9564</td><td> 4811</td><td>  1</td><td>Tamil Nadu       </td></tr>\n",
              "\t<tr><th scope=row>25</th><td> 8405</td><td> 5465</td><td>  0</td><td>Telangana        </td></tr>\n",
              "\t<tr><th scope=row>26</th><td>  866</td><td>  460</td><td>  0</td><td>Tripura          </td></tr>\n",
              "\t<tr><th scope=row>27</th><td> 4511</td><td> 5255</td><td>  0</td><td>Uttar Pradesh    </td></tr>\n",
              "\t<tr><th scope=row>28</th><td> 1081</td><td> 1254</td><td>  0</td><td>Uttarakhand      </td></tr>\n",
              "\t<tr><th scope=row>29</th><td>28133</td><td>15542</td><td>  0</td><td>West Bengal      </td></tr>\n",
              "\t<tr><th scope=row>30</th><td><span style=white-space:pre-wrap>   65</span></td><td><span style=white-space:pre-wrap>   70</span></td><td><span style=white-space:pre-wrap>  0</span></td><td><span style=white-space:pre-wrap>A &amp; N Islands    </span></td></tr>\n",
              "\t<tr><th scope=row>⋮</th><td>⋮</td><td>⋮</td><td>⋮</td><td>⋮</td></tr>\n",
              "\t<tr><th scope=row>151</th><td> 9812</td><td> 4240</td><td>15</td><td>Gujarat                     </td></tr>\n",
              "\t<tr><th scope=row>152</th><td> 8863</td><td> 4732</td><td> 3</td><td>Haryana                     </td></tr>\n",
              "\t<tr><th scope=row>153</th><td> 1587</td><td>  616</td><td> 0</td><td>Himachal Pradesh            </td></tr>\n",
              "\t<tr><th scope=row>154</th><td> 1835</td><td><span style=white-space:pre-wrap>  838</span></td><td> 0</td><td><span style=white-space:pre-wrap>Jammu &amp; Kashmir             </span></td></tr>\n",
              "\t<tr><th scope=row>155</th><td>  494</td><td>  353</td><td> 0</td><td>Jharkhand                   </td></tr>\n",
              "\t<tr><th scope=row>156</th><td>10962</td><td> 5643</td><td> 0</td><td>Karnataka                   </td></tr>\n",
              "\t<tr><th scope=row>157</th><td> 6183</td><td> 3202</td><td>51</td><td>Kerala                      </td></tr>\n",
              "\t<tr><th scope=row>158</th><td>35638</td><td>13419</td><td> 0</td><td>Madhya Pradesh              </td></tr>\n",
              "\t<tr><th scope=row>159</th><td>37278</td><td>24621</td><td>28</td><td>Maharashtra                 </td></tr>\n",
              "\t<tr><th scope=row>160</th><td>  115</td><td>   79</td><td> 0</td><td>Manipur                     </td></tr>\n",
              "\t<tr><th scope=row>161</th><td>  108</td><td>   82</td><td> 0</td><td>Meghalaya                   </td></tr>\n",
              "\t<tr><th scope=row>162</th><td>    0</td><td>    1</td><td> 0</td><td>Mizoram                     </td></tr>\n",
              "\t<tr><th scope=row>163</th><td>   27</td><td>   44</td><td> 0</td><td>Nagaland                    </td></tr>\n",
              "\t<tr><th scope=row>164</th><td>12986</td><td> 3449</td><td> 0</td><td>Odisha                      </td></tr>\n",
              "\t<tr><th scope=row>165</th><td> 2362</td><td> 1332</td><td> 0</td><td>Punjab                      </td></tr>\n",
              "\t<tr><th scope=row>166</th><td>20029</td><td> 6291</td><td> 0</td><td>Rajasthan                   </td></tr>\n",
              "\t<tr><th scope=row>167</th><td>  118</td><td>   51</td><td> 0</td><td>Sikkim                      </td></tr>\n",
              "\t<tr><th scope=row>168</th><td>17704</td><td> 6204</td><td> 3</td><td>Tamil Nadu                  </td></tr>\n",
              "\t<tr><th scope=row>169</th><td>13360</td><td> 8465</td><td> 0</td><td>Telangana                   </td></tr>\n",
              "\t<tr><th scope=row>170</th><td> 1196</td><td>  424</td><td> 0</td><td>Tripura                     </td></tr>\n",
              "\t<tr><th scope=row>171</th><td> 6668</td><td> 4420</td><td> 0</td><td>Uttar Pradesh               </td></tr>\n",
              "\t<tr><th scope=row>172</th><td> 1857</td><td> 1594</td><td> 0</td><td>Uttarakhand                 </td></tr>\n",
              "\t<tr><th scope=row>173</th><td>30611</td><td>13588</td><td> 1</td><td>West Bengal                 </td></tr>\n",
              "\t<tr><th scope=row>174</th><td><span style=white-space:pre-wrap>   56</span></td><td><span style=white-space:pre-wrap>   51</span></td><td> 0</td><td><span style=white-space:pre-wrap>A &amp; N Islands               </span></td></tr>\n",
              "\t<tr><th scope=row>175</th><td>  533</td><td>  349</td><td> 0</td><td>Chandigarh                  </td></tr>\n",
              "\t<tr><th scope=row>176</th><td><span style=white-space:pre-wrap>  100</span></td><td><span style=white-space:pre-wrap>   48</span></td><td> 0</td><td>D&amp;N Haveli and Daman and Diu</td></tr>\n",
              "\t<tr><th scope=row>177</th><td>13072</td><td> 8638</td><td> 0</td><td>Delhi UT                    </td></tr>\n",
              "\t<tr><th scope=row>178</th><td>    5</td><td>   19</td><td> 0</td><td>Ladakh                      </td></tr>\n",
              "\t<tr><th scope=row>179</th><td>    0</td><td>    0</td><td> 0</td><td>Lakshadweep                 </td></tr>\n",
              "\t<tr><th scope=row>180</th><td>  179</td><td>   86</td><td> 0</td><td>Puducherry                  </td></tr>\n",
              "</tbody>\n",
              "</table>\n"
            ],
            "text/markdown": "\nA data.frame: 180 × 4\n\n| <!--/--> | Persons.Missing.this.year...Female &lt;int&gt; | Persons.Missing.this.year...Male &lt;int&gt; | Persons.Missing.this.year...Trans &lt;int&gt; | State.UT &lt;chr&gt; |\n|---|---|---|---|---|\n| 1 |  5225 |  3114 |   7 | Andhra Pradesh    |\n| 2 |    90 |     9 |   0 | Arunachal Pradesh |\n| 3 |  2302 |   997 |   0 | Assam             |\n| 4 |  6020 |  1932 | 146 | Bihar             |\n| 5 |  7383 |  3449 |   0 | Chhattisgarh      |\n| 6 |   274 |   304 |   0 | Goa               |\n| 7 |  7712 |  4509 |   1 | Gujarat           |\n| 8 |  4780 |  3334 |   0 | Haryana           |\n| 9 |   852 |   512 |   0 | Himachal Pradesh  |\n| 10 |  1044 |   849 |   0 | Jammu &amp; Kashmir   |\n| 11 |   361 |   426 |   0 | Jharkhand         |\n| 12 |  8757 |  5796 |   0 | Karnataka         |\n| 13 |  6076 |  3201 |   8 | Kerala            |\n| 14 | 26587 | 12699 |   0 | Madhya Pradesh    |\n| 15 | 29279 | 23386 | 254 | Maharashtra       |\n| 16 |   139 |   150 |   0 | Manipur           |\n| 17 |   172 |   142 |   0 | Meghalaya         |\n| 18 |     1 |     0 |   0 | Mizoram           |\n| 19 |    89 |    50 |   0 | Nagaland          |\n| 20 |  4187 |  1679 |   0 | Odisha            |\n| 21 |  1256 |  1243 |   0 | Punjab            |\n| 22 | 10230 |  4575 |   0 | Rajasthan         |\n| 23 |   222 |   180 |   0 | Sikkim            |\n| 24 |  9564 |  4811 |   1 | Tamil Nadu        |\n| 25 |  8405 |  5465 |   0 | Telangana         |\n| 26 |   866 |   460 |   0 | Tripura           |\n| 27 |  4511 |  5255 |   0 | Uttar Pradesh     |\n| 28 |  1081 |  1254 |   0 | Uttarakhand       |\n| 29 | 28133 | 15542 |   0 | West Bengal       |\n| 30 |    65 |    70 |   0 | A &amp; N Islands     |\n| ⋮ | ⋮ | ⋮ | ⋮ | ⋮ |\n| 151 |  9812 |  4240 | 15 | Gujarat                      |\n| 152 |  8863 |  4732 |  3 | Haryana                      |\n| 153 |  1587 |   616 |  0 | Himachal Pradesh             |\n| 154 |  1835 |   838 |  0 | Jammu &amp; Kashmir              |\n| 155 |   494 |   353 |  0 | Jharkhand                    |\n| 156 | 10962 |  5643 |  0 | Karnataka                    |\n| 157 |  6183 |  3202 | 51 | Kerala                       |\n| 158 | 35638 | 13419 |  0 | Madhya Pradesh               |\n| 159 | 37278 | 24621 | 28 | Maharashtra                  |\n| 160 |   115 |    79 |  0 | Manipur                      |\n| 161 |   108 |    82 |  0 | Meghalaya                    |\n| 162 |     0 |     1 |  0 | Mizoram                      |\n| 163 |    27 |    44 |  0 | Nagaland                     |\n| 164 | 12986 |  3449 |  0 | Odisha                       |\n| 165 |  2362 |  1332 |  0 | Punjab                       |\n| 166 | 20029 |  6291 |  0 | Rajasthan                    |\n| 167 |   118 |    51 |  0 | Sikkim                       |\n| 168 | 17704 |  6204 |  3 | Tamil Nadu                   |\n| 169 | 13360 |  8465 |  0 | Telangana                    |\n| 170 |  1196 |   424 |  0 | Tripura                      |\n| 171 |  6668 |  4420 |  0 | Uttar Pradesh                |\n| 172 |  1857 |  1594 |  0 | Uttarakhand                  |\n| 173 | 30611 | 13588 |  1 | West Bengal                  |\n| 174 |    56 |    51 |  0 | A &amp; N Islands                |\n| 175 |   533 |   349 |  0 | Chandigarh                   |\n| 176 |   100 |    48 |  0 | D&amp;N Haveli and Daman and Diu |\n| 177 | 13072 |  8638 |  0 | Delhi UT                     |\n| 178 |     5 |    19 |  0 | Ladakh                       |\n| 179 |     0 |     0 |  0 | Lakshadweep                  |\n| 180 |   179 |    86 |  0 | Puducherry                   |\n\n",
            "text/latex": "A data.frame: 180 × 4\n\\begin{tabular}{r|llll}\n  & Persons.Missing.this.year...Female & Persons.Missing.this.year...Male & Persons.Missing.this.year...Trans & State.UT\\\\\n  & <int> & <int> & <int> & <chr>\\\\\n\\hline\n\t1 &  5225 &  3114 &   7 & Andhra Pradesh   \\\\\n\t2 &    90 &     9 &   0 & Arunachal Pradesh\\\\\n\t3 &  2302 &   997 &   0 & Assam            \\\\\n\t4 &  6020 &  1932 & 146 & Bihar            \\\\\n\t5 &  7383 &  3449 &   0 & Chhattisgarh     \\\\\n\t6 &   274 &   304 &   0 & Goa              \\\\\n\t7 &  7712 &  4509 &   1 & Gujarat          \\\\\n\t8 &  4780 &  3334 &   0 & Haryana          \\\\\n\t9 &   852 &   512 &   0 & Himachal Pradesh \\\\\n\t10 &  1044 &   849 &   0 & Jammu \\& Kashmir  \\\\\n\t11 &   361 &   426 &   0 & Jharkhand        \\\\\n\t12 &  8757 &  5796 &   0 & Karnataka        \\\\\n\t13 &  6076 &  3201 &   8 & Kerala           \\\\\n\t14 & 26587 & 12699 &   0 & Madhya Pradesh   \\\\\n\t15 & 29279 & 23386 & 254 & Maharashtra      \\\\\n\t16 &   139 &   150 &   0 & Manipur          \\\\\n\t17 &   172 &   142 &   0 & Meghalaya        \\\\\n\t18 &     1 &     0 &   0 & Mizoram          \\\\\n\t19 &    89 &    50 &   0 & Nagaland         \\\\\n\t20 &  4187 &  1679 &   0 & Odisha           \\\\\n\t21 &  1256 &  1243 &   0 & Punjab           \\\\\n\t22 & 10230 &  4575 &   0 & Rajasthan        \\\\\n\t23 &   222 &   180 &   0 & Sikkim           \\\\\n\t24 &  9564 &  4811 &   1 & Tamil Nadu       \\\\\n\t25 &  8405 &  5465 &   0 & Telangana        \\\\\n\t26 &   866 &   460 &   0 & Tripura          \\\\\n\t27 &  4511 &  5255 &   0 & Uttar Pradesh    \\\\\n\t28 &  1081 &  1254 &   0 & Uttarakhand      \\\\\n\t29 & 28133 & 15542 &   0 & West Bengal      \\\\\n\t30 &    65 &    70 &   0 & A \\& N Islands    \\\\\n\t⋮ & ⋮ & ⋮ & ⋮ & ⋮\\\\\n\t151 &  9812 &  4240 & 15 & Gujarat                     \\\\\n\t152 &  8863 &  4732 &  3 & Haryana                     \\\\\n\t153 &  1587 &   616 &  0 & Himachal Pradesh            \\\\\n\t154 &  1835 &   838 &  0 & Jammu \\& Kashmir             \\\\\n\t155 &   494 &   353 &  0 & Jharkhand                   \\\\\n\t156 & 10962 &  5643 &  0 & Karnataka                   \\\\\n\t157 &  6183 &  3202 & 51 & Kerala                      \\\\\n\t158 & 35638 & 13419 &  0 & Madhya Pradesh              \\\\\n\t159 & 37278 & 24621 & 28 & Maharashtra                 \\\\\n\t160 &   115 &    79 &  0 & Manipur                     \\\\\n\t161 &   108 &    82 &  0 & Meghalaya                   \\\\\n\t162 &     0 &     1 &  0 & Mizoram                     \\\\\n\t163 &    27 &    44 &  0 & Nagaland                    \\\\\n\t164 & 12986 &  3449 &  0 & Odisha                      \\\\\n\t165 &  2362 &  1332 &  0 & Punjab                      \\\\\n\t166 & 20029 &  6291 &  0 & Rajasthan                   \\\\\n\t167 &   118 &    51 &  0 & Sikkim                      \\\\\n\t168 & 17704 &  6204 &  3 & Tamil Nadu                  \\\\\n\t169 & 13360 &  8465 &  0 & Telangana                   \\\\\n\t170 &  1196 &   424 &  0 & Tripura                     \\\\\n\t171 &  6668 &  4420 &  0 & Uttar Pradesh               \\\\\n\t172 &  1857 &  1594 &  0 & Uttarakhand                 \\\\\n\t173 & 30611 & 13588 &  1 & West Bengal                 \\\\\n\t174 &    56 &    51 &  0 & A \\& N Islands               \\\\\n\t175 &   533 &   349 &  0 & Chandigarh                  \\\\\n\t176 &   100 &    48 &  0 & D\\&N Haveli and Daman and Diu\\\\\n\t177 & 13072 &  8638 &  0 & Delhi UT                    \\\\\n\t178 &     5 &    19 &  0 & Ladakh                      \\\\\n\t179 &     0 &     0 &  0 & Lakshadweep                 \\\\\n\t180 &   179 &    86 &  0 & Puducherry                  \\\\\n\\end{tabular}\n",
            "text/plain": [
              "    Persons.Missing.this.year...Female Persons.Missing.this.year...Male\n",
              "1    5225                               3114                           \n",
              "2      90                                  9                           \n",
              "3    2302                                997                           \n",
              "4    6020                               1932                           \n",
              "5    7383                               3449                           \n",
              "6     274                                304                           \n",
              "7    7712                               4509                           \n",
              "8    4780                               3334                           \n",
              "9     852                                512                           \n",
              "10   1044                                849                           \n",
              "11    361                                426                           \n",
              "12   8757                               5796                           \n",
              "13   6076                               3201                           \n",
              "14  26587                              12699                           \n",
              "15  29279                              23386                           \n",
              "16    139                                150                           \n",
              "17    172                                142                           \n",
              "18      1                                  0                           \n",
              "19     89                                 50                           \n",
              "20   4187                               1679                           \n",
              "21   1256                               1243                           \n",
              "22  10230                               4575                           \n",
              "23    222                                180                           \n",
              "24   9564                               4811                           \n",
              "25   8405                               5465                           \n",
              "26    866                                460                           \n",
              "27   4511                               5255                           \n",
              "28   1081                               1254                           \n",
              "29  28133                              15542                           \n",
              "30     65                                 70                           \n",
              "⋮   ⋮                                  ⋮                               \n",
              "151  9812                               4240                           \n",
              "152  8863                               4732                           \n",
              "153  1587                                616                           \n",
              "154  1835                                838                           \n",
              "155   494                                353                           \n",
              "156 10962                               5643                           \n",
              "157  6183                               3202                           \n",
              "158 35638                              13419                           \n",
              "159 37278                              24621                           \n",
              "160   115                                 79                           \n",
              "161   108                                 82                           \n",
              "162     0                                  1                           \n",
              "163    27                                 44                           \n",
              "164 12986                               3449                           \n",
              "165  2362                               1332                           \n",
              "166 20029                               6291                           \n",
              "167   118                                 51                           \n",
              "168 17704                               6204                           \n",
              "169 13360                               8465                           \n",
              "170  1196                                424                           \n",
              "171  6668                               4420                           \n",
              "172  1857                               1594                           \n",
              "173 30611                              13588                           \n",
              "174    56                                 51                           \n",
              "175   533                                349                           \n",
              "176   100                                 48                           \n",
              "177 13072                               8638                           \n",
              "178     5                                 19                           \n",
              "179     0                                  0                           \n",
              "180   179                                 86                           \n",
              "    Persons.Missing.this.year...Trans State.UT                    \n",
              "1     7                               Andhra Pradesh              \n",
              "2     0                               Arunachal Pradesh           \n",
              "3     0                               Assam                       \n",
              "4   146                               Bihar                       \n",
              "5     0                               Chhattisgarh                \n",
              "6     0                               Goa                         \n",
              "7     1                               Gujarat                     \n",
              "8     0                               Haryana                     \n",
              "9     0                               Himachal Pradesh            \n",
              "10    0                               Jammu & Kashmir             \n",
              "11    0                               Jharkhand                   \n",
              "12    0                               Karnataka                   \n",
              "13    8                               Kerala                      \n",
              "14    0                               Madhya Pradesh              \n",
              "15  254                               Maharashtra                 \n",
              "16    0                               Manipur                     \n",
              "17    0                               Meghalaya                   \n",
              "18    0                               Mizoram                     \n",
              "19    0                               Nagaland                    \n",
              "20    0                               Odisha                      \n",
              "21    0                               Punjab                      \n",
              "22    0                               Rajasthan                   \n",
              "23    0                               Sikkim                      \n",
              "24    1                               Tamil Nadu                  \n",
              "25    0                               Telangana                   \n",
              "26    0                               Tripura                     \n",
              "27    0                               Uttar Pradesh               \n",
              "28    0                               Uttarakhand                 \n",
              "29    0                               West Bengal                 \n",
              "30    0                               A & N Islands               \n",
              "⋮   ⋮                                 ⋮                           \n",
              "151 15                                Gujarat                     \n",
              "152  3                                Haryana                     \n",
              "153  0                                Himachal Pradesh            \n",
              "154  0                                Jammu & Kashmir             \n",
              "155  0                                Jharkhand                   \n",
              "156  0                                Karnataka                   \n",
              "157 51                                Kerala                      \n",
              "158  0                                Madhya Pradesh              \n",
              "159 28                                Maharashtra                 \n",
              "160  0                                Manipur                     \n",
              "161  0                                Meghalaya                   \n",
              "162  0                                Mizoram                     \n",
              "163  0                                Nagaland                    \n",
              "164  0                                Odisha                      \n",
              "165  0                                Punjab                      \n",
              "166  0                                Rajasthan                   \n",
              "167  0                                Sikkim                      \n",
              "168  3                                Tamil Nadu                  \n",
              "169  0                                Telangana                   \n",
              "170  0                                Tripura                     \n",
              "171  0                                Uttar Pradesh               \n",
              "172  0                                Uttarakhand                 \n",
              "173  1                                West Bengal                 \n",
              "174  0                                A & N Islands               \n",
              "175  0                                Chandigarh                  \n",
              "176  0                                D&N Haveli and Daman and Diu\n",
              "177  0                                Delhi UT                    \n",
              "178  0                                Ladakh                      \n",
              "179  0                                Lakshadweep                 \n",
              "180  0                                Puducherry                  "
            ]
          },
          "metadata": {}
        }
      ]
    },
    {
      "cell_type": "code",
      "source": [
        "df_grp_state = state_missing %>% group_by(State.UT)  %>%\n",
        "                    summarise(total_missing_female = sum(Persons.Missing.this.year...Female),\n",
        "                              total_missing_male = sum(Persons.Missing.this.year...Male),\n",
        "                              total_missing_trans = sum(Persons.Missing.this.year...Trans),\n",
        "                              .groups = 'drop')\n",
        "df_grp_state"
      ],
      "metadata": {
        "colab": {
          "base_uri": "https://localhost:8080/",
          "height": 1000
        },
        "id": "LfNDX9KtJU2j",
        "outputId": "1dce4418-84e1-42b5-9e81-f171eb8c24b7"
      },
      "execution_count": 23,
      "outputs": [
        {
          "output_type": "display_data",
          "data": {
            "text/html": [
              "<table class=\"dataframe\">\n",
              "<caption>A tibble: 38 × 4</caption>\n",
              "<thead>\n",
              "\t<tr><th scope=col>State.UT</th><th scope=col>total_missing_female</th><th scope=col>total_missing_male</th><th scope=col>total_missing_trans</th></tr>\n",
              "\t<tr><th scope=col>&lt;chr&gt;</th><th scope=col>&lt;int&gt;</th><th scope=col>&lt;int&gt;</th><th scope=col>&lt;int&gt;</th></tr>\n",
              "</thead>\n",
              "<tbody>\n",
              "\t<tr><td><span style=white-space:pre-wrap>A &amp; N Islands               </span></td><td><span style=white-space:pre-wrap>   353</span></td><td><span style=white-space:pre-wrap>   331</span></td><td><span style=white-space:pre-wrap>  0</span></td></tr>\n",
              "\t<tr><td>Andhra Pradesh              </td><td> 35574</td><td> 17277</td><td>514</td></tr>\n",
              "\t<tr><td>Arunachal Pradesh           </td><td>   156</td><td>    88</td><td>  0</td></tr>\n",
              "\t<tr><td>Assam                       </td><td> 15611</td><td>  7164</td><td> 20</td></tr>\n",
              "\t<tr><td>Bihar                       </td><td> 34679</td><td>  9124</td><td>221</td></tr>\n",
              "\t<tr><td>Chandigarh                  </td><td>  2135</td><td>  1450</td><td>  1</td></tr>\n",
              "\t<tr><td>Chhattisgarh                </td><td> 49125</td><td> 18184</td><td>  0</td></tr>\n",
              "\t<tr><td><span style=white-space:pre-wrap>D&amp;N Haveli                  </span></td><td><span style=white-space:pre-wrap>   121</span></td><td><span style=white-space:pre-wrap>    50</span></td><td><span style=white-space:pre-wrap>  0</span></td></tr>\n",
              "\t<tr><td>D&amp;N Haveli and Daman and Diu</td><td><span style=white-space:pre-wrap>   151</span></td><td><span style=white-space:pre-wrap>    95</span></td><td><span style=white-space:pre-wrap>  0</span></td></tr>\n",
              "\t<tr><td><span style=white-space:pre-wrap>Daman &amp; Diu                 </span></td><td><span style=white-space:pre-wrap>   208</span></td><td><span style=white-space:pre-wrap>   151</span></td><td><span style=white-space:pre-wrap>  0</span></td></tr>\n",
              "\t<tr><td>Delhi UT                    </td><td> 62734</td><td> 48087</td><td>  3</td></tr>\n",
              "\t<tr><td>Goa                         </td><td>  1220</td><td>  1437</td><td>  0</td></tr>\n",
              "\t<tr><td>Gujarat                     </td><td> 44328</td><td> 22376</td><td> 39</td></tr>\n",
              "\t<tr><td>Haryana                     </td><td> 33311</td><td> 19579</td><td>  3</td></tr>\n",
              "\t<tr><td>Himachal Pradesh            </td><td>  6069</td><td>  2923</td><td>  0</td></tr>\n",
              "\t<tr><td><span style=white-space:pre-wrap>Jammu &amp; Kashmir             </span></td><td><span style=white-space:pre-wrap>  7095</span></td><td><span style=white-space:pre-wrap>  4254</span></td><td><span style=white-space:pre-wrap>  0</span></td></tr>\n",
              "\t<tr><td>Jharkhand                   </td><td>  2099</td><td>  1851</td><td>  4</td></tr>\n",
              "\t<tr><td>Karnataka                   </td><td> 48943</td><td> 27671</td><td>  7</td></tr>\n",
              "\t<tr><td>Kerala                      </td><td> 35336</td><td> 17460</td><td>122</td></tr>\n",
              "\t<tr><td>Ladakh                      </td><td>    13</td><td>    31</td><td>  0</td></tr>\n",
              "\t<tr><td>Lakshadweep                 </td><td>     0</td><td>     6</td><td>  0</td></tr>\n",
              "\t<tr><td>Madhya Pradesh              </td><td>155467</td><td> 63173</td><td>  3</td></tr>\n",
              "\t<tr><td>Maharashtra                 </td><td>171310</td><td>121779</td><td>283</td></tr>\n",
              "\t<tr><td>Manipur                     </td><td>   782</td><td>   614</td><td>  0</td></tr>\n",
              "\t<tr><td>Meghalaya                   </td><td>   748</td><td>   602</td><td>  0</td></tr>\n",
              "\t<tr><td>Mizoram                     </td><td>     1</td><td>     4</td><td>  0</td></tr>\n",
              "\t<tr><td>Nagaland                    </td><td>   266</td><td>   186</td><td>  0</td></tr>\n",
              "\t<tr><td>Odisha                      </td><td> 51239</td><td> 14133</td><td>  0</td></tr>\n",
              "\t<tr><td>Puducherry                  </td><td>   734</td><td>   383</td><td>  0</td></tr>\n",
              "\t<tr><td>Punjab                      </td><td>  9151</td><td>  7160</td><td>  0</td></tr>\n",
              "\t<tr><td>Rajasthan                   </td><td> 75540</td><td> 26557</td><td>  3</td></tr>\n",
              "\t<tr><td>Sikkim                      </td><td>   652</td><td>   428</td><td>  0</td></tr>\n",
              "\t<tr><td>Tamil Nadu                  </td><td> 61888</td><td> 25487</td><td>  9</td></tr>\n",
              "\t<tr><td>Telangana                   </td><td> 52875</td><td> 32124</td><td>  2</td></tr>\n",
              "\t<tr><td>Tripura                     </td><td>  5344</td><td>  2259</td><td>  0</td></tr>\n",
              "\t<tr><td>Uttar Pradesh               </td><td> 27804</td><td> 23851</td><td>  0</td></tr>\n",
              "\t<tr><td>Uttarakhand                 </td><td>  6438</td><td>  5750</td><td>  0</td></tr>\n",
              "\t<tr><td>West Bengal                 </td><td>148776</td><td> 72741</td><td>  1</td></tr>\n",
              "</tbody>\n",
              "</table>\n"
            ],
            "text/markdown": "\nA tibble: 38 × 4\n\n| State.UT &lt;chr&gt; | total_missing_female &lt;int&gt; | total_missing_male &lt;int&gt; | total_missing_trans &lt;int&gt; |\n|---|---|---|---|\n| A &amp; N Islands                |    353 |    331 |   0 |\n| Andhra Pradesh               |  35574 |  17277 | 514 |\n| Arunachal Pradesh            |    156 |     88 |   0 |\n| Assam                        |  15611 |   7164 |  20 |\n| Bihar                        |  34679 |   9124 | 221 |\n| Chandigarh                   |   2135 |   1450 |   1 |\n| Chhattisgarh                 |  49125 |  18184 |   0 |\n| D&amp;N Haveli                   |    121 |     50 |   0 |\n| D&amp;N Haveli and Daman and Diu |    151 |     95 |   0 |\n| Daman &amp; Diu                  |    208 |    151 |   0 |\n| Delhi UT                     |  62734 |  48087 |   3 |\n| Goa                          |   1220 |   1437 |   0 |\n| Gujarat                      |  44328 |  22376 |  39 |\n| Haryana                      |  33311 |  19579 |   3 |\n| Himachal Pradesh             |   6069 |   2923 |   0 |\n| Jammu &amp; Kashmir              |   7095 |   4254 |   0 |\n| Jharkhand                    |   2099 |   1851 |   4 |\n| Karnataka                    |  48943 |  27671 |   7 |\n| Kerala                       |  35336 |  17460 | 122 |\n| Ladakh                       |     13 |     31 |   0 |\n| Lakshadweep                  |      0 |      6 |   0 |\n| Madhya Pradesh               | 155467 |  63173 |   3 |\n| Maharashtra                  | 171310 | 121779 | 283 |\n| Manipur                      |    782 |    614 |   0 |\n| Meghalaya                    |    748 |    602 |   0 |\n| Mizoram                      |      1 |      4 |   0 |\n| Nagaland                     |    266 |    186 |   0 |\n| Odisha                       |  51239 |  14133 |   0 |\n| Puducherry                   |    734 |    383 |   0 |\n| Punjab                       |   9151 |   7160 |   0 |\n| Rajasthan                    |  75540 |  26557 |   3 |\n| Sikkim                       |    652 |    428 |   0 |\n| Tamil Nadu                   |  61888 |  25487 |   9 |\n| Telangana                    |  52875 |  32124 |   2 |\n| Tripura                      |   5344 |   2259 |   0 |\n| Uttar Pradesh                |  27804 |  23851 |   0 |\n| Uttarakhand                  |   6438 |   5750 |   0 |\n| West Bengal                  | 148776 |  72741 |   1 |\n\n",
            "text/latex": "A tibble: 38 × 4\n\\begin{tabular}{llll}\n State.UT & total\\_missing\\_female & total\\_missing\\_male & total\\_missing\\_trans\\\\\n <chr> & <int> & <int> & <int>\\\\\n\\hline\n\t A \\& N Islands                &    353 &    331 &   0\\\\\n\t Andhra Pradesh               &  35574 &  17277 & 514\\\\\n\t Arunachal Pradesh            &    156 &     88 &   0\\\\\n\t Assam                        &  15611 &   7164 &  20\\\\\n\t Bihar                        &  34679 &   9124 & 221\\\\\n\t Chandigarh                   &   2135 &   1450 &   1\\\\\n\t Chhattisgarh                 &  49125 &  18184 &   0\\\\\n\t D\\&N Haveli                   &    121 &     50 &   0\\\\\n\t D\\&N Haveli and Daman and Diu &    151 &     95 &   0\\\\\n\t Daman \\& Diu                  &    208 &    151 &   0\\\\\n\t Delhi UT                     &  62734 &  48087 &   3\\\\\n\t Goa                          &   1220 &   1437 &   0\\\\\n\t Gujarat                      &  44328 &  22376 &  39\\\\\n\t Haryana                      &  33311 &  19579 &   3\\\\\n\t Himachal Pradesh             &   6069 &   2923 &   0\\\\\n\t Jammu \\& Kashmir              &   7095 &   4254 &   0\\\\\n\t Jharkhand                    &   2099 &   1851 &   4\\\\\n\t Karnataka                    &  48943 &  27671 &   7\\\\\n\t Kerala                       &  35336 &  17460 & 122\\\\\n\t Ladakh                       &     13 &     31 &   0\\\\\n\t Lakshadweep                  &      0 &      6 &   0\\\\\n\t Madhya Pradesh               & 155467 &  63173 &   3\\\\\n\t Maharashtra                  & 171310 & 121779 & 283\\\\\n\t Manipur                      &    782 &    614 &   0\\\\\n\t Meghalaya                    &    748 &    602 &   0\\\\\n\t Mizoram                      &      1 &      4 &   0\\\\\n\t Nagaland                     &    266 &    186 &   0\\\\\n\t Odisha                       &  51239 &  14133 &   0\\\\\n\t Puducherry                   &    734 &    383 &   0\\\\\n\t Punjab                       &   9151 &   7160 &   0\\\\\n\t Rajasthan                    &  75540 &  26557 &   3\\\\\n\t Sikkim                       &    652 &    428 &   0\\\\\n\t Tamil Nadu                   &  61888 &  25487 &   9\\\\\n\t Telangana                    &  52875 &  32124 &   2\\\\\n\t Tripura                      &   5344 &   2259 &   0\\\\\n\t Uttar Pradesh                &  27804 &  23851 &   0\\\\\n\t Uttarakhand                  &   6438 &   5750 &   0\\\\\n\t West Bengal                  & 148776 &  72741 &   1\\\\\n\\end{tabular}\n",
            "text/plain": [
              "   State.UT                     total_missing_female total_missing_male\n",
              "1  A & N Islands                   353                  331            \n",
              "2  Andhra Pradesh                35574                17277            \n",
              "3  Arunachal Pradesh               156                   88            \n",
              "4  Assam                         15611                 7164            \n",
              "5  Bihar                         34679                 9124            \n",
              "6  Chandigarh                     2135                 1450            \n",
              "7  Chhattisgarh                  49125                18184            \n",
              "8  D&N Haveli                      121                   50            \n",
              "9  D&N Haveli and Daman and Diu    151                   95            \n",
              "10 Daman & Diu                     208                  151            \n",
              "11 Delhi UT                      62734                48087            \n",
              "12 Goa                            1220                 1437            \n",
              "13 Gujarat                       44328                22376            \n",
              "14 Haryana                       33311                19579            \n",
              "15 Himachal Pradesh               6069                 2923            \n",
              "16 Jammu & Kashmir                7095                 4254            \n",
              "17 Jharkhand                      2099                 1851            \n",
              "18 Karnataka                     48943                27671            \n",
              "19 Kerala                        35336                17460            \n",
              "20 Ladakh                           13                   31            \n",
              "21 Lakshadweep                       0                    6            \n",
              "22 Madhya Pradesh               155467                63173            \n",
              "23 Maharashtra                  171310               121779            \n",
              "24 Manipur                         782                  614            \n",
              "25 Meghalaya                       748                  602            \n",
              "26 Mizoram                           1                    4            \n",
              "27 Nagaland                        266                  186            \n",
              "28 Odisha                        51239                14133            \n",
              "29 Puducherry                      734                  383            \n",
              "30 Punjab                         9151                 7160            \n",
              "31 Rajasthan                     75540                26557            \n",
              "32 Sikkim                          652                  428            \n",
              "33 Tamil Nadu                    61888                25487            \n",
              "34 Telangana                     52875                32124            \n",
              "35 Tripura                        5344                 2259            \n",
              "36 Uttar Pradesh                 27804                23851            \n",
              "37 Uttarakhand                    6438                 5750            \n",
              "38 West Bengal                  148776                72741            \n",
              "   total_missing_trans\n",
              "1    0                \n",
              "2  514                \n",
              "3    0                \n",
              "4   20                \n",
              "5  221                \n",
              "6    1                \n",
              "7    0                \n",
              "8    0                \n",
              "9    0                \n",
              "10   0                \n",
              "11   3                \n",
              "12   0                \n",
              "13  39                \n",
              "14   3                \n",
              "15   0                \n",
              "16   0                \n",
              "17   4                \n",
              "18   7                \n",
              "19 122                \n",
              "20   0                \n",
              "21   0                \n",
              "22   3                \n",
              "23 283                \n",
              "24   0                \n",
              "25   0                \n",
              "26   0                \n",
              "27   0                \n",
              "28   0                \n",
              "29   0                \n",
              "30   0                \n",
              "31   3                \n",
              "32   0                \n",
              "33   9                \n",
              "34   2                \n",
              "35   0                \n",
              "36   0                \n",
              "37   0                \n",
              "38   1                "
            ]
          },
          "metadata": {}
        }
      ]
    },
    {
      "cell_type": "code",
      "source": [
        "new_row <- c(\"D&N Haveli and Daman and Diu\",480,296,0)"
      ],
      "metadata": {
        "id": "fHNtVASKMFcM"
      },
      "execution_count": 24,
      "outputs": []
    },
    {
      "cell_type": "code",
      "source": [
        "df_grp_state <-df_grp_state[-c(8,9,10),]"
      ],
      "metadata": {
        "id": "9i3II_4YJU74"
      },
      "execution_count": 25,
      "outputs": []
    },
    {
      "cell_type": "code",
      "source": [
        "df_grp_state[nrow(df_grp_state)+1,] <- list(\"D&N Haveli and Daman and Diu\",480,296,0)"
      ],
      "metadata": {
        "id": "LMGPUhvDSCzk"
      },
      "execution_count": 26,
      "outputs": []
    },
    {
      "cell_type": "code",
      "source": [
        "class(df_grp_state$total_missing_female)=\"int\"\n",
        "class(df_grp_state$total_missing_male)=\"int\"\n",
        "class(df_grp_state$total_missing_trans)=\"int\"\n",
        "class(df_grp_state$State.UT)=\"int\"\n",
        "df_grp_state"
      ],
      "metadata": {
        "colab": {
          "base_uri": "https://localhost:8080/",
          "height": 1000
        },
        "id": "OiHA-XrdUEGs",
        "outputId": "e378126d-7575-48e8-a2fb-651d0a6d9ec2"
      },
      "execution_count": 27,
      "outputs": [
        {
          "output_type": "display_data",
          "data": {
            "text/html": [
              "<table class=\"dataframe\">\n",
              "<caption>A tibble: 36 × 4</caption>\n",
              "<thead>\n",
              "\t<tr><th scope=col>State.UT</th><th scope=col>total_missing_female</th><th scope=col>total_missing_male</th><th scope=col>total_missing_trans</th></tr>\n",
              "\t<tr><th scope=col>&lt;int&gt;</th><th scope=col>&lt;int&gt;</th><th scope=col>&lt;int&gt;</th><th scope=col>&lt;int&gt;</th></tr>\n",
              "</thead>\n",
              "<tbody>\n",
              "\t<tr><td><span style=white-space:pre-wrap>A &amp; N Islands               </span></td><td><span style=white-space:pre-wrap>   353</span></td><td><span style=white-space:pre-wrap>   331</span></td><td><span style=white-space:pre-wrap>  0</span></td></tr>\n",
              "\t<tr><td>Andhra Pradesh              </td><td> 35574</td><td> 17277</td><td>514</td></tr>\n",
              "\t<tr><td>Arunachal Pradesh           </td><td>   156</td><td>    88</td><td>  0</td></tr>\n",
              "\t<tr><td>Assam                       </td><td> 15611</td><td>  7164</td><td> 20</td></tr>\n",
              "\t<tr><td>Bihar                       </td><td> 34679</td><td>  9124</td><td>221</td></tr>\n",
              "\t<tr><td>Chandigarh                  </td><td>  2135</td><td>  1450</td><td>  1</td></tr>\n",
              "\t<tr><td>Chhattisgarh                </td><td> 49125</td><td> 18184</td><td>  0</td></tr>\n",
              "\t<tr><td>Delhi UT                    </td><td> 62734</td><td> 48087</td><td>  3</td></tr>\n",
              "\t<tr><td>Goa                         </td><td>  1220</td><td>  1437</td><td>  0</td></tr>\n",
              "\t<tr><td>Gujarat                     </td><td> 44328</td><td> 22376</td><td> 39</td></tr>\n",
              "\t<tr><td>Haryana                     </td><td> 33311</td><td> 19579</td><td>  3</td></tr>\n",
              "\t<tr><td>Himachal Pradesh            </td><td>  6069</td><td>  2923</td><td>  0</td></tr>\n",
              "\t<tr><td><span style=white-space:pre-wrap>Jammu &amp; Kashmir             </span></td><td><span style=white-space:pre-wrap>  7095</span></td><td><span style=white-space:pre-wrap>  4254</span></td><td><span style=white-space:pre-wrap>  0</span></td></tr>\n",
              "\t<tr><td>Jharkhand                   </td><td>  2099</td><td>  1851</td><td>  4</td></tr>\n",
              "\t<tr><td>Karnataka                   </td><td> 48943</td><td> 27671</td><td>  7</td></tr>\n",
              "\t<tr><td>Kerala                      </td><td> 35336</td><td> 17460</td><td>122</td></tr>\n",
              "\t<tr><td>Ladakh                      </td><td>    13</td><td>    31</td><td>  0</td></tr>\n",
              "\t<tr><td>Lakshadweep                 </td><td>     0</td><td>     6</td><td>  0</td></tr>\n",
              "\t<tr><td>Madhya Pradesh              </td><td>155467</td><td> 63173</td><td>  3</td></tr>\n",
              "\t<tr><td>Maharashtra                 </td><td>171310</td><td>121779</td><td>283</td></tr>\n",
              "\t<tr><td>Manipur                     </td><td>   782</td><td>   614</td><td>  0</td></tr>\n",
              "\t<tr><td>Meghalaya                   </td><td>   748</td><td>   602</td><td>  0</td></tr>\n",
              "\t<tr><td>Mizoram                     </td><td>     1</td><td>     4</td><td>  0</td></tr>\n",
              "\t<tr><td>Nagaland                    </td><td>   266</td><td>   186</td><td>  0</td></tr>\n",
              "\t<tr><td>Odisha                      </td><td> 51239</td><td> 14133</td><td>  0</td></tr>\n",
              "\t<tr><td>Puducherry                  </td><td>   734</td><td>   383</td><td>  0</td></tr>\n",
              "\t<tr><td>Punjab                      </td><td>  9151</td><td>  7160</td><td>  0</td></tr>\n",
              "\t<tr><td>Rajasthan                   </td><td> 75540</td><td> 26557</td><td>  3</td></tr>\n",
              "\t<tr><td>Sikkim                      </td><td>   652</td><td>   428</td><td>  0</td></tr>\n",
              "\t<tr><td>Tamil Nadu                  </td><td> 61888</td><td> 25487</td><td>  9</td></tr>\n",
              "\t<tr><td>Telangana                   </td><td> 52875</td><td> 32124</td><td>  2</td></tr>\n",
              "\t<tr><td>Tripura                     </td><td>  5344</td><td>  2259</td><td>  0</td></tr>\n",
              "\t<tr><td>Uttar Pradesh               </td><td> 27804</td><td> 23851</td><td>  0</td></tr>\n",
              "\t<tr><td>Uttarakhand                 </td><td>  6438</td><td>  5750</td><td>  0</td></tr>\n",
              "\t<tr><td>West Bengal                 </td><td>148776</td><td> 72741</td><td>  1</td></tr>\n",
              "\t<tr><td>D&amp;N Haveli and Daman and Diu</td><td><span style=white-space:pre-wrap>   480</span></td><td><span style=white-space:pre-wrap>   296</span></td><td><span style=white-space:pre-wrap>  0</span></td></tr>\n",
              "</tbody>\n",
              "</table>\n"
            ],
            "text/markdown": "\nA tibble: 36 × 4\n\n| State.UT &lt;int&gt; | total_missing_female &lt;int&gt; | total_missing_male &lt;int&gt; | total_missing_trans &lt;int&gt; |\n|---|---|---|---|\n| A &amp; N Islands                |    353 |    331 |   0 |\n| Andhra Pradesh               |  35574 |  17277 | 514 |\n| Arunachal Pradesh            |    156 |     88 |   0 |\n| Assam                        |  15611 |   7164 |  20 |\n| Bihar                        |  34679 |   9124 | 221 |\n| Chandigarh                   |   2135 |   1450 |   1 |\n| Chhattisgarh                 |  49125 |  18184 |   0 |\n| Delhi UT                     |  62734 |  48087 |   3 |\n| Goa                          |   1220 |   1437 |   0 |\n| Gujarat                      |  44328 |  22376 |  39 |\n| Haryana                      |  33311 |  19579 |   3 |\n| Himachal Pradesh             |   6069 |   2923 |   0 |\n| Jammu &amp; Kashmir              |   7095 |   4254 |   0 |\n| Jharkhand                    |   2099 |   1851 |   4 |\n| Karnataka                    |  48943 |  27671 |   7 |\n| Kerala                       |  35336 |  17460 | 122 |\n| Ladakh                       |     13 |     31 |   0 |\n| Lakshadweep                  |      0 |      6 |   0 |\n| Madhya Pradesh               | 155467 |  63173 |   3 |\n| Maharashtra                  | 171310 | 121779 | 283 |\n| Manipur                      |    782 |    614 |   0 |\n| Meghalaya                    |    748 |    602 |   0 |\n| Mizoram                      |      1 |      4 |   0 |\n| Nagaland                     |    266 |    186 |   0 |\n| Odisha                       |  51239 |  14133 |   0 |\n| Puducherry                   |    734 |    383 |   0 |\n| Punjab                       |   9151 |   7160 |   0 |\n| Rajasthan                    |  75540 |  26557 |   3 |\n| Sikkim                       |    652 |    428 |   0 |\n| Tamil Nadu                   |  61888 |  25487 |   9 |\n| Telangana                    |  52875 |  32124 |   2 |\n| Tripura                      |   5344 |   2259 |   0 |\n| Uttar Pradesh                |  27804 |  23851 |   0 |\n| Uttarakhand                  |   6438 |   5750 |   0 |\n| West Bengal                  | 148776 |  72741 |   1 |\n| D&amp;N Haveli and Daman and Diu |    480 |    296 |   0 |\n\n",
            "text/latex": "A tibble: 36 × 4\n\\begin{tabular}{llll}\n State.UT & total\\_missing\\_female & total\\_missing\\_male & total\\_missing\\_trans\\\\\n <int> & <int> & <int> & <int>\\\\\n\\hline\n\t A \\& N Islands                &    353 &    331 &   0\\\\\n\t Andhra Pradesh               &  35574 &  17277 & 514\\\\\n\t Arunachal Pradesh            &    156 &     88 &   0\\\\\n\t Assam                        &  15611 &   7164 &  20\\\\\n\t Bihar                        &  34679 &   9124 & 221\\\\\n\t Chandigarh                   &   2135 &   1450 &   1\\\\\n\t Chhattisgarh                 &  49125 &  18184 &   0\\\\\n\t Delhi UT                     &  62734 &  48087 &   3\\\\\n\t Goa                          &   1220 &   1437 &   0\\\\\n\t Gujarat                      &  44328 &  22376 &  39\\\\\n\t Haryana                      &  33311 &  19579 &   3\\\\\n\t Himachal Pradesh             &   6069 &   2923 &   0\\\\\n\t Jammu \\& Kashmir              &   7095 &   4254 &   0\\\\\n\t Jharkhand                    &   2099 &   1851 &   4\\\\\n\t Karnataka                    &  48943 &  27671 &   7\\\\\n\t Kerala                       &  35336 &  17460 & 122\\\\\n\t Ladakh                       &     13 &     31 &   0\\\\\n\t Lakshadweep                  &      0 &      6 &   0\\\\\n\t Madhya Pradesh               & 155467 &  63173 &   3\\\\\n\t Maharashtra                  & 171310 & 121779 & 283\\\\\n\t Manipur                      &    782 &    614 &   0\\\\\n\t Meghalaya                    &    748 &    602 &   0\\\\\n\t Mizoram                      &      1 &      4 &   0\\\\\n\t Nagaland                     &    266 &    186 &   0\\\\\n\t Odisha                       &  51239 &  14133 &   0\\\\\n\t Puducherry                   &    734 &    383 &   0\\\\\n\t Punjab                       &   9151 &   7160 &   0\\\\\n\t Rajasthan                    &  75540 &  26557 &   3\\\\\n\t Sikkim                       &    652 &    428 &   0\\\\\n\t Tamil Nadu                   &  61888 &  25487 &   9\\\\\n\t Telangana                    &  52875 &  32124 &   2\\\\\n\t Tripura                      &   5344 &   2259 &   0\\\\\n\t Uttar Pradesh                &  27804 &  23851 &   0\\\\\n\t Uttarakhand                  &   6438 &   5750 &   0\\\\\n\t West Bengal                  & 148776 &  72741 &   1\\\\\n\t D\\&N Haveli and Daman and Diu &    480 &    296 &   0\\\\\n\\end{tabular}\n",
            "text/plain": [
              "   State.UT                     total_missing_female total_missing_male\n",
              "1  A & N Islands                   353                  331            \n",
              "2  Andhra Pradesh                35574                17277            \n",
              "3  Arunachal Pradesh               156                   88            \n",
              "4  Assam                         15611                 7164            \n",
              "5  Bihar                         34679                 9124            \n",
              "6  Chandigarh                     2135                 1450            \n",
              "7  Chhattisgarh                  49125                18184            \n",
              "8  Delhi UT                      62734                48087            \n",
              "9  Goa                            1220                 1437            \n",
              "10 Gujarat                       44328                22376            \n",
              "11 Haryana                       33311                19579            \n",
              "12 Himachal Pradesh               6069                 2923            \n",
              "13 Jammu & Kashmir                7095                 4254            \n",
              "14 Jharkhand                      2099                 1851            \n",
              "15 Karnataka                     48943                27671            \n",
              "16 Kerala                        35336                17460            \n",
              "17 Ladakh                           13                   31            \n",
              "18 Lakshadweep                       0                    6            \n",
              "19 Madhya Pradesh               155467                63173            \n",
              "20 Maharashtra                  171310               121779            \n",
              "21 Manipur                         782                  614            \n",
              "22 Meghalaya                       748                  602            \n",
              "23 Mizoram                           1                    4            \n",
              "24 Nagaland                        266                  186            \n",
              "25 Odisha                        51239                14133            \n",
              "26 Puducherry                      734                  383            \n",
              "27 Punjab                         9151                 7160            \n",
              "28 Rajasthan                     75540                26557            \n",
              "29 Sikkim                          652                  428            \n",
              "30 Tamil Nadu                    61888                25487            \n",
              "31 Telangana                     52875                32124            \n",
              "32 Tripura                        5344                 2259            \n",
              "33 Uttar Pradesh                 27804                23851            \n",
              "34 Uttarakhand                    6438                 5750            \n",
              "35 West Bengal                  148776                72741            \n",
              "36 D&N Haveli and Daman and Diu    480                  296            \n",
              "   total_missing_trans\n",
              "1    0                \n",
              "2  514                \n",
              "3    0                \n",
              "4   20                \n",
              "5  221                \n",
              "6    1                \n",
              "7    0                \n",
              "8    3                \n",
              "9    0                \n",
              "10  39                \n",
              "11   3                \n",
              "12   0                \n",
              "13   0                \n",
              "14   4                \n",
              "15   7                \n",
              "16 122                \n",
              "17   0                \n",
              "18   0                \n",
              "19   3                \n",
              "20 283                \n",
              "21   0                \n",
              "22   0                \n",
              "23   0                \n",
              "24   0                \n",
              "25   0                \n",
              "26   0                \n",
              "27   0                \n",
              "28   3                \n",
              "29   0                \n",
              "30   9                \n",
              "31   2                \n",
              "32   0                \n",
              "33   0                \n",
              "34   0                \n",
              "35   1                \n",
              "36   0                "
            ]
          },
          "metadata": {}
        }
      ]
    },
    {
      "cell_type": "code",
      "source": [
        "colors = c(\"yellow\", \"blue\", \"#ABC782\")\n",
        "gender <- c(\"Female\", \"Male\", \"Trans\")\n",
        "state <- c(\"A & N Islands\",\"Andhra Pradesh\",\"Arunachal Pradesh\",\"Assam\",\"Bihar\",\"Chandigarh\",\"Chhattisgarh\",\"Delhi UT\",\"Goa\",\"Gujarat\",\"Haryana\",\"Himachal Pradesh\",\"Jammu & Kashmir\",\"Jharkhand\",\"Karnataka\",\"Kerala\",\"Ladakh\",\"Lakshadweep\",\"Madhya Pradesh\",\"Maharashtra\",\"Manipur\",\"Meghalaya\",\"Mizoram\",\"Nagaland\",\"Odisha\",\"Puducherry\",\"Punjab\",\"Rajasthan\",\"Sikkim\",\"Tamil Nadu\",\"Telangana\",\"Tripura\",\"Uttar Pradesh\",\"Uttarakhand\",\"West Bengal\",\"D&N Haveli and Daman and Diu\")\n",
        "\n",
        "\n",
        "mx <- t(as.matrix(df_grp_state[-1]))\n",
        "colnames(mx) <- df_grp_state$State.UT\n",
        "\n",
        "# Create the bar chart\n",
        "par(mar=c(15, 4,3,1)) # 15 line height for bottom margin\n",
        "#dev.new(width=500,height=500,unit=\"px\")\n",
        "barplot(mx, main = \"State wise missing persons for all years\", names.arg=state, \n",
        "                          col = colors,las=2)   #geom_bar(width = 0.98)\n",
        "                            #geom_text(aes(label = signif(value)), nudge_y = 3)\n",
        "\n",
        "# Add the legend to the chart\n",
        "legend(\"topleft\", gender, fill = colors)\n",
        "\n"
      ],
      "metadata": {
        "colab": {
          "base_uri": "https://localhost:8080/",
          "height": 437
        },
        "id": "F2z08MdkNzrU",
        "outputId": "93254230-a5d5-460c-ae51-bb4a98a5d3e4"
      },
      "execution_count": 28,
      "outputs": [
        {
          "output_type": "display_data",
          "data": {
            "text/plain": [
              "Plot with title “State wise missing persons for all years”"
            ],
            "image/png": "[encoded data removed]"
          },
          "metadata": {
            "image/png": {
              "width": 420,
              "height": 420
            }
          }
        }
      ]
    },
    {
      "cell_type": "markdown",
      "source": [
        "## Q2 ST/UT wise total recovered cases yearly based"
      ],
      "metadata": {
        "id": "XQzvXuVhYPdB"
      }
    },
    {
      "cell_type": "markdown",
      "source": [
        "### Year wise"
      ],
      "metadata": {
        "id": "hpVwbpb8QFqE"
      }
    },
    {
      "cell_type": "code",
      "source": [
        "gender_recovered <- subset(df,select=c(\"Total.Recovered.Traced.this.year...Female\",\"Total.Recovered.Traced.this.year...Male\",\"Total.Recovered.Traced.this.year...Trans\",\"Year\"))\n",
        "gender_recovered"
      ],
      "metadata": {
        "id": "NIfRW-FCgEkz",
        "colab": {
          "base_uri": "https://localhost:8080/",
          "height": 1000
        },
        "outputId": "428284ab-cf0e-4122-9321-e7132bfe994c"
      },
      "execution_count": 29,
      "outputs": [
        {
          "output_type": "display_data",
          "data": {
            "text/html": [
              "<table class=\"dataframe\">\n",
              "<caption>A data.frame: 180 × 4</caption>\n",
              "<thead>\n",
              "\t<tr><th></th><th scope=col>Total.Recovered.Traced.this.year...Female</th><th scope=col>Total.Recovered.Traced.this.year...Male</th><th scope=col>Total.Recovered.Traced.this.year...Trans</th><th scope=col>Year</th></tr>\n",
              "\t<tr><th></th><th scope=col>&lt;int&gt;</th><th scope=col>&lt;int&gt;</th><th scope=col>&lt;int&gt;</th><th scope=col>&lt;int&gt;</th></tr>\n",
              "</thead>\n",
              "<tbody>\n",
              "\t<tr><th scope=row>1</th><td> 6423</td><td> 3747</td><td>  7</td><td>2017</td></tr>\n",
              "\t<tr><th scope=row>2</th><td>   96</td><td>    7</td><td>  0</td><td>2017</td></tr>\n",
              "\t<tr><th scope=row>3</th><td> 2314</td><td> 1015</td><td>  0</td><td>2017</td></tr>\n",
              "\t<tr><th scope=row>4</th><td> 3561</td><td> 1045</td><td>104</td><td>2017</td></tr>\n",
              "\t<tr><th scope=row>5</th><td> 6501</td><td> 2945</td><td>  0</td><td>2017</td></tr>\n",
              "\t<tr><th scope=row>6</th><td>  254</td><td>  261</td><td>  0</td><td>2017</td></tr>\n",
              "\t<tr><th scope=row>7</th><td> 8481</td><td> 5291</td><td>  1</td><td>2017</td></tr>\n",
              "\t<tr><th scope=row>8</th><td> 5003</td><td> 3555</td><td>  0</td><td>2017</td></tr>\n",
              "\t<tr><th scope=row>9</th><td>  881</td><td>  648</td><td>  0</td><td>2017</td></tr>\n",
              "\t<tr><th scope=row>10</th><td>  942</td><td>  904</td><td>  0</td><td>2017</td></tr>\n",
              "\t<tr><th scope=row>11</th><td>  469</td><td>  469</td><td>  0</td><td>2017</td></tr>\n",
              "\t<tr><th scope=row>12</th><td> 8247</td><td> 4711</td><td>  0</td><td>2017</td></tr>\n",
              "\t<tr><th scope=row>13</th><td> 6161</td><td> 3029</td><td>  8</td><td>2017</td></tr>\n",
              "\t<tr><th scope=row>14</th><td>21490</td><td>10767</td><td>  0</td><td>2017</td></tr>\n",
              "\t<tr><th scope=row>15</th><td>27966</td><td>23680</td><td>225</td><td>2017</td></tr>\n",
              "\t<tr><th scope=row>16</th><td>  130</td><td>  136</td><td>  0</td><td>2017</td></tr>\n",
              "\t<tr><th scope=row>17</th><td>  131</td><td>   93</td><td>  0</td><td>2017</td></tr>\n",
              "\t<tr><th scope=row>18</th><td>    1</td><td>    0</td><td>  0</td><td>2017</td></tr>\n",
              "\t<tr><th scope=row>19</th><td>  105</td><td>   58</td><td>  0</td><td>2017</td></tr>\n",
              "\t<tr><th scope=row>20</th><td>20138</td><td> 6900</td><td>  0</td><td>2017</td></tr>\n",
              "\t<tr><th scope=row>21</th><td> 1377</td><td> 1339</td><td>  0</td><td>2017</td></tr>\n",
              "\t<tr><th scope=row>22</th><td> 9684</td><td> 4376</td><td>  0</td><td>2017</td></tr>\n",
              "\t<tr><th scope=row>23</th><td>  235</td><td>  191</td><td>  0</td><td>2017</td></tr>\n",
              "\t<tr><th scope=row>24</th><td>10679</td><td> 4846</td><td>  1</td><td>2017</td></tr>\n",
              "\t<tr><th scope=row>25</th><td> 7957</td><td> 5280</td><td>  0</td><td>2017</td></tr>\n",
              "\t<tr><th scope=row>26</th><td>  873</td><td>  438</td><td>  0</td><td>2017</td></tr>\n",
              "\t<tr><th scope=row>27</th><td> 3525</td><td> 4006</td><td>  0</td><td>2017</td></tr>\n",
              "\t<tr><th scope=row>28</th><td>  769</td><td>  586</td><td>  0</td><td>2017</td></tr>\n",
              "\t<tr><th scope=row>29</th><td>34174</td><td>19171</td><td>  0</td><td>2017</td></tr>\n",
              "\t<tr><th scope=row>30</th><td>   53</td><td>   55</td><td>  0</td><td>2017</td></tr>\n",
              "\t<tr><th scope=row>⋮</th><td>⋮</td><td>⋮</td><td>⋮</td><td>⋮</td></tr>\n",
              "\t<tr><th scope=row>151</th><td>10608</td><td> 5072</td><td>15</td><td>2021</td></tr>\n",
              "\t<tr><th scope=row>152</th><td> 7813</td><td> 4359</td><td> 0</td><td>2021</td></tr>\n",
              "\t<tr><th scope=row>153</th><td> 1651</td><td>  657</td><td> 0</td><td>2021</td></tr>\n",
              "\t<tr><th scope=row>154</th><td> 1665</td><td>  861</td><td> 0</td><td>2021</td></tr>\n",
              "\t<tr><th scope=row>155</th><td>  479</td><td>  337</td><td> 0</td><td>2021</td></tr>\n",
              "\t<tr><th scope=row>156</th><td>11065</td><td> 5457</td><td> 0</td><td>2021</td></tr>\n",
              "\t<tr><th scope=row>157</th><td> 6242</td><td> 3159</td><td>51</td><td>2021</td></tr>\n",
              "\t<tr><th scope=row>158</th><td>35464</td><td>13171</td><td> 0</td><td>2021</td></tr>\n",
              "\t<tr><th scope=row>159</th><td>39805</td><td>25627</td><td>21</td><td>2021</td></tr>\n",
              "\t<tr><th scope=row>160</th><td>   99</td><td>   67</td><td> 0</td><td>2021</td></tr>\n",
              "\t<tr><th scope=row>161</th><td>  123</td><td>   99</td><td> 0</td><td>2021</td></tr>\n",
              "\t<tr><th scope=row>162</th><td>    0</td><td>    0</td><td> 0</td><td>2021</td></tr>\n",
              "\t<tr><th scope=row>163</th><td>   31</td><td>   35</td><td> 0</td><td>2021</td></tr>\n",
              "\t<tr><th scope=row>164</th><td>16806</td><td> 5620</td><td> 0</td><td>2021</td></tr>\n",
              "\t<tr><th scope=row>165</th><td> 1501</td><td> 1100</td><td> 0</td><td>2021</td></tr>\n",
              "\t<tr><th scope=row>166</th><td>18401</td><td> 5554</td><td> 0</td><td>2021</td></tr>\n",
              "\t<tr><th scope=row>167</th><td>   99</td><td>   40</td><td> 0</td><td>2021</td></tr>\n",
              "\t<tr><th scope=row>168</th><td>16800</td><td> 6307</td><td> 2</td><td>2021</td></tr>\n",
              "\t<tr><th scope=row>169</th><td>13891</td><td> 8778</td><td> 0</td><td>2021</td></tr>\n",
              "\t<tr><th scope=row>170</th><td> 1306</td><td>  496</td><td> 0</td><td>2021</td></tr>\n",
              "\t<tr><th scope=row>171</th><td> 5243</td><td> 3752</td><td> 0</td><td>2021</td></tr>\n",
              "\t<tr><th scope=row>172</th><td> 1888</td><td> 1696</td><td> 0</td><td>2021</td></tr>\n",
              "\t<tr><th scope=row>173</th><td>29166</td><td>13863</td><td> 1</td><td>2021</td></tr>\n",
              "\t<tr><th scope=row>174</th><td>   57</td><td>   43</td><td> 0</td><td>2021</td></tr>\n",
              "\t<tr><th scope=row>175</th><td>  526</td><td>  386</td><td> 0</td><td>2021</td></tr>\n",
              "\t<tr><th scope=row>176</th><td>  113</td><td>   47</td><td> 0</td><td>2021</td></tr>\n",
              "\t<tr><th scope=row>177</th><td>10345</td><td> 6914</td><td> 0</td><td>2021</td></tr>\n",
              "\t<tr><th scope=row>178</th><td>    6</td><td>   15</td><td> 0</td><td>2021</td></tr>\n",
              "\t<tr><th scope=row>179</th><td>    0</td><td>    0</td><td> 0</td><td>2021</td></tr>\n",
              "\t<tr><th scope=row>180</th><td>  184</td><td>  113</td><td> 0</td><td>2021</td></tr>\n",
              "</tbody>\n",
              "</table>\n"
            ],
            "text/markdown": "\nA data.frame: 180 × 4\n\n| <!--/--> | Total.Recovered.Traced.this.year...Female &lt;int&gt; | Total.Recovered.Traced.this.year...Male &lt;int&gt; | Total.Recovered.Traced.this.year...Trans &lt;int&gt; | Year &lt;int&gt; |\n|---|---|---|---|---|\n| 1 |  6423 |  3747 |   7 | 2017 |\n| 2 |    96 |     7 |   0 | 2017 |\n| 3 |  2314 |  1015 |   0 | 2017 |\n| 4 |  3561 |  1045 | 104 | 2017 |\n| 5 |  6501 |  2945 |   0 | 2017 |\n| 6 |   254 |   261 |   0 | 2017 |\n| 7 |  8481 |  5291 |   1 | 2017 |\n| 8 |  5003 |  3555 |   0 | 2017 |\n| 9 |   881 |   648 |   0 | 2017 |\n| 10 |   942 |   904 |   0 | 2017 |\n| 11 |   469 |   469 |   0 | 2017 |\n| 12 |  8247 |  4711 |   0 | 2017 |\n| 13 |  6161 |  3029 |   8 | 2017 |\n| 14 | 21490 | 10767 |   0 | 2017 |\n| 15 | 27966 | 23680 | 225 | 2017 |\n| 16 |   130 |   136 |   0 | 2017 |\n| 17 |   131 |    93 |   0 | 2017 |\n| 18 |     1 |     0 |   0 | 2017 |\n| 19 |   105 |    58 |   0 | 2017 |\n| 20 | 20138 |  6900 |   0 | 2017 |\n| 21 |  1377 |  1339 |   0 | 2017 |\n| 22 |  9684 |  4376 |   0 | 2017 |\n| 23 |   235 |   191 |   0 | 2017 |\n| 24 | 10679 |  4846 |   1 | 2017 |\n| 25 |  7957 |  5280 |   0 | 2017 |\n| 26 |   873 |   438 |   0 | 2017 |\n| 27 |  3525 |  4006 |   0 | 2017 |\n| 28 |   769 |   586 |   0 | 2017 |\n| 29 | 34174 | 19171 |   0 | 2017 |\n| 30 |    53 |    55 |   0 | 2017 |\n| ⋮ | ⋮ | ⋮ | ⋮ | ⋮ |\n| 151 | 10608 |  5072 | 15 | 2021 |\n| 152 |  7813 |  4359 |  0 | 2021 |\n| 153 |  1651 |   657 |  0 | 2021 |\n| 154 |  1665 |   861 |  0 | 2021 |\n| 155 |   479 |   337 |  0 | 2021 |\n| 156 | 11065 |  5457 |  0 | 2021 |\n| 157 |  6242 |  3159 | 51 | 2021 |\n| 158 | 35464 | 13171 |  0 | 2021 |\n| 159 | 39805 | 25627 | 21 | 2021 |\n| 160 |    99 |    67 |  0 | 2021 |\n| 161 |   123 |    99 |  0 | 2021 |\n| 162 |     0 |     0 |  0 | 2021 |\n| 163 |    31 |    35 |  0 | 2021 |\n| 164 | 16806 |  5620 |  0 | 2021 |\n| 165 |  1501 |  1100 |  0 | 2021 |\n| 166 | 18401 |  5554 |  0 | 2021 |\n| 167 |    99 |    40 |  0 | 2021 |\n| 168 | 16800 |  6307 |  2 | 2021 |\n| 169 | 13891 |  8778 |  0 | 2021 |\n| 170 |  1306 |   496 |  0 | 2021 |\n| 171 |  5243 |  3752 |  0 | 2021 |\n| 172 |  1888 |  1696 |  0 | 2021 |\n| 173 | 29166 | 13863 |  1 | 2021 |\n| 174 |    57 |    43 |  0 | 2021 |\n| 175 |   526 |   386 |  0 | 2021 |\n| 176 |   113 |    47 |  0 | 2021 |\n| 177 | 10345 |  6914 |  0 | 2021 |\n| 178 |     6 |    15 |  0 | 2021 |\n| 179 |     0 |     0 |  0 | 2021 |\n| 180 |   184 |   113 |  0 | 2021 |\n\n",
            "text/latex": "A data.frame: 180 × 4\n\\begin{tabular}{r|llll}\n  & Total.Recovered.Traced.this.year...Female & Total.Recovered.Traced.this.year...Male & Total.Recovered.Traced.this.year...Trans & Year\\\\\n  & <int> & <int> & <int> & <int>\\\\\n\\hline\n\t1 &  6423 &  3747 &   7 & 2017\\\\\n\t2 &    96 &     7 &   0 & 2017\\\\\n\t3 &  2314 &  1015 &   0 & 2017\\\\\n\t4 &  3561 &  1045 & 104 & 2017\\\\\n\t5 &  6501 &  2945 &   0 & 2017\\\\\n\t6 &   254 &   261 &   0 & 2017\\\\\n\t7 &  8481 &  5291 &   1 & 2017\\\\\n\t8 &  5003 &  3555 &   0 & 2017\\\\\n\t9 &   881 &   648 &   0 & 2017\\\\\n\t10 &   942 &   904 &   0 & 2017\\\\\n\t11 &   469 &   469 &   0 & 2017\\\\\n\t12 &  8247 &  4711 &   0 & 2017\\\\\n\t13 &  6161 &  3029 &   8 & 2017\\\\\n\t14 & 21490 & 10767 &   0 & 2017\\\\\n\t15 & 27966 & 23680 & 225 & 2017\\\\\n\t16 &   130 &   136 &   0 & 2017\\\\\n\t17 &   131 &    93 &   0 & 2017\\\\\n\t18 &     1 &     0 &   0 & 2017\\\\\n\t19 &   105 &    58 &   0 & 2017\\\\\n\t20 & 20138 &  6900 &   0 & 2017\\\\\n\t21 &  1377 &  1339 &   0 & 2017\\\\\n\t22 &  9684 &  4376 &   0 & 2017\\\\\n\t23 &   235 &   191 &   0 & 2017\\\\\n\t24 & 10679 &  4846 &   1 & 2017\\\\\n\t25 &  7957 &  5280 &   0 & 2017\\\\\n\t26 &   873 &   438 &   0 & 2017\\\\\n\t27 &  3525 &  4006 &   0 & 2017\\\\\n\t28 &   769 &   586 &   0 & 2017\\\\\n\t29 & 34174 & 19171 &   0 & 2017\\\\\n\t30 &    53 &    55 &   0 & 2017\\\\\n\t⋮ & ⋮ & ⋮ & ⋮ & ⋮\\\\\n\t151 & 10608 &  5072 & 15 & 2021\\\\\n\t152 &  7813 &  4359 &  0 & 2021\\\\\n\t153 &  1651 &   657 &  0 & 2021\\\\\n\t154 &  1665 &   861 &  0 & 2021\\\\\n\t155 &   479 &   337 &  0 & 2021\\\\\n\t156 & 11065 &  5457 &  0 & 2021\\\\\n\t157 &  6242 &  3159 & 51 & 2021\\\\\n\t158 & 35464 & 13171 &  0 & 2021\\\\\n\t159 & 39805 & 25627 & 21 & 2021\\\\\n\t160 &    99 &    67 &  0 & 2021\\\\\n\t161 &   123 &    99 &  0 & 2021\\\\\n\t162 &     0 &     0 &  0 & 2021\\\\\n\t163 &    31 &    35 &  0 & 2021\\\\\n\t164 & 16806 &  5620 &  0 & 2021\\\\\n\t165 &  1501 &  1100 &  0 & 2021\\\\\n\t166 & 18401 &  5554 &  0 & 2021\\\\\n\t167 &    99 &    40 &  0 & 2021\\\\\n\t168 & 16800 &  6307 &  2 & 2021\\\\\n\t169 & 13891 &  8778 &  0 & 2021\\\\\n\t170 &  1306 &   496 &  0 & 2021\\\\\n\t171 &  5243 &  3752 &  0 & 2021\\\\\n\t172 &  1888 &  1696 &  0 & 2021\\\\\n\t173 & 29166 & 13863 &  1 & 2021\\\\\n\t174 &    57 &    43 &  0 & 2021\\\\\n\t175 &   526 &   386 &  0 & 2021\\\\\n\t176 &   113 &    47 &  0 & 2021\\\\\n\t177 & 10345 &  6914 &  0 & 2021\\\\\n\t178 &     6 &    15 &  0 & 2021\\\\\n\t179 &     0 &     0 &  0 & 2021\\\\\n\t180 &   184 &   113 &  0 & 2021\\\\\n\\end{tabular}\n",
            "text/plain": [
              "    Total.Recovered.Traced.this.year...Female\n",
              "1    6423                                    \n",
              "2      96                                    \n",
              "3    2314                                    \n",
              "4    3561                                    \n",
              "5    6501                                    \n",
              "6     254                                    \n",
              "7    8481                                    \n",
              "8    5003                                    \n",
              "9     881                                    \n",
              "10    942                                    \n",
              "11    469                                    \n",
              "12   8247                                    \n",
              "13   6161                                    \n",
              "14  21490                                    \n",
              "15  27966                                    \n",
              "16    130                                    \n",
              "17    131                                    \n",
              "18      1                                    \n",
              "19    105                                    \n",
              "20  20138                                    \n",
              "21   1377                                    \n",
              "22   9684                                    \n",
              "23    235                                    \n",
              "24  10679                                    \n",
              "25   7957                                    \n",
              "26    873                                    \n",
              "27   3525                                    \n",
              "28    769                                    \n",
              "29  34174                                    \n",
              "30     53                                    \n",
              "⋮   ⋮                                        \n",
              "151 10608                                    \n",
              "152  7813                                    \n",
              "153  1651                                    \n",
              "154  1665                                    \n",
              "155   479                                    \n",
              "156 11065                                    \n",
              "157  6242                                    \n",
              "158 35464                                    \n",
              "159 39805                                    \n",
              "160    99                                    \n",
              "161   123                                    \n",
              "162     0                                    \n",
              "163    31                                    \n",
              "164 16806                                    \n",
              "165  1501                                    \n",
              "166 18401                                    \n",
              "167    99                                    \n",
              "168 16800                                    \n",
              "169 13891                                    \n",
              "170  1306                                    \n",
              "171  5243                                    \n",
              "172  1888                                    \n",
              "173 29166                                    \n",
              "174    57                                    \n",
              "175   526                                    \n",
              "176   113                                    \n",
              "177 10345                                    \n",
              "178     6                                    \n",
              "179     0                                    \n",
              "180   184                                    \n",
              "    Total.Recovered.Traced.this.year...Male\n",
              "1    3747                                  \n",
              "2       7                                  \n",
              "3    1015                                  \n",
              "4    1045                                  \n",
              "5    2945                                  \n",
              "6     261                                  \n",
              "7    5291                                  \n",
              "8    3555                                  \n",
              "9     648                                  \n",
              "10    904                                  \n",
              "11    469                                  \n",
              "12   4711                                  \n",
              "13   3029                                  \n",
              "14  10767                                  \n",
              "15  23680                                  \n",
              "16    136                                  \n",
              "17     93                                  \n",
              "18      0                                  \n",
              "19     58                                  \n",
              "20   6900                                  \n",
              "21   1339                                  \n",
              "22   4376                                  \n",
              "23    191                                  \n",
              "24   4846                                  \n",
              "25   5280                                  \n",
              "26    438                                  \n",
              "27   4006                                  \n",
              "28    586                                  \n",
              "29  19171                                  \n",
              "30     55                                  \n",
              "⋮   ⋮                                      \n",
              "151  5072                                  \n",
              "152  4359                                  \n",
              "153   657                                  \n",
              "154   861                                  \n",
              "155   337                                  \n",
              "156  5457                                  \n",
              "157  3159                                  \n",
              "158 13171                                  \n",
              "159 25627                                  \n",
              "160    67                                  \n",
              "161    99                                  \n",
              "162     0                                  \n",
              "163    35                                  \n",
              "164  5620                                  \n",
              "165  1100                                  \n",
              "166  5554                                  \n",
              "167    40                                  \n",
              "168  6307                                  \n",
              "169  8778                                  \n",
              "170   496                                  \n",
              "171  3752                                  \n",
              "172  1696                                  \n",
              "173 13863                                  \n",
              "174    43                                  \n",
              "175   386                                  \n",
              "176    47                                  \n",
              "177  6914                                  \n",
              "178    15                                  \n",
              "179     0                                  \n",
              "180   113                                  \n",
              "    Total.Recovered.Traced.this.year...Trans Year\n",
              "1     7                                      2017\n",
              "2     0                                      2017\n",
              "3     0                                      2017\n",
              "4   104                                      2017\n",
              "5     0                                      2017\n",
              "6     0                                      2017\n",
              "7     1                                      2017\n",
              "8     0                                      2017\n",
              "9     0                                      2017\n",
              "10    0                                      2017\n",
              "11    0                                      2017\n",
              "12    0                                      2017\n",
              "13    8                                      2017\n",
              "14    0                                      2017\n",
              "15  225                                      2017\n",
              "16    0                                      2017\n",
              "17    0                                      2017\n",
              "18    0                                      2017\n",
              "19    0                                      2017\n",
              "20    0                                      2017\n",
              "21    0                                      2017\n",
              "22    0                                      2017\n",
              "23    0                                      2017\n",
              "24    1                                      2017\n",
              "25    0                                      2017\n",
              "26    0                                      2017\n",
              "27    0                                      2017\n",
              "28    0                                      2017\n",
              "29    0                                      2017\n",
              "30    0                                      2017\n",
              "⋮   ⋮                                        ⋮   \n",
              "151 15                                       2021\n",
              "152  0                                       2021\n",
              "153  0                                       2021\n",
              "154  0                                       2021\n",
              "155  0                                       2021\n",
              "156  0                                       2021\n",
              "157 51                                       2021\n",
              "158  0                                       2021\n",
              "159 21                                       2021\n",
              "160  0                                       2021\n",
              "161  0                                       2021\n",
              "162  0                                       2021\n",
              "163  0                                       2021\n",
              "164  0                                       2021\n",
              "165  0                                       2021\n",
              "166  0                                       2021\n",
              "167  0                                       2021\n",
              "168  2                                       2021\n",
              "169  0                                       2021\n",
              "170  0                                       2021\n",
              "171  0                                       2021\n",
              "172  0                                       2021\n",
              "173  1                                       2021\n",
              "174  0                                       2021\n",
              "175  0                                       2021\n",
              "176  0                                       2021\n",
              "177  0                                       2021\n",
              "178  0                                       2021\n",
              "179  0                                       2021\n",
              "180  0                                       2021"
            ]
          },
          "metadata": {}
        }
      ]
    },
    {
      "cell_type": "code",
      "source": [
        "rec_grp_year = gender_recovered %>% group_by(Year)  %>%\n",
        "                    summarise(total_recovered_female = sum(Total.Recovered.Traced.this.year...Female),\n",
        "                              total_recovered_male = sum(Total.Recovered.Traced.this.year...Male),\n",
        "                              total_recovered_trans = sum(Total.Recovered.Traced.this.year...Trans),\n",
        "                              .groups = 'drop')\n",
        "rec_grp_year"
      ],
      "metadata": {
        "colab": {
          "base_uri": "https://localhost:8080/",
          "height": 255
        },
        "id": "hulrMkWeYdbB",
        "outputId": "66955505-73be-4679-ee84-65024e59191d"
      },
      "execution_count": 30,
      "outputs": [
        {
          "output_type": "display_data",
          "data": {
            "text/html": [
              "<table class=\"dataframe\">\n",
              "<caption>A tibble: 5 × 4</caption>\n",
              "<thead>\n",
              "\t<tr><th scope=col>Year</th><th scope=col>total_recovered_female</th><th scope=col>total_recovered_male</th><th scope=col>total_recovered_trans</th></tr>\n",
              "\t<tr><th scope=col>&lt;int&gt;</th><th scope=col>&lt;int&gt;</th><th scope=col>&lt;int&gt;</th><th scope=col>&lt;int&gt;</th></tr>\n",
              "</thead>\n",
              "<tbody>\n",
              "\t<tr><td>2017</td><td>200357</td><td>120435</td><td>346</td></tr>\n",
              "\t<tr><td>2018</td><td>209852</td><td>122384</td><td>518</td></tr>\n",
              "\t<tr><td>2019</td><td>222949</td><td>125558</td><td>101</td></tr>\n",
              "\t<tr><td>2020</td><td>224043</td><td>108298</td><td>142</td></tr>\n",
              "\t<tr><td>2021</td><td>261278</td><td>123716</td><td>130</td></tr>\n",
              "</tbody>\n",
              "</table>\n"
            ],
            "text/markdown": "\nA tibble: 5 × 4\n\n| Year &lt;int&gt; | total_recovered_female &lt;int&gt; | total_recovered_male &lt;int&gt; | total_recovered_trans &lt;int&gt; |\n|---|---|---|---|\n| 2017 | 200357 | 120435 | 346 |\n| 2018 | 209852 | 122384 | 518 |\n| 2019 | 222949 | 125558 | 101 |\n| 2020 | 224043 | 108298 | 142 |\n| 2021 | 261278 | 123716 | 130 |\n\n",
            "text/latex": "A tibble: 5 × 4\n\\begin{tabular}{llll}\n Year & total\\_recovered\\_female & total\\_recovered\\_male & total\\_recovered\\_trans\\\\\n <int> & <int> & <int> & <int>\\\\\n\\hline\n\t 2017 & 200357 & 120435 & 346\\\\\n\t 2018 & 209852 & 122384 & 518\\\\\n\t 2019 & 222949 & 125558 & 101\\\\\n\t 2020 & 224043 & 108298 & 142\\\\\n\t 2021 & 261278 & 123716 & 130\\\\\n\\end{tabular}\n",
            "text/plain": [
              "  Year total_recovered_female total_recovered_male total_recovered_trans\n",
              "1 2017 200357                 120435               346                  \n",
              "2 2018 209852                 122384               518                  \n",
              "3 2019 222949                 125558               101                  \n",
              "4 2020 224043                 108298               142                  \n",
              "5 2021 261278                 123716               130                  "
            ]
          },
          "metadata": {}
        }
      ]
    },
    {
      "cell_type": "code",
      "source": [
        "p<-ggplot(rec_grp_year, aes(x=Year)) +\n",
        "  geom_line(aes(y=total_recovered_female,color=\"blue\"))+\n",
        "  geom_point(aes(y=total_recovered_female,color=\"blue\")) +\n",
        "  geom_line(aes(y=total_recovered_male,color=\"green\")) +\n",
        "  geom_point(aes(y=total_recovered_male,color=\"green\")) +\n",
        "  geom_line(aes(y=total_recovered_trans,color=\"red\")) +\n",
        "  geom_point(aes(y=total_recovered_trans,color=\"red\")) +\n",
        "  labs(x=\"Year\",y=\"Number of recovered cases\") +\n",
        "  scale_y_continuous(labels = function(x) format(x, scientific=FALSE)) +\n",
        "  scale_color_manual(labels = c(\"Female\", \"Male\",\"Trans\"), values = c(\"blue\",\"green\",\"red\"),name=\"Gender\")\n",
        "  #scale_fill_discrete(labels=c('Female','Male','Trans'))\n",
        "p"
      ],
      "metadata": {
        "colab": {
          "base_uri": "https://localhost:8080/",
          "height": 437
        },
        "id": "ern_HMtkXMm5",
        "outputId": "5361a0ff-8551-4493-af23-97cdf3507732"
      },
      "execution_count": 31,
      "outputs": [
        {
          "output_type": "display_data",
          "data": {
            "text/plain": [
              "plot without title"
            ],
            "image/png": "[encoded data removed]"
          },
          "metadata": {
            "image/png": {
              "width": 420,
              "height": 420
            }
          }
        }
      ]
    },
    {
      "cell_type": "code",
      "source": [
        "colors = c(\"#928B33\", \"#1983AB\", \"#ABC782\")\n",
        "year <- c(\"2017\", \"2018\", \"2019\", \"2020\", \"2021\")\n",
        "gender <- c(\"Female\", \"Male\", \"Trans\")\n",
        "  \n",
        "mx <- t(as.matrix(rec_grp_year[-1]))\n",
        "colnames(mx) <- rec_grp_year$Year\n",
        "\n",
        "\n",
        "# Create the bar chart\n",
        "barplot(mx, main = \"Year wise recovered persons\", names.arg = year, \n",
        "                          xlab = \"Year\", ylab = \"Number of recovered cases\", \n",
        "                          col = colors, beside = TRUE)  \n",
        "                            #geom_text(aes(label = signif(value)), nudge_y = 3)\n",
        "\n",
        "# Add the legend to the chart\n",
        "legend(\"topleft\", gender, cex = 0.7, fill = colors)"
      ],
      "metadata": {
        "colab": {
          "base_uri": "https://localhost:8080/",
          "height": 437
        },
        "id": "dyi-9ZjaZMbL",
        "outputId": "bd551e8f-bb78-48b2-b5c6-6f85c64e2439"
      },
      "execution_count": 32,
      "outputs": [
        {
          "output_type": "display_data",
          "data": {
            "text/plain": [
              "Plot with title “Year wise recovered persons”"
            ],
            "image/png": "[encoded data removed]"
          },
          "metadata": {
            "image/png": {
              "width": 420,
              "height": 420
            }
          }
        }
      ]
    },
    {
      "cell_type": "markdown",
      "source": [
        "### State-wise"
      ],
      "metadata": {
        "id": "BQb9RSDzQelk"
      }
    },
    {
      "cell_type": "code",
      "source": [
        "state_recovered <- subset(df,select=c(\"Total.Recovered.Traced.this.year...Female\",\"Total.Recovered.Traced.this.year...Male\",\"Total.Recovered.Traced.this.year...Trans\",\"State.UT\"))\n",
        "state_recovered"
      ],
      "metadata": {
        "colab": {
          "base_uri": "https://localhost:8080/",
          "height": 1000
        },
        "id": "ztEqWmwkZMes",
        "outputId": "92bb7615-5be0-45df-b05f-5a6d2dd0beeb"
      },
      "execution_count": 43,
      "outputs": [
        {
          "output_type": "display_data",
          "data": {
            "text/html": [
              "<table class=\"dataframe\">\n",
              "<caption>A data.frame: 180 × 4</caption>\n",
              "<thead>\n",
              "\t<tr><th></th><th scope=col>Total.Recovered.Traced.this.year...Female</th><th scope=col>Total.Recovered.Traced.this.year...Male</th><th scope=col>Total.Recovered.Traced.this.year...Trans</th><th scope=col>State.UT</th></tr>\n",
              "\t<tr><th></th><th scope=col>&lt;int&gt;</th><th scope=col>&lt;int&gt;</th><th scope=col>&lt;int&gt;</th><th scope=col>&lt;chr&gt;</th></tr>\n",
              "</thead>\n",
              "<tbody>\n",
              "\t<tr><th scope=row>1</th><td> 6423</td><td> 3747</td><td>  7</td><td>Andhra Pradesh   </td></tr>\n",
              "\t<tr><th scope=row>2</th><td>   96</td><td>    7</td><td>  0</td><td>Arunachal Pradesh</td></tr>\n",
              "\t<tr><th scope=row>3</th><td> 2314</td><td> 1015</td><td>  0</td><td>Assam            </td></tr>\n",
              "\t<tr><th scope=row>4</th><td> 3561</td><td> 1045</td><td>104</td><td>Bihar            </td></tr>\n",
              "\t<tr><th scope=row>5</th><td> 6501</td><td> 2945</td><td>  0</td><td>Chhattisgarh     </td></tr>\n",
              "\t<tr><th scope=row>6</th><td>  254</td><td>  261</td><td>  0</td><td>Goa              </td></tr>\n",
              "\t<tr><th scope=row>7</th><td> 8481</td><td> 5291</td><td>  1</td><td>Gujarat          </td></tr>\n",
              "\t<tr><th scope=row>8</th><td> 5003</td><td> 3555</td><td>  0</td><td>Haryana          </td></tr>\n",
              "\t<tr><th scope=row>9</th><td>  881</td><td>  648</td><td>  0</td><td>Himachal Pradesh </td></tr>\n",
              "\t<tr><th scope=row>10</th><td><span style=white-space:pre-wrap>  942</span></td><td><span style=white-space:pre-wrap>  904</span></td><td><span style=white-space:pre-wrap>  0</span></td><td><span style=white-space:pre-wrap>Jammu &amp; Kashmir  </span></td></tr>\n",
              "\t<tr><th scope=row>11</th><td>  469</td><td>  469</td><td>  0</td><td>Jharkhand        </td></tr>\n",
              "\t<tr><th scope=row>12</th><td> 8247</td><td> 4711</td><td>  0</td><td>Karnataka        </td></tr>\n",
              "\t<tr><th scope=row>13</th><td> 6161</td><td> 3029</td><td>  8</td><td>Kerala           </td></tr>\n",
              "\t<tr><th scope=row>14</th><td>21490</td><td>10767</td><td>  0</td><td>Madhya Pradesh   </td></tr>\n",
              "\t<tr><th scope=row>15</th><td>27966</td><td>23680</td><td>225</td><td>Maharashtra      </td></tr>\n",
              "\t<tr><th scope=row>16</th><td>  130</td><td>  136</td><td>  0</td><td>Manipur          </td></tr>\n",
              "\t<tr><th scope=row>17</th><td>  131</td><td>   93</td><td>  0</td><td>Meghalaya        </td></tr>\n",
              "\t<tr><th scope=row>18</th><td>    1</td><td>    0</td><td>  0</td><td>Mizoram          </td></tr>\n",
              "\t<tr><th scope=row>19</th><td>  105</td><td>   58</td><td>  0</td><td>Nagaland         </td></tr>\n",
              "\t<tr><th scope=row>20</th><td>20138</td><td> 6900</td><td>  0</td><td>Odisha           </td></tr>\n",
              "\t<tr><th scope=row>21</th><td> 1377</td><td> 1339</td><td>  0</td><td>Punjab           </td></tr>\n",
              "\t<tr><th scope=row>22</th><td> 9684</td><td> 4376</td><td>  0</td><td>Rajasthan        </td></tr>\n",
              "\t<tr><th scope=row>23</th><td>  235</td><td>  191</td><td>  0</td><td>Sikkim           </td></tr>\n",
              "\t<tr><th scope=row>24</th><td>10679</td><td> 4846</td><td>  1</td><td>Tamil Nadu       </td></tr>\n",
              "\t<tr><th scope=row>25</th><td> 7957</td><td> 5280</td><td>  0</td><td>Telangana        </td></tr>\n",
              "\t<tr><th scope=row>26</th><td>  873</td><td>  438</td><td>  0</td><td>Tripura          </td></tr>\n",
              "\t<tr><th scope=row>27</th><td> 3525</td><td> 4006</td><td>  0</td><td>Uttar Pradesh    </td></tr>\n",
              "\t<tr><th scope=row>28</th><td>  769</td><td>  586</td><td>  0</td><td>Uttarakhand      </td></tr>\n",
              "\t<tr><th scope=row>29</th><td>34174</td><td>19171</td><td>  0</td><td>West Bengal      </td></tr>\n",
              "\t<tr><th scope=row>30</th><td><span style=white-space:pre-wrap>   53</span></td><td><span style=white-space:pre-wrap>   55</span></td><td><span style=white-space:pre-wrap>  0</span></td><td><span style=white-space:pre-wrap>A &amp; N Islands    </span></td></tr>\n",
              "\t<tr><th scope=row>⋮</th><td>⋮</td><td>⋮</td><td>⋮</td><td>⋮</td></tr>\n",
              "\t<tr><th scope=row>151</th><td>10608</td><td> 5072</td><td>15</td><td>Gujarat                     </td></tr>\n",
              "\t<tr><th scope=row>152</th><td> 7813</td><td> 4359</td><td> 0</td><td>Haryana                     </td></tr>\n",
              "\t<tr><th scope=row>153</th><td> 1651</td><td>  657</td><td> 0</td><td>Himachal Pradesh            </td></tr>\n",
              "\t<tr><th scope=row>154</th><td> 1665</td><td><span style=white-space:pre-wrap>  861</span></td><td> 0</td><td><span style=white-space:pre-wrap>Jammu &amp; Kashmir             </span></td></tr>\n",
              "\t<tr><th scope=row>155</th><td>  479</td><td>  337</td><td> 0</td><td>Jharkhand                   </td></tr>\n",
              "\t<tr><th scope=row>156</th><td>11065</td><td> 5457</td><td> 0</td><td>Karnataka                   </td></tr>\n",
              "\t<tr><th scope=row>157</th><td> 6242</td><td> 3159</td><td>51</td><td>Kerala                      </td></tr>\n",
              "\t<tr><th scope=row>158</th><td>35464</td><td>13171</td><td> 0</td><td>Madhya Pradesh              </td></tr>\n",
              "\t<tr><th scope=row>159</th><td>39805</td><td>25627</td><td>21</td><td>Maharashtra                 </td></tr>\n",
              "\t<tr><th scope=row>160</th><td>   99</td><td>   67</td><td> 0</td><td>Manipur                     </td></tr>\n",
              "\t<tr><th scope=row>161</th><td>  123</td><td>   99</td><td> 0</td><td>Meghalaya                   </td></tr>\n",
              "\t<tr><th scope=row>162</th><td>    0</td><td>    0</td><td> 0</td><td>Mizoram                     </td></tr>\n",
              "\t<tr><th scope=row>163</th><td>   31</td><td>   35</td><td> 0</td><td>Nagaland                    </td></tr>\n",
              "\t<tr><th scope=row>164</th><td>16806</td><td> 5620</td><td> 0</td><td>Odisha                      </td></tr>\n",
              "\t<tr><th scope=row>165</th><td> 1501</td><td> 1100</td><td> 0</td><td>Punjab                      </td></tr>\n",
              "\t<tr><th scope=row>166</th><td>18401</td><td> 5554</td><td> 0</td><td>Rajasthan                   </td></tr>\n",
              "\t<tr><th scope=row>167</th><td>   99</td><td>   40</td><td> 0</td><td>Sikkim                      </td></tr>\n",
              "\t<tr><th scope=row>168</th><td>16800</td><td> 6307</td><td> 2</td><td>Tamil Nadu                  </td></tr>\n",
              "\t<tr><th scope=row>169</th><td>13891</td><td> 8778</td><td> 0</td><td>Telangana                   </td></tr>\n",
              "\t<tr><th scope=row>170</th><td> 1306</td><td>  496</td><td> 0</td><td>Tripura                     </td></tr>\n",
              "\t<tr><th scope=row>171</th><td> 5243</td><td> 3752</td><td> 0</td><td>Uttar Pradesh               </td></tr>\n",
              "\t<tr><th scope=row>172</th><td> 1888</td><td> 1696</td><td> 0</td><td>Uttarakhand                 </td></tr>\n",
              "\t<tr><th scope=row>173</th><td>29166</td><td>13863</td><td> 1</td><td>West Bengal                 </td></tr>\n",
              "\t<tr><th scope=row>174</th><td><span style=white-space:pre-wrap>   57</span></td><td><span style=white-space:pre-wrap>   43</span></td><td> 0</td><td><span style=white-space:pre-wrap>A &amp; N Islands               </span></td></tr>\n",
              "\t<tr><th scope=row>175</th><td>  526</td><td>  386</td><td> 0</td><td>Chandigarh                  </td></tr>\n",
              "\t<tr><th scope=row>176</th><td><span style=white-space:pre-wrap>  113</span></td><td><span style=white-space:pre-wrap>   47</span></td><td> 0</td><td>D&amp;N Haveli and Daman and Diu</td></tr>\n",
              "\t<tr><th scope=row>177</th><td>10345</td><td> 6914</td><td> 0</td><td>Delhi UT                    </td></tr>\n",
              "\t<tr><th scope=row>178</th><td>    6</td><td>   15</td><td> 0</td><td>Ladakh                      </td></tr>\n",
              "\t<tr><th scope=row>179</th><td>    0</td><td>    0</td><td> 0</td><td>Lakshadweep                 </td></tr>\n",
              "\t<tr><th scope=row>180</th><td>  184</td><td>  113</td><td> 0</td><td>Puducherry                  </td></tr>\n",
              "</tbody>\n",
              "</table>\n"
            ],
            "text/markdown": "\nA data.frame: 180 × 4\n\n| <!--/--> | Total.Recovered.Traced.this.year...Female &lt;int&gt; | Total.Recovered.Traced.this.year...Male &lt;int&gt; | Total.Recovered.Traced.this.year...Trans &lt;int&gt; | State.UT &lt;chr&gt; |\n|---|---|---|---|---|\n| 1 |  6423 |  3747 |   7 | Andhra Pradesh    |\n| 2 |    96 |     7 |   0 | Arunachal Pradesh |\n| 3 |  2314 |  1015 |   0 | Assam             |\n| 4 |  3561 |  1045 | 104 | Bihar             |\n| 5 |  6501 |  2945 |   0 | Chhattisgarh      |\n| 6 |   254 |   261 |   0 | Goa               |\n| 7 |  8481 |  5291 |   1 | Gujarat           |\n| 8 |  5003 |  3555 |   0 | Haryana           |\n| 9 |   881 |   648 |   0 | Himachal Pradesh  |\n| 10 |   942 |   904 |   0 | Jammu &amp; Kashmir   |\n| 11 |   469 |   469 |   0 | Jharkhand         |\n| 12 |  8247 |  4711 |   0 | Karnataka         |\n| 13 |  6161 |  3029 |   8 | Kerala            |\n| 14 | 21490 | 10767 |   0 | Madhya Pradesh    |\n| 15 | 27966 | 23680 | 225 | Maharashtra       |\n| 16 |   130 |   136 |   0 | Manipur           |\n| 17 |   131 |    93 |   0 | Meghalaya         |\n| 18 |     1 |     0 |   0 | Mizoram           |\n| 19 |   105 |    58 |   0 | Nagaland          |\n| 20 | 20138 |  6900 |   0 | Odisha            |\n| 21 |  1377 |  1339 |   0 | Punjab            |\n| 22 |  9684 |  4376 |   0 | Rajasthan         |\n| 23 |   235 |   191 |   0 | Sikkim            |\n| 24 | 10679 |  4846 |   1 | Tamil Nadu        |\n| 25 |  7957 |  5280 |   0 | Telangana         |\n| 26 |   873 |   438 |   0 | Tripura           |\n| 27 |  3525 |  4006 |   0 | Uttar Pradesh     |\n| 28 |   769 |   586 |   0 | Uttarakhand       |\n| 29 | 34174 | 19171 |   0 | West Bengal       |\n| 30 |    53 |    55 |   0 | A &amp; N Islands     |\n| ⋮ | ⋮ | ⋮ | ⋮ | ⋮ |\n| 151 | 10608 |  5072 | 15 | Gujarat                      |\n| 152 |  7813 |  4359 |  0 | Haryana                      |\n| 153 |  1651 |   657 |  0 | Himachal Pradesh             |\n| 154 |  1665 |   861 |  0 | Jammu &amp; Kashmir              |\n| 155 |   479 |   337 |  0 | Jharkhand                    |\n| 156 | 11065 |  5457 |  0 | Karnataka                    |\n| 157 |  6242 |  3159 | 51 | Kerala                       |\n| 158 | 35464 | 13171 |  0 | Madhya Pradesh               |\n| 159 | 39805 | 25627 | 21 | Maharashtra                  |\n| 160 |    99 |    67 |  0 | Manipur                      |\n| 161 |   123 |    99 |  0 | Meghalaya                    |\n| 162 |     0 |     0 |  0 | Mizoram                      |\n| 163 |    31 |    35 |  0 | Nagaland                     |\n| 164 | 16806 |  5620 |  0 | Odisha                       |\n| 165 |  1501 |  1100 |  0 | Punjab                       |\n| 166 | 18401 |  5554 |  0 | Rajasthan                    |\n| 167 |    99 |    40 |  0 | Sikkim                       |\n| 168 | 16800 |  6307 |  2 | Tamil Nadu                   |\n| 169 | 13891 |  8778 |  0 | Telangana                    |\n| 170 |  1306 |   496 |  0 | Tripura                      |\n| 171 |  5243 |  3752 |  0 | Uttar Pradesh                |\n| 172 |  1888 |  1696 |  0 | Uttarakhand                  |\n| 173 | 29166 | 13863 |  1 | West Bengal                  |\n| 174 |    57 |    43 |  0 | A &amp; N Islands                |\n| 175 |   526 |   386 |  0 | Chandigarh                   |\n| 176 |   113 |    47 |  0 | D&amp;N Haveli and Daman and Diu |\n| 177 | 10345 |  6914 |  0 | Delhi UT                     |\n| 178 |     6 |    15 |  0 | Ladakh                       |\n| 179 |     0 |     0 |  0 | Lakshadweep                  |\n| 180 |   184 |   113 |  0 | Puducherry                   |\n\n",
            "text/latex": "A data.frame: 180 × 4\n\\begin{tabular}{r|llll}\n  & Total.Recovered.Traced.this.year...Female & Total.Recovered.Traced.this.year...Male & Total.Recovered.Traced.this.year...Trans & State.UT\\\\\n  & <int> & <int> & <int> & <chr>\\\\\n\\hline\n\t1 &  6423 &  3747 &   7 & Andhra Pradesh   \\\\\n\t2 &    96 &     7 &   0 & Arunachal Pradesh\\\\\n\t3 &  2314 &  1015 &   0 & Assam            \\\\\n\t4 &  3561 &  1045 & 104 & Bihar            \\\\\n\t5 &  6501 &  2945 &   0 & Chhattisgarh     \\\\\n\t6 &   254 &   261 &   0 & Goa              \\\\\n\t7 &  8481 &  5291 &   1 & Gujarat          \\\\\n\t8 &  5003 &  3555 &   0 & Haryana          \\\\\n\t9 &   881 &   648 &   0 & Himachal Pradesh \\\\\n\t10 &   942 &   904 &   0 & Jammu \\& Kashmir  \\\\\n\t11 &   469 &   469 &   0 & Jharkhand        \\\\\n\t12 &  8247 &  4711 &   0 & Karnataka        \\\\\n\t13 &  6161 &  3029 &   8 & Kerala           \\\\\n\t14 & 21490 & 10767 &   0 & Madhya Pradesh   \\\\\n\t15 & 27966 & 23680 & 225 & Maharashtra      \\\\\n\t16 &   130 &   136 &   0 & Manipur          \\\\\n\t17 &   131 &    93 &   0 & Meghalaya        \\\\\n\t18 &     1 &     0 &   0 & Mizoram          \\\\\n\t19 &   105 &    58 &   0 & Nagaland         \\\\\n\t20 & 20138 &  6900 &   0 & Odisha           \\\\\n\t21 &  1377 &  1339 &   0 & Punjab           \\\\\n\t22 &  9684 &  4376 &   0 & Rajasthan        \\\\\n\t23 &   235 &   191 &   0 & Sikkim           \\\\\n\t24 & 10679 &  4846 &   1 & Tamil Nadu       \\\\\n\t25 &  7957 &  5280 &   0 & Telangana        \\\\\n\t26 &   873 &   438 &   0 & Tripura          \\\\\n\t27 &  3525 &  4006 &   0 & Uttar Pradesh    \\\\\n\t28 &   769 &   586 &   0 & Uttarakhand      \\\\\n\t29 & 34174 & 19171 &   0 & West Bengal      \\\\\n\t30 &    53 &    55 &   0 & A \\& N Islands    \\\\\n\t⋮ & ⋮ & ⋮ & ⋮ & ⋮\\\\\n\t151 & 10608 &  5072 & 15 & Gujarat                     \\\\\n\t152 &  7813 &  4359 &  0 & Haryana                     \\\\\n\t153 &  1651 &   657 &  0 & Himachal Pradesh            \\\\\n\t154 &  1665 &   861 &  0 & Jammu \\& Kashmir             \\\\\n\t155 &   479 &   337 &  0 & Jharkhand                   \\\\\n\t156 & 11065 &  5457 &  0 & Karnataka                   \\\\\n\t157 &  6242 &  3159 & 51 & Kerala                      \\\\\n\t158 & 35464 & 13171 &  0 & Madhya Pradesh              \\\\\n\t159 & 39805 & 25627 & 21 & Maharashtra                 \\\\\n\t160 &    99 &    67 &  0 & Manipur                     \\\\\n\t161 &   123 &    99 &  0 & Meghalaya                   \\\\\n\t162 &     0 &     0 &  0 & Mizoram                     \\\\\n\t163 &    31 &    35 &  0 & Nagaland                    \\\\\n\t164 & 16806 &  5620 &  0 & Odisha                      \\\\\n\t165 &  1501 &  1100 &  0 & Punjab                      \\\\\n\t166 & 18401 &  5554 &  0 & Rajasthan                   \\\\\n\t167 &    99 &    40 &  0 & Sikkim                      \\\\\n\t168 & 16800 &  6307 &  2 & Tamil Nadu                  \\\\\n\t169 & 13891 &  8778 &  0 & Telangana                   \\\\\n\t170 &  1306 &   496 &  0 & Tripura                     \\\\\n\t171 &  5243 &  3752 &  0 & Uttar Pradesh               \\\\\n\t172 &  1888 &  1696 &  0 & Uttarakhand                 \\\\\n\t173 & 29166 & 13863 &  1 & West Bengal                 \\\\\n\t174 &    57 &    43 &  0 & A \\& N Islands               \\\\\n\t175 &   526 &   386 &  0 & Chandigarh                  \\\\\n\t176 &   113 &    47 &  0 & D\\&N Haveli and Daman and Diu\\\\\n\t177 & 10345 &  6914 &  0 & Delhi UT                    \\\\\n\t178 &     6 &    15 &  0 & Ladakh                      \\\\\n\t179 &     0 &     0 &  0 & Lakshadweep                 \\\\\n\t180 &   184 &   113 &  0 & Puducherry                  \\\\\n\\end{tabular}\n",
            "text/plain": [
              "    Total.Recovered.Traced.this.year...Female\n",
              "1    6423                                    \n",
              "2      96                                    \n",
              "3    2314                                    \n",
              "4    3561                                    \n",
              "5    6501                                    \n",
              "6     254                                    \n",
              "7    8481                                    \n",
              "8    5003                                    \n",
              "9     881                                    \n",
              "10    942                                    \n",
              "11    469                                    \n",
              "12   8247                                    \n",
              "13   6161                                    \n",
              "14  21490                                    \n",
              "15  27966                                    \n",
              "16    130                                    \n",
              "17    131                                    \n",
              "18      1                                    \n",
              "19    105                                    \n",
              "20  20138                                    \n",
              "21   1377                                    \n",
              "22   9684                                    \n",
              "23    235                                    \n",
              "24  10679                                    \n",
              "25   7957                                    \n",
              "26    873                                    \n",
              "27   3525                                    \n",
              "28    769                                    \n",
              "29  34174                                    \n",
              "30     53                                    \n",
              "⋮   ⋮                                        \n",
              "151 10608                                    \n",
              "152  7813                                    \n",
              "153  1651                                    \n",
              "154  1665                                    \n",
              "155   479                                    \n",
              "156 11065                                    \n",
              "157  6242                                    \n",
              "158 35464                                    \n",
              "159 39805                                    \n",
              "160    99                                    \n",
              "161   123                                    \n",
              "162     0                                    \n",
              "163    31                                    \n",
              "164 16806                                    \n",
              "165  1501                                    \n",
              "166 18401                                    \n",
              "167    99                                    \n",
              "168 16800                                    \n",
              "169 13891                                    \n",
              "170  1306                                    \n",
              "171  5243                                    \n",
              "172  1888                                    \n",
              "173 29166                                    \n",
              "174    57                                    \n",
              "175   526                                    \n",
              "176   113                                    \n",
              "177 10345                                    \n",
              "178     6                                    \n",
              "179     0                                    \n",
              "180   184                                    \n",
              "    Total.Recovered.Traced.this.year...Male\n",
              "1    3747                                  \n",
              "2       7                                  \n",
              "3    1015                                  \n",
              "4    1045                                  \n",
              "5    2945                                  \n",
              "6     261                                  \n",
              "7    5291                                  \n",
              "8    3555                                  \n",
              "9     648                                  \n",
              "10    904                                  \n",
              "11    469                                  \n",
              "12   4711                                  \n",
              "13   3029                                  \n",
              "14  10767                                  \n",
              "15  23680                                  \n",
              "16    136                                  \n",
              "17     93                                  \n",
              "18      0                                  \n",
              "19     58                                  \n",
              "20   6900                                  \n",
              "21   1339                                  \n",
              "22   4376                                  \n",
              "23    191                                  \n",
              "24   4846                                  \n",
              "25   5280                                  \n",
              "26    438                                  \n",
              "27   4006                                  \n",
              "28    586                                  \n",
              "29  19171                                  \n",
              "30     55                                  \n",
              "⋮   ⋮                                      \n",
              "151  5072                                  \n",
              "152  4359                                  \n",
              "153   657                                  \n",
              "154   861                                  \n",
              "155   337                                  \n",
              "156  5457                                  \n",
              "157  3159                                  \n",
              "158 13171                                  \n",
              "159 25627                                  \n",
              "160    67                                  \n",
              "161    99                                  \n",
              "162     0                                  \n",
              "163    35                                  \n",
              "164  5620                                  \n",
              "165  1100                                  \n",
              "166  5554                                  \n",
              "167    40                                  \n",
              "168  6307                                  \n",
              "169  8778                                  \n",
              "170   496                                  \n",
              "171  3752                                  \n",
              "172  1696                                  \n",
              "173 13863                                  \n",
              "174    43                                  \n",
              "175   386                                  \n",
              "176    47                                  \n",
              "177  6914                                  \n",
              "178    15                                  \n",
              "179     0                                  \n",
              "180   113                                  \n",
              "    Total.Recovered.Traced.this.year...Trans State.UT                    \n",
              "1     7                                      Andhra Pradesh              \n",
              "2     0                                      Arunachal Pradesh           \n",
              "3     0                                      Assam                       \n",
              "4   104                                      Bihar                       \n",
              "5     0                                      Chhattisgarh                \n",
              "6     0                                      Goa                         \n",
              "7     1                                      Gujarat                     \n",
              "8     0                                      Haryana                     \n",
              "9     0                                      Himachal Pradesh            \n",
              "10    0                                      Jammu & Kashmir             \n",
              "11    0                                      Jharkhand                   \n",
              "12    0                                      Karnataka                   \n",
              "13    8                                      Kerala                      \n",
              "14    0                                      Madhya Pradesh              \n",
              "15  225                                      Maharashtra                 \n",
              "16    0                                      Manipur                     \n",
              "17    0                                      Meghalaya                   \n",
              "18    0                                      Mizoram                     \n",
              "19    0                                      Nagaland                    \n",
              "20    0                                      Odisha                      \n",
              "21    0                                      Punjab                      \n",
              "22    0                                      Rajasthan                   \n",
              "23    0                                      Sikkim                      \n",
              "24    1                                      Tamil Nadu                  \n",
              "25    0                                      Telangana                   \n",
              "26    0                                      Tripura                     \n",
              "27    0                                      Uttar Pradesh               \n",
              "28    0                                      Uttarakhand                 \n",
              "29    0                                      West Bengal                 \n",
              "30    0                                      A & N Islands               \n",
              "⋮   ⋮                                        ⋮                           \n",
              "151 15                                       Gujarat                     \n",
              "152  0                                       Haryana                     \n",
              "153  0                                       Himachal Pradesh            \n",
              "154  0                                       Jammu & Kashmir             \n",
              "155  0                                       Jharkhand                   \n",
              "156  0                                       Karnataka                   \n",
              "157 51                                       Kerala                      \n",
              "158  0                                       Madhya Pradesh              \n",
              "159 21                                       Maharashtra                 \n",
              "160  0                                       Manipur                     \n",
              "161  0                                       Meghalaya                   \n",
              "162  0                                       Mizoram                     \n",
              "163  0                                       Nagaland                    \n",
              "164  0                                       Odisha                      \n",
              "165  0                                       Punjab                      \n",
              "166  0                                       Rajasthan                   \n",
              "167  0                                       Sikkim                      \n",
              "168  2                                       Tamil Nadu                  \n",
              "169  0                                       Telangana                   \n",
              "170  0                                       Tripura                     \n",
              "171  0                                       Uttar Pradesh               \n",
              "172  0                                       Uttarakhand                 \n",
              "173  1                                       West Bengal                 \n",
              "174  0                                       A & N Islands               \n",
              "175  0                                       Chandigarh                  \n",
              "176  0                                       D&N Haveli and Daman and Diu\n",
              "177  0                                       Delhi UT                    \n",
              "178  0                                       Ladakh                      \n",
              "179  0                                       Lakshadweep                 \n",
              "180  0                                       Puducherry                  "
            ]
          },
          "metadata": {}
        }
      ]
    },
    {
      "cell_type": "code",
      "source": [
        "rec_grp_state = state_recovered %>% group_by(State.UT)  %>%\n",
        "                    summarise(total_recovered_female = sum(Total.Recovered.Traced.this.year...Female),\n",
        "                              total_recovered_male = sum(Total.Recovered.Traced.this.year...Male),\n",
        "                              total_recovered_trans = sum(Total.Recovered.Traced.this.year...Trans),\n",
        "                              .groups = 'drop')\n",
        "rec_grp_state"
      ],
      "metadata": {
        "colab": {
          "base_uri": "https://localhost:8080/",
          "height": 1000
        },
        "id": "gJjmmfmvRAXd",
        "outputId": "8b79ba3d-328c-4df4-e602-cbf440b4d1c3"
      },
      "execution_count": 44,
      "outputs": [
        {
          "output_type": "display_data",
          "data": {
            "text/html": [
              "<table class=\"dataframe\">\n",
              "<caption>A tibble: 38 × 4</caption>\n",
              "<thead>\n",
              "\t<tr><th scope=col>State.UT</th><th scope=col>total_recovered_female</th><th scope=col>total_recovered_male</th><th scope=col>total_recovered_trans</th></tr>\n",
              "\t<tr><th scope=col>&lt;chr&gt;</th><th scope=col>&lt;int&gt;</th><th scope=col>&lt;int&gt;</th><th scope=col>&lt;int&gt;</th></tr>\n",
              "</thead>\n",
              "<tbody>\n",
              "\t<tr><td><span style=white-space:pre-wrap>A &amp; N Islands               </span></td><td><span style=white-space:pre-wrap>   270</span></td><td><span style=white-space:pre-wrap>   207</span></td><td><span style=white-space:pre-wrap>  0</span></td></tr>\n",
              "\t<tr><td>Andhra Pradesh              </td><td> 35859</td><td> 17968</td><td>514</td></tr>\n",
              "\t<tr><td>Arunachal Pradesh           </td><td>   247</td><td>    56</td><td>  0</td></tr>\n",
              "\t<tr><td>Assam                       </td><td> 15687</td><td>  6912</td><td>120</td></tr>\n",
              "\t<tr><td>Bihar                       </td><td> 29493</td><td>  8230</td><td>138</td></tr>\n",
              "\t<tr><td>Chandigarh                  </td><td>  1664</td><td>  1147</td><td>  1</td></tr>\n",
              "\t<tr><td>Chhattisgarh                </td><td> 43756</td><td> 16394</td><td>  0</td></tr>\n",
              "\t<tr><td><span style=white-space:pre-wrap>D&amp;N Haveli                  </span></td><td><span style=white-space:pre-wrap>    93</span></td><td><span style=white-space:pre-wrap>    37</span></td><td><span style=white-space:pre-wrap>  0</span></td></tr>\n",
              "\t<tr><td>D&amp;N Haveli and Daman and Diu</td><td><span style=white-space:pre-wrap>   196</span></td><td><span style=white-space:pre-wrap>    96</span></td><td><span style=white-space:pre-wrap>  0</span></td></tr>\n",
              "\t<tr><td><span style=white-space:pre-wrap>Daman &amp; Diu                 </span></td><td><span style=white-space:pre-wrap>   199</span></td><td><span style=white-space:pre-wrap>   149</span></td><td><span style=white-space:pre-wrap>  0</span></td></tr>\n",
              "\t<tr><td>Delhi UT                    </td><td> 61511</td><td> 49480</td><td>  3</td></tr>\n",
              "\t<tr><td>Goa                         </td><td>  1189</td><td>  1303</td><td>  0</td></tr>\n",
              "\t<tr><td>Gujarat                     </td><td> 43955</td><td> 22732</td><td> 39</td></tr>\n",
              "\t<tr><td>Haryana                     </td><td> 32220</td><td> 19807</td><td>  0</td></tr>\n",
              "\t<tr><td>Himachal Pradesh            </td><td>  5949</td><td>  2942</td><td>  0</td></tr>\n",
              "\t<tr><td><span style=white-space:pre-wrap>Jammu &amp; Kashmir             </span></td><td><span style=white-space:pre-wrap>  6481</span></td><td><span style=white-space:pre-wrap>  4133</span></td><td><span style=white-space:pre-wrap>  0</span></td></tr>\n",
              "\t<tr><td>Jharkhand                   </td><td>  2241</td><td>  2108</td><td>  4</td></tr>\n",
              "\t<tr><td>Karnataka                   </td><td> 50142</td><td> 27866</td><td>  7</td></tr>\n",
              "\t<tr><td>Kerala                      </td><td> 35506</td><td> 17292</td><td>121</td></tr>\n",
              "\t<tr><td>Ladakh                      </td><td>    12</td><td>    31</td><td>  0</td></tr>\n",
              "\t<tr><td>Lakshadweep                 </td><td>     0</td><td>     7</td><td>  0</td></tr>\n",
              "\t<tr><td>Madhya Pradesh              </td><td>142693</td><td> 58343</td><td>  3</td></tr>\n",
              "\t<tr><td>Maharashtra                 </td><td>177316</td><td>130584</td><td>275</td></tr>\n",
              "\t<tr><td>Manipur                     </td><td>   759</td><td>   584</td><td>  0</td></tr>\n",
              "\t<tr><td>Meghalaya                   </td><td>   768</td><td>   634</td><td>  0</td></tr>\n",
              "\t<tr><td>Mizoram                     </td><td>     1</td><td>     3</td><td>  0</td></tr>\n",
              "\t<tr><td>Nagaland                    </td><td>   279</td><td>   179</td><td>  0</td></tr>\n",
              "\t<tr><td>Odisha                      </td><td> 50683</td><td> 16506</td><td>  0</td></tr>\n",
              "\t<tr><td>Puducherry                  </td><td>   709</td><td>   411</td><td>  0</td></tr>\n",
              "\t<tr><td>Punjab                      </td><td>  6469</td><td>  5510</td><td>  0</td></tr>\n",
              "\t<tr><td>Rajasthan                   </td><td> 68209</td><td> 23376</td><td>  3</td></tr>\n",
              "\t<tr><td>Sikkim                      </td><td>   632</td><td>   430</td><td>  0</td></tr>\n",
              "\t<tr><td>Tamil Nadu                  </td><td> 59238</td><td> 23001</td><td>  6</td></tr>\n",
              "\t<tr><td>Telangana                   </td><td> 53521</td><td> 33179</td><td>  2</td></tr>\n",
              "\t<tr><td>Tripura                     </td><td>  5301</td><td>  2205</td><td>  0</td></tr>\n",
              "\t<tr><td>Uttar Pradesh               </td><td> 25433</td><td> 24139</td><td>  0</td></tr>\n",
              "\t<tr><td>Uttarakhand                 </td><td>  5989</td><td>  4531</td><td>  0</td></tr>\n",
              "\t<tr><td>West Bengal                 </td><td>153809</td><td> 77879</td><td>  1</td></tr>\n",
              "</tbody>\n",
              "</table>\n"
            ],
            "text/markdown": "\nA tibble: 38 × 4\n\n| State.UT &lt;chr&gt; | total_recovered_female &lt;int&gt; | total_recovered_male &lt;int&gt; | total_recovered_trans &lt;int&gt; |\n|---|---|---|---|\n| A &amp; N Islands                |    270 |    207 |   0 |\n| Andhra Pradesh               |  35859 |  17968 | 514 |\n| Arunachal Pradesh            |    247 |     56 |   0 |\n| Assam                        |  15687 |   6912 | 120 |\n| Bihar                        |  29493 |   8230 | 138 |\n| Chandigarh                   |   1664 |   1147 |   1 |\n| Chhattisgarh                 |  43756 |  16394 |   0 |\n| D&amp;N Haveli                   |     93 |     37 |   0 |\n| D&amp;N Haveli and Daman and Diu |    196 |     96 |   0 |\n| Daman &amp; Diu                  |    199 |    149 |   0 |\n| Delhi UT                     |  61511 |  49480 |   3 |\n| Goa                          |   1189 |   1303 |   0 |\n| Gujarat                      |  43955 |  22732 |  39 |\n| Haryana                      |  32220 |  19807 |   0 |\n| Himachal Pradesh             |   5949 |   2942 |   0 |\n| Jammu &amp; Kashmir              |   6481 |   4133 |   0 |\n| Jharkhand                    |   2241 |   2108 |   4 |\n| Karnataka                    |  50142 |  27866 |   7 |\n| Kerala                       |  35506 |  17292 | 121 |\n| Ladakh                       |     12 |     31 |   0 |\n| Lakshadweep                  |      0 |      7 |   0 |\n| Madhya Pradesh               | 142693 |  58343 |   3 |\n| Maharashtra                  | 177316 | 130584 | 275 |\n| Manipur                      |    759 |    584 |   0 |\n| Meghalaya                    |    768 |    634 |   0 |\n| Mizoram                      |      1 |      3 |   0 |\n| Nagaland                     |    279 |    179 |   0 |\n| Odisha                       |  50683 |  16506 |   0 |\n| Puducherry                   |    709 |    411 |   0 |\n| Punjab                       |   6469 |   5510 |   0 |\n| Rajasthan                    |  68209 |  23376 |   3 |\n| Sikkim                       |    632 |    430 |   0 |\n| Tamil Nadu                   |  59238 |  23001 |   6 |\n| Telangana                    |  53521 |  33179 |   2 |\n| Tripura                      |   5301 |   2205 |   0 |\n| Uttar Pradesh                |  25433 |  24139 |   0 |\n| Uttarakhand                  |   5989 |   4531 |   0 |\n| West Bengal                  | 153809 |  77879 |   1 |\n\n",
            "text/latex": "A tibble: 38 × 4\n\\begin{tabular}{llll}\n State.UT & total\\_recovered\\_female & total\\_recovered\\_male & total\\_recovered\\_trans\\\\\n <chr> & <int> & <int> & <int>\\\\\n\\hline\n\t A \\& N Islands                &    270 &    207 &   0\\\\\n\t Andhra Pradesh               &  35859 &  17968 & 514\\\\\n\t Arunachal Pradesh            &    247 &     56 &   0\\\\\n\t Assam                        &  15687 &   6912 & 120\\\\\n\t Bihar                        &  29493 &   8230 & 138\\\\\n\t Chandigarh                   &   1664 &   1147 &   1\\\\\n\t Chhattisgarh                 &  43756 &  16394 &   0\\\\\n\t D\\&N Haveli                   &     93 &     37 &   0\\\\\n\t D\\&N Haveli and Daman and Diu &    196 &     96 &   0\\\\\n\t Daman \\& Diu                  &    199 &    149 &   0\\\\\n\t Delhi UT                     &  61511 &  49480 &   3\\\\\n\t Goa                          &   1189 &   1303 &   0\\\\\n\t Gujarat                      &  43955 &  22732 &  39\\\\\n\t Haryana                      &  32220 &  19807 &   0\\\\\n\t Himachal Pradesh             &   5949 &   2942 &   0\\\\\n\t Jammu \\& Kashmir              &   6481 &   4133 &   0\\\\\n\t Jharkhand                    &   2241 &   2108 &   4\\\\\n\t Karnataka                    &  50142 &  27866 &   7\\\\\n\t Kerala                       &  35506 &  17292 & 121\\\\\n\t Ladakh                       &     12 &     31 &   0\\\\\n\t Lakshadweep                  &      0 &      7 &   0\\\\\n\t Madhya Pradesh               & 142693 &  58343 &   3\\\\\n\t Maharashtra                  & 177316 & 130584 & 275\\\\\n\t Manipur                      &    759 &    584 &   0\\\\\n\t Meghalaya                    &    768 &    634 &   0\\\\\n\t Mizoram                      &      1 &      3 &   0\\\\\n\t Nagaland                     &    279 &    179 &   0\\\\\n\t Odisha                       &  50683 &  16506 &   0\\\\\n\t Puducherry                   &    709 &    411 &   0\\\\\n\t Punjab                       &   6469 &   5510 &   0\\\\\n\t Rajasthan                    &  68209 &  23376 &   3\\\\\n\t Sikkim                       &    632 &    430 &   0\\\\\n\t Tamil Nadu                   &  59238 &  23001 &   6\\\\\n\t Telangana                    &  53521 &  33179 &   2\\\\\n\t Tripura                      &   5301 &   2205 &   0\\\\\n\t Uttar Pradesh                &  25433 &  24139 &   0\\\\\n\t Uttarakhand                  &   5989 &   4531 &   0\\\\\n\t West Bengal                  & 153809 &  77879 &   1\\\\\n\\end{tabular}\n",
            "text/plain": [
              "   State.UT                     total_recovered_female total_recovered_male\n",
              "1  A & N Islands                   270                    207              \n",
              "2  Andhra Pradesh                35859                  17968              \n",
              "3  Arunachal Pradesh               247                     56              \n",
              "4  Assam                         15687                   6912              \n",
              "5  Bihar                         29493                   8230              \n",
              "6  Chandigarh                     1664                   1147              \n",
              "7  Chhattisgarh                  43756                  16394              \n",
              "8  D&N Haveli                       93                     37              \n",
              "9  D&N Haveli and Daman and Diu    196                     96              \n",
              "10 Daman & Diu                     199                    149              \n",
              "11 Delhi UT                      61511                  49480              \n",
              "12 Goa                            1189                   1303              \n",
              "13 Gujarat                       43955                  22732              \n",
              "14 Haryana                       32220                  19807              \n",
              "15 Himachal Pradesh               5949                   2942              \n",
              "16 Jammu & Kashmir                6481                   4133              \n",
              "17 Jharkhand                      2241                   2108              \n",
              "18 Karnataka                     50142                  27866              \n",
              "19 Kerala                        35506                  17292              \n",
              "20 Ladakh                           12                     31              \n",
              "21 Lakshadweep                       0                      7              \n",
              "22 Madhya Pradesh               142693                  58343              \n",
              "23 Maharashtra                  177316                 130584              \n",
              "24 Manipur                         759                    584              \n",
              "25 Meghalaya                       768                    634              \n",
              "26 Mizoram                           1                      3              \n",
              "27 Nagaland                        279                    179              \n",
              "28 Odisha                        50683                  16506              \n",
              "29 Puducherry                      709                    411              \n",
              "30 Punjab                         6469                   5510              \n",
              "31 Rajasthan                     68209                  23376              \n",
              "32 Sikkim                          632                    430              \n",
              "33 Tamil Nadu                    59238                  23001              \n",
              "34 Telangana                     53521                  33179              \n",
              "35 Tripura                        5301                   2205              \n",
              "36 Uttar Pradesh                 25433                  24139              \n",
              "37 Uttarakhand                    5989                   4531              \n",
              "38 West Bengal                  153809                  77879              \n",
              "   total_recovered_trans\n",
              "1    0                  \n",
              "2  514                  \n",
              "3    0                  \n",
              "4  120                  \n",
              "5  138                  \n",
              "6    1                  \n",
              "7    0                  \n",
              "8    0                  \n",
              "9    0                  \n",
              "10   0                  \n",
              "11   3                  \n",
              "12   0                  \n",
              "13  39                  \n",
              "14   0                  \n",
              "15   0                  \n",
              "16   0                  \n",
              "17   4                  \n",
              "18   7                  \n",
              "19 121                  \n",
              "20   0                  \n",
              "21   0                  \n",
              "22   3                  \n",
              "23 275                  \n",
              "24   0                  \n",
              "25   0                  \n",
              "26   0                  \n",
              "27   0                  \n",
              "28   0                  \n",
              "29   0                  \n",
              "30   0                  \n",
              "31   3                  \n",
              "32   0                  \n",
              "33   6                  \n",
              "34   2                  \n",
              "35   0                  \n",
              "36   0                  \n",
              "37   0                  \n",
              "38   1                  "
            ]
          },
          "metadata": {}
        }
      ]
    },
    {
      "cell_type": "code",
      "source": [
        "new_row <- c(\"D&N Haveli and Daman and Diu\",488,282,0)"
      ],
      "metadata": {
        "id": "MIz7vCqIRAdJ"
      },
      "execution_count": 45,
      "outputs": []
    },
    {
      "cell_type": "code",
      "source": [
        "rec_grp_state <-rec_grp_state[-c(8,9,10),]"
      ],
      "metadata": {
        "id": "0dgi54XcRAi-"
      },
      "execution_count": 46,
      "outputs": []
    },
    {
      "cell_type": "code",
      "source": [
        "rec_grp_state[nrow(rec_grp_state)+1,] <- list(\"D&N Haveli and Daman and Diu\",488,282,0)"
      ],
      "metadata": {
        "id": "KP9gCQfkRAmS"
      },
      "execution_count": 47,
      "outputs": []
    },
    {
      "cell_type": "code",
      "source": [
        "colors = c(\"yellow\", \"blue\", \"red\")\n",
        "gender <- c(\"Female\", \"Male\", \"Trans\")\n",
        "state <- c(\"A & N Islands\",\"Andhra Pradesh\",\"Arunachal Pradesh\",\"Assam\",\"Bihar\",\"Chandigarh\",\"Chhattisgarh\",\"Delhi UT\",\"Goa\",\"Gujarat\",\"Haryana\",\"Himachal Pradesh\",\"Jammu & Kashmir\",\"Jharkhand\",\"Karnataka\",\"Kerala\",\"Ladakh\",\"Lakshadweep\",\"Madhya Pradesh\",\"Maharashtra\",\"Manipur\",\"Meghalaya\",\"Mizoram\",\"Nagaland\",\"Odisha\",\"Puducherry\",\"Punjab\",\"Rajasthan\",\"Sikkim\",\"Tamil Nadu\",\"Telangana\",\"Tripura\",\"Uttar Pradesh\",\"Uttarakhand\",\"West Bengal\",\"D&N Haveli and Daman and Diu\")\n",
        "\n",
        "\n",
        "mx <- t(as.matrix(rec_grp_state[-1]))\n",
        "colnames(mx) <- rec_grp_state$State.UT\n",
        "\n",
        "# Create the bar chart\n",
        "par(mar=c(15, 4,3,1)) # 15 line height for bottom margin\n",
        "#dev.new(width=500,height=500,unit=\"px\")\n",
        "barplot(mx, main = \"State wise recovered/traced people in all years\", names.arg=state, \n",
        "                          col = colors,las=2)   #geom_bar(width = 0.98)\n",
        "                            #geom_text(aes(label = signif(value)), nudge_y = 3)\n",
        "\n",
        "# Add the legend to the chart\n",
        "legend(\"topleft\", gender, fill = colors)\n",
        "\n"
      ],
      "metadata": {
        "colab": {
          "base_uri": "https://localhost:8080/",
          "height": 437
        },
        "id": "MosM1-krRAou",
        "outputId": "f2707d5c-3170-42ed-ffe6-158e82c51a87"
      },
      "execution_count": 48,
      "outputs": [
        {
          "output_type": "display_data",
          "data": {
            "text/plain": [
              "Plot with title “State wise recovered/traced people in all years”"
            ],
            "image/png": "[encoded data removed]"
          },
          "metadata": {
            "image/png": {
              "width": 420,
              "height": 420
            }
          }
        }
      ]
    },
    {
      "cell_type": "markdown",
      "source": [
        "## Q3 Identify the states with recovery rate less than 60%? "
      ],
      "metadata": {
        "id": "n_tHkhA3irZc"
      }
    },
    {
      "cell_type": "code",
      "source": [
        "low_recovery <- subset(df,select=c(\"Year\",\"State.UT\",\"Percentage.Recovery..Total.Recovered.or.Traced..Total.Missing....100...Total\"),Percentage.Recovery..Total.Recovered.or.Traced..Total.Missing....100...Total<60)\n",
        "low_recovery\n",
        "low_recovery_2021 <- subset(low_recovery,Year==2021)\n",
        "low_recovery_2021"
      ],
      "metadata": {
        "colab": {
          "base_uri": "https://localhost:8080/",
          "height": 1000
        },
        "id": "rUhbriTfbJpk",
        "outputId": "a00623f1-e3fc-466f-acbd-b25cae55d18c"
      },
      "execution_count": 49,
      "outputs": [
        {
          "output_type": "display_data",
          "data": {
            "text/html": [
              "<table class=\"dataframe\">\n",
              "<caption>A data.frame: 108 × 3</caption>\n",
              "<thead>\n",
              "\t<tr><th></th><th scope=col>Year</th><th scope=col>State.UT</th><th scope=col>Percentage.Recovery..Total.Recovered.or.Traced..Total.Missing....100...Total</th></tr>\n",
              "\t<tr><th></th><th scope=col>&lt;int&gt;</th><th scope=col>&lt;chr&gt;</th><th scope=col>&lt;dbl&gt;</th></tr>\n",
              "</thead>\n",
              "<tbody>\n",
              "\t<tr><th scope=row>2</th><td>2017</td><td>Arunachal Pradesh</td><td>53.1</td></tr>\n",
              "\t<tr><th scope=row>4</th><td>2017</td><td>Bihar            </td><td>37.3</td></tr>\n",
              "\t<tr><th scope=row>5</th><td>2017</td><td>Chhattisgarh     </td><td>44.9</td></tr>\n",
              "\t<tr><th scope=row>6</th><td>2017</td><td>Goa              </td><td>40.1</td></tr>\n",
              "\t<tr><th scope=row>8</th><td>2017</td><td>Haryana          </td><td>53.5</td></tr>\n",
              "\t<tr><th scope=row>9</th><td>2017</td><td>Himachal Pradesh </td><td>57.6</td></tr>\n",
              "\t<tr><th scope=row>10</th><td>2017</td><td><span style=white-space:pre-wrap>Jammu &amp; Kashmir  </span></td><td>35.6</td></tr>\n",
              "\t<tr><th scope=row>11</th><td>2017</td><td>Jharkhand        </td><td>43.9</td></tr>\n",
              "\t<tr><th scope=row>12</th><td>2017</td><td>Karnataka        </td><td>53.2</td></tr>\n",
              "\t<tr><th scope=row>14</th><td>2017</td><td>Madhya Pradesh   </td><td>45.7</td></tr>\n",
              "\t<tr><th scope=row>15</th><td>2017</td><td>Maharashtra      </td><td>48.4</td></tr>\n",
              "\t<tr><th scope=row>17</th><td>2017</td><td>Meghalaya        </td><td>50.5</td></tr>\n",
              "\t<tr><th scope=row>21</th><td>2017</td><td>Punjab           </td><td>24.2</td></tr>\n",
              "\t<tr><th scope=row>22</th><td>2017</td><td>Rajasthan        </td><td>59.4</td></tr>\n",
              "\t<tr><th scope=row>27</th><td>2017</td><td>Uttar Pradesh    </td><td>35.1</td></tr>\n",
              "\t<tr><th scope=row>28</th><td>2017</td><td>Uttarakhand      </td><td>32.6</td></tr>\n",
              "\t<tr><th scope=row>29</th><td>2017</td><td>West Bengal      </td><td>50.4</td></tr>\n",
              "\t<tr><th scope=row>30</th><td>2017</td><td><span style=white-space:pre-wrap>A &amp; N Islands    </span></td><td>39.1</td></tr>\n",
              "\t<tr><th scope=row>31</th><td>2017</td><td>Chandigarh       </td><td>20.9</td></tr>\n",
              "\t<tr><th scope=row>34</th><td>2017</td><td>Delhi UT         </td><td>38.1</td></tr>\n",
              "\t<tr><th scope=row>35</th><td>2017</td><td>Lakshadweep      </td><td> 0.0</td></tr>\n",
              "\t<tr><th scope=row>40</th><td>2018</td><td>Bihar            </td><td>56.8</td></tr>\n",
              "\t<tr><th scope=row>41</th><td>2018</td><td>Chhattisgarh     </td><td>48.6</td></tr>\n",
              "\t<tr><th scope=row>42</th><td>2018</td><td>Goa              </td><td>35.8</td></tr>\n",
              "\t<tr><th scope=row>45</th><td>2018</td><td>Himachal Pradesh </td><td>51.6</td></tr>\n",
              "\t<tr><th scope=row>46</th><td>2018</td><td><span style=white-space:pre-wrap>Jammu &amp; Kashmir  </span></td><td>36.6</td></tr>\n",
              "\t<tr><th scope=row>47</th><td>2018</td><td>Jharkhand        </td><td>37.2</td></tr>\n",
              "\t<tr><th scope=row>50</th><td>2018</td><td>Madhya Pradesh   </td><td>42.5</td></tr>\n",
              "\t<tr><th scope=row>51</th><td>2018</td><td>Maharashtra      </td><td>49.7</td></tr>\n",
              "\t<tr><th scope=row>56</th><td>2018</td><td>Odisha           </td><td>26.5</td></tr>\n",
              "\t<tr><th scope=row>⋮</th><td>⋮</td><td>⋮</td><td>⋮</td></tr>\n",
              "\t<tr><th scope=row>135</th><td>2020</td><td>Uttar Pradesh               </td><td>47.5</td></tr>\n",
              "\t<tr><th scope=row>136</th><td>2020</td><td>Uttarakhand                 </td><td>45.1</td></tr>\n",
              "\t<tr><th scope=row>137</th><td>2020</td><td>West Bengal                 </td><td>44.8</td></tr>\n",
              "\t<tr><th scope=row>138</th><td>2020</td><td><span style=white-space:pre-wrap>A &amp; N Islands               </span></td><td>25.6</td></tr>\n",
              "\t<tr><th scope=row>139</th><td>2020</td><td>Chandigarh                  </td><td>22.4</td></tr>\n",
              "\t<tr><th scope=row>140</th><td>2020</td><td>D&amp;N Haveli and Daman and Diu</td><td>52.8</td></tr>\n",
              "\t<tr><th scope=row>141</th><td>2020</td><td>Delhi UT                    </td><td>37.3</td></tr>\n",
              "\t<tr><th scope=row>142</th><td>2020</td><td>Ladakh                      </td><td>24.4</td></tr>\n",
              "\t<tr><th scope=row>143</th><td>2020</td><td>Lakshadweep                 </td><td> 0.0</td></tr>\n",
              "\t<tr><th scope=row>146</th><td>2021</td><td>Arunachal Pradesh           </td><td>42.1</td></tr>\n",
              "\t<tr><th scope=row>148</th><td>2021</td><td>Bihar                       </td><td>43.9</td></tr>\n",
              "\t<tr><th scope=row>149</th><td>2021</td><td>Chhattisgarh                </td><td>42.9</td></tr>\n",
              "\t<tr><th scope=row>150</th><td>2021</td><td>Goa                         </td><td>35.4</td></tr>\n",
              "\t<tr><th scope=row>152</th><td>2021</td><td>Haryana                     </td><td>57.8</td></tr>\n",
              "\t<tr><th scope=row>154</th><td>2021</td><td><span style=white-space:pre-wrap>Jammu &amp; Kashmir             </span></td><td>38.9</td></tr>\n",
              "\t<tr><th scope=row>155</th><td>2021</td><td>Jharkhand                   </td><td>46.3</td></tr>\n",
              "\t<tr><th scope=row>158</th><td>2021</td><td>Madhya Pradesh              </td><td>50.0</td></tr>\n",
              "\t<tr><th scope=row>162</th><td>2021</td><td>Mizoram                     </td><td> 0.0</td></tr>\n",
              "\t<tr><th scope=row>164</th><td>2021</td><td>Odisha                      </td><td>49.2</td></tr>\n",
              "\t<tr><th scope=row>165</th><td>2021</td><td>Punjab                      </td><td>16.6</td></tr>\n",
              "\t<tr><th scope=row>166</th><td>2021</td><td>Rajasthan                   </td><td>55.3</td></tr>\n",
              "\t<tr><th scope=row>171</th><td>2021</td><td>Uttar Pradesh               </td><td>39.5</td></tr>\n",
              "\t<tr><th scope=row>172</th><td>2021</td><td>Uttarakhand                 </td><td>50.7</td></tr>\n",
              "\t<tr><th scope=row>173</th><td>2021</td><td>West Bengal                 </td><td>44.5</td></tr>\n",
              "\t<tr><th scope=row>174</th><td>2021</td><td><span style=white-space:pre-wrap>A &amp; N Islands               </span></td><td>28.5</td></tr>\n",
              "\t<tr><th scope=row>175</th><td>2021</td><td>Chandigarh                  </td><td>29.4</td></tr>\n",
              "\t<tr><th scope=row>176</th><td>2021</td><td>D&amp;N Haveli and Daman and Diu</td><td>59.7</td></tr>\n",
              "\t<tr><th scope=row>177</th><td>2021</td><td>Delhi UT                    </td><td>33.5</td></tr>\n",
              "\t<tr><th scope=row>178</th><td>2021</td><td>Ladakh                      </td><td>22.8</td></tr>\n",
              "\t<tr><th scope=row>179</th><td>2021</td><td>Lakshadweep                 </td><td> 0.0</td></tr>\n",
              "</tbody>\n",
              "</table>\n"
            ],
            "text/markdown": "\nA data.frame: 108 × 3\n\n| <!--/--> | Year &lt;int&gt; | State.UT &lt;chr&gt; | Percentage.Recovery..Total.Recovered.or.Traced..Total.Missing....100...Total &lt;dbl&gt; |\n|---|---|---|---|\n| 2 | 2017 | Arunachal Pradesh | 53.1 |\n| 4 | 2017 | Bihar             | 37.3 |\n| 5 | 2017 | Chhattisgarh      | 44.9 |\n| 6 | 2017 | Goa               | 40.1 |\n| 8 | 2017 | Haryana           | 53.5 |\n| 9 | 2017 | Himachal Pradesh  | 57.6 |\n| 10 | 2017 | Jammu &amp; Kashmir   | 35.6 |\n| 11 | 2017 | Jharkhand         | 43.9 |\n| 12 | 2017 | Karnataka         | 53.2 |\n| 14 | 2017 | Madhya Pradesh    | 45.7 |\n| 15 | 2017 | Maharashtra       | 48.4 |\n| 17 | 2017 | Meghalaya         | 50.5 |\n| 21 | 2017 | Punjab            | 24.2 |\n| 22 | 2017 | Rajasthan         | 59.4 |\n| 27 | 2017 | Uttar Pradesh     | 35.1 |\n| 28 | 2017 | Uttarakhand       | 32.6 |\n| 29 | 2017 | West Bengal       | 50.4 |\n| 30 | 2017 | A &amp; N Islands     | 39.1 |\n| 31 | 2017 | Chandigarh        | 20.9 |\n| 34 | 2017 | Delhi UT          | 38.1 |\n| 35 | 2017 | Lakshadweep       |  0.0 |\n| 40 | 2018 | Bihar             | 56.8 |\n| 41 | 2018 | Chhattisgarh      | 48.6 |\n| 42 | 2018 | Goa               | 35.8 |\n| 45 | 2018 | Himachal Pradesh  | 51.6 |\n| 46 | 2018 | Jammu &amp; Kashmir   | 36.6 |\n| 47 | 2018 | Jharkhand         | 37.2 |\n| 50 | 2018 | Madhya Pradesh    | 42.5 |\n| 51 | 2018 | Maharashtra       | 49.7 |\n| 56 | 2018 | Odisha            | 26.5 |\n| ⋮ | ⋮ | ⋮ | ⋮ |\n| 135 | 2020 | Uttar Pradesh                | 47.5 |\n| 136 | 2020 | Uttarakhand                  | 45.1 |\n| 137 | 2020 | West Bengal                  | 44.8 |\n| 138 | 2020 | A &amp; N Islands                | 25.6 |\n| 139 | 2020 | Chandigarh                   | 22.4 |\n| 140 | 2020 | D&amp;N Haveli and Daman and Diu | 52.8 |\n| 141 | 2020 | Delhi UT                     | 37.3 |\n| 142 | 2020 | Ladakh                       | 24.4 |\n| 143 | 2020 | Lakshadweep                  |  0.0 |\n| 146 | 2021 | Arunachal Pradesh            | 42.1 |\n| 148 | 2021 | Bihar                        | 43.9 |\n| 149 | 2021 | Chhattisgarh                 | 42.9 |\n| 150 | 2021 | Goa                          | 35.4 |\n| 152 | 2021 | Haryana                      | 57.8 |\n| 154 | 2021 | Jammu &amp; Kashmir              | 38.9 |\n| 155 | 2021 | Jharkhand                    | 46.3 |\n| 158 | 2021 | Madhya Pradesh               | 50.0 |\n| 162 | 2021 | Mizoram                      |  0.0 |\n| 164 | 2021 | Odisha                       | 49.2 |\n| 165 | 2021 | Punjab                       | 16.6 |\n| 166 | 2021 | Rajasthan                    | 55.3 |\n| 171 | 2021 | Uttar Pradesh                | 39.5 |\n| 172 | 2021 | Uttarakhand                  | 50.7 |\n| 173 | 2021 | West Bengal                  | 44.5 |\n| 174 | 2021 | A &amp; N Islands                | 28.5 |\n| 175 | 2021 | Chandigarh                   | 29.4 |\n| 176 | 2021 | D&amp;N Haveli and Daman and Diu | 59.7 |\n| 177 | 2021 | Delhi UT                     | 33.5 |\n| 178 | 2021 | Ladakh                       | 22.8 |\n| 179 | 2021 | Lakshadweep                  |  0.0 |\n\n",
            "text/latex": "A data.frame: 108 × 3\n\\begin{tabular}{r|lll}\n  & Year & State.UT & Percentage.Recovery..Total.Recovered.or.Traced..Total.Missing....100...Total\\\\\n  & <int> & <chr> & <dbl>\\\\\n\\hline\n\t2 & 2017 & Arunachal Pradesh & 53.1\\\\\n\t4 & 2017 & Bihar             & 37.3\\\\\n\t5 & 2017 & Chhattisgarh      & 44.9\\\\\n\t6 & 2017 & Goa               & 40.1\\\\\n\t8 & 2017 & Haryana           & 53.5\\\\\n\t9 & 2017 & Himachal Pradesh  & 57.6\\\\\n\t10 & 2017 & Jammu \\& Kashmir   & 35.6\\\\\n\t11 & 2017 & Jharkhand         & 43.9\\\\\n\t12 & 2017 & Karnataka         & 53.2\\\\\n\t14 & 2017 & Madhya Pradesh    & 45.7\\\\\n\t15 & 2017 & Maharashtra       & 48.4\\\\\n\t17 & 2017 & Meghalaya         & 50.5\\\\\n\t21 & 2017 & Punjab            & 24.2\\\\\n\t22 & 2017 & Rajasthan         & 59.4\\\\\n\t27 & 2017 & Uttar Pradesh     & 35.1\\\\\n\t28 & 2017 & Uttarakhand       & 32.6\\\\\n\t29 & 2017 & West Bengal       & 50.4\\\\\n\t30 & 2017 & A \\& N Islands     & 39.1\\\\\n\t31 & 2017 & Chandigarh        & 20.9\\\\\n\t34 & 2017 & Delhi UT          & 38.1\\\\\n\t35 & 2017 & Lakshadweep       &  0.0\\\\\n\t40 & 2018 & Bihar             & 56.8\\\\\n\t41 & 2018 & Chhattisgarh      & 48.6\\\\\n\t42 & 2018 & Goa               & 35.8\\\\\n\t45 & 2018 & Himachal Pradesh  & 51.6\\\\\n\t46 & 2018 & Jammu \\& Kashmir   & 36.6\\\\\n\t47 & 2018 & Jharkhand         & 37.2\\\\\n\t50 & 2018 & Madhya Pradesh    & 42.5\\\\\n\t51 & 2018 & Maharashtra       & 49.7\\\\\n\t56 & 2018 & Odisha            & 26.5\\\\\n\t⋮ & ⋮ & ⋮ & ⋮\\\\\n\t135 & 2020 & Uttar Pradesh                & 47.5\\\\\n\t136 & 2020 & Uttarakhand                  & 45.1\\\\\n\t137 & 2020 & West Bengal                  & 44.8\\\\\n\t138 & 2020 & A \\& N Islands                & 25.6\\\\\n\t139 & 2020 & Chandigarh                   & 22.4\\\\\n\t140 & 2020 & D\\&N Haveli and Daman and Diu & 52.8\\\\\n\t141 & 2020 & Delhi UT                     & 37.3\\\\\n\t142 & 2020 & Ladakh                       & 24.4\\\\\n\t143 & 2020 & Lakshadweep                  &  0.0\\\\\n\t146 & 2021 & Arunachal Pradesh            & 42.1\\\\\n\t148 & 2021 & Bihar                        & 43.9\\\\\n\t149 & 2021 & Chhattisgarh                 & 42.9\\\\\n\t150 & 2021 & Goa                          & 35.4\\\\\n\t152 & 2021 & Haryana                      & 57.8\\\\\n\t154 & 2021 & Jammu \\& Kashmir              & 38.9\\\\\n\t155 & 2021 & Jharkhand                    & 46.3\\\\\n\t158 & 2021 & Madhya Pradesh               & 50.0\\\\\n\t162 & 2021 & Mizoram                      &  0.0\\\\\n\t164 & 2021 & Odisha                       & 49.2\\\\\n\t165 & 2021 & Punjab                       & 16.6\\\\\n\t166 & 2021 & Rajasthan                    & 55.3\\\\\n\t171 & 2021 & Uttar Pradesh                & 39.5\\\\\n\t172 & 2021 & Uttarakhand                  & 50.7\\\\\n\t173 & 2021 & West Bengal                  & 44.5\\\\\n\t174 & 2021 & A \\& N Islands                & 28.5\\\\\n\t175 & 2021 & Chandigarh                   & 29.4\\\\\n\t176 & 2021 & D\\&N Haveli and Daman and Diu & 59.7\\\\\n\t177 & 2021 & Delhi UT                     & 33.5\\\\\n\t178 & 2021 & Ladakh                       & 22.8\\\\\n\t179 & 2021 & Lakshadweep                  &  0.0\\\\\n\\end{tabular}\n",
            "text/plain": [
              "    Year State.UT                    \n",
              "2   2017 Arunachal Pradesh           \n",
              "4   2017 Bihar                       \n",
              "5   2017 Chhattisgarh                \n",
              "6   2017 Goa                         \n",
              "8   2017 Haryana                     \n",
              "9   2017 Himachal Pradesh            \n",
              "10  2017 Jammu & Kashmir             \n",
              "11  2017 Jharkhand                   \n",
              "12  2017 Karnataka                   \n",
              "14  2017 Madhya Pradesh              \n",
              "15  2017 Maharashtra                 \n",
              "17  2017 Meghalaya                   \n",
              "21  2017 Punjab                      \n",
              "22  2017 Rajasthan                   \n",
              "27  2017 Uttar Pradesh               \n",
              "28  2017 Uttarakhand                 \n",
              "29  2017 West Bengal                 \n",
              "30  2017 A & N Islands               \n",
              "31  2017 Chandigarh                  \n",
              "34  2017 Delhi UT                    \n",
              "35  2017 Lakshadweep                 \n",
              "40  2018 Bihar                       \n",
              "41  2018 Chhattisgarh                \n",
              "42  2018 Goa                         \n",
              "45  2018 Himachal Pradesh            \n",
              "46  2018 Jammu & Kashmir             \n",
              "47  2018 Jharkhand                   \n",
              "50  2018 Madhya Pradesh              \n",
              "51  2018 Maharashtra                 \n",
              "56  2018 Odisha                      \n",
              "⋮   ⋮    ⋮                           \n",
              "135 2020 Uttar Pradesh               \n",
              "136 2020 Uttarakhand                 \n",
              "137 2020 West Bengal                 \n",
              "138 2020 A & N Islands               \n",
              "139 2020 Chandigarh                  \n",
              "140 2020 D&N Haveli and Daman and Diu\n",
              "141 2020 Delhi UT                    \n",
              "142 2020 Ladakh                      \n",
              "143 2020 Lakshadweep                 \n",
              "146 2021 Arunachal Pradesh           \n",
              "148 2021 Bihar                       \n",
              "149 2021 Chhattisgarh                \n",
              "150 2021 Goa                         \n",
              "152 2021 Haryana                     \n",
              "154 2021 Jammu & Kashmir             \n",
              "155 2021 Jharkhand                   \n",
              "158 2021 Madhya Pradesh              \n",
              "162 2021 Mizoram                     \n",
              "164 2021 Odisha                      \n",
              "165 2021 Punjab                      \n",
              "166 2021 Rajasthan                   \n",
              "171 2021 Uttar Pradesh               \n",
              "172 2021 Uttarakhand                 \n",
              "173 2021 West Bengal                 \n",
              "174 2021 A & N Islands               \n",
              "175 2021 Chandigarh                  \n",
              "176 2021 D&N Haveli and Daman and Diu\n",
              "177 2021 Delhi UT                    \n",
              "178 2021 Ladakh                      \n",
              "179 2021 Lakshadweep                 \n",
              "    Percentage.Recovery..Total.Recovered.or.Traced..Total.Missing....100...Total\n",
              "2   53.1                                                                        \n",
              "4   37.3                                                                        \n",
              "5   44.9                                                                        \n",
              "6   40.1                                                                        \n",
              "8   53.5                                                                        \n",
              "9   57.6                                                                        \n",
              "10  35.6                                                                        \n",
              "11  43.9                                                                        \n",
              "12  53.2                                                                        \n",
              "14  45.7                                                                        \n",
              "15  48.4                                                                        \n",
              "17  50.5                                                                        \n",
              "21  24.2                                                                        \n",
              "22  59.4                                                                        \n",
              "27  35.1                                                                        \n",
              "28  32.6                                                                        \n",
              "29  50.4                                                                        \n",
              "30  39.1                                                                        \n",
              "31  20.9                                                                        \n",
              "34  38.1                                                                        \n",
              "35   0.0                                                                        \n",
              "40  56.8                                                                        \n",
              "41  48.6                                                                        \n",
              "42  35.8                                                                        \n",
              "45  51.6                                                                        \n",
              "46  36.6                                                                        \n",
              "47  37.2                                                                        \n",
              "50  42.5                                                                        \n",
              "51  49.7                                                                        \n",
              "56  26.5                                                                        \n",
              "⋮   ⋮                                                                           \n",
              "135 47.5                                                                        \n",
              "136 45.1                                                                        \n",
              "137 44.8                                                                        \n",
              "138 25.6                                                                        \n",
              "139 22.4                                                                        \n",
              "140 52.8                                                                        \n",
              "141 37.3                                                                        \n",
              "142 24.4                                                                        \n",
              "143  0.0                                                                        \n",
              "146 42.1                                                                        \n",
              "148 43.9                                                                        \n",
              "149 42.9                                                                        \n",
              "150 35.4                                                                        \n",
              "152 57.8                                                                        \n",
              "154 38.9                                                                        \n",
              "155 46.3                                                                        \n",
              "158 50.0                                                                        \n",
              "162  0.0                                                                        \n",
              "164 49.2                                                                        \n",
              "165 16.6                                                                        \n",
              "166 55.3                                                                        \n",
              "171 39.5                                                                        \n",
              "172 50.7                                                                        \n",
              "173 44.5                                                                        \n",
              "174 28.5                                                                        \n",
              "175 29.4                                                                        \n",
              "176 59.7                                                                        \n",
              "177 33.5                                                                        \n",
              "178 22.8                                                                        \n",
              "179  0.0                                                                        "
            ]
          },
          "metadata": {}
        },
        {
          "output_type": "display_data",
          "data": {
            "text/html": [
              "<table class=\"dataframe\">\n",
              "<caption>A data.frame: 21 × 3</caption>\n",
              "<thead>\n",
              "\t<tr><th></th><th scope=col>Year</th><th scope=col>State.UT</th><th scope=col>Percentage.Recovery..Total.Recovered.or.Traced..Total.Missing....100...Total</th></tr>\n",
              "\t<tr><th></th><th scope=col>&lt;int&gt;</th><th scope=col>&lt;chr&gt;</th><th scope=col>&lt;dbl&gt;</th></tr>\n",
              "</thead>\n",
              "<tbody>\n",
              "\t<tr><th scope=row>146</th><td>2021</td><td>Arunachal Pradesh           </td><td>42.1</td></tr>\n",
              "\t<tr><th scope=row>148</th><td>2021</td><td>Bihar                       </td><td>43.9</td></tr>\n",
              "\t<tr><th scope=row>149</th><td>2021</td><td>Chhattisgarh                </td><td>42.9</td></tr>\n",
              "\t<tr><th scope=row>150</th><td>2021</td><td>Goa                         </td><td>35.4</td></tr>\n",
              "\t<tr><th scope=row>152</th><td>2021</td><td>Haryana                     </td><td>57.8</td></tr>\n",
              "\t<tr><th scope=row>154</th><td>2021</td><td><span style=white-space:pre-wrap>Jammu &amp; Kashmir             </span></td><td>38.9</td></tr>\n",
              "\t<tr><th scope=row>155</th><td>2021</td><td>Jharkhand                   </td><td>46.3</td></tr>\n",
              "\t<tr><th scope=row>158</th><td>2021</td><td>Madhya Pradesh              </td><td>50.0</td></tr>\n",
              "\t<tr><th scope=row>162</th><td>2021</td><td>Mizoram                     </td><td> 0.0</td></tr>\n",
              "\t<tr><th scope=row>164</th><td>2021</td><td>Odisha                      </td><td>49.2</td></tr>\n",
              "\t<tr><th scope=row>165</th><td>2021</td><td>Punjab                      </td><td>16.6</td></tr>\n",
              "\t<tr><th scope=row>166</th><td>2021</td><td>Rajasthan                   </td><td>55.3</td></tr>\n",
              "\t<tr><th scope=row>171</th><td>2021</td><td>Uttar Pradesh               </td><td>39.5</td></tr>\n",
              "\t<tr><th scope=row>172</th><td>2021</td><td>Uttarakhand                 </td><td>50.7</td></tr>\n",
              "\t<tr><th scope=row>173</th><td>2021</td><td>West Bengal                 </td><td>44.5</td></tr>\n",
              "\t<tr><th scope=row>174</th><td>2021</td><td><span style=white-space:pre-wrap>A &amp; N Islands               </span></td><td>28.5</td></tr>\n",
              "\t<tr><th scope=row>175</th><td>2021</td><td>Chandigarh                  </td><td>29.4</td></tr>\n",
              "\t<tr><th scope=row>176</th><td>2021</td><td>D&amp;N Haveli and Daman and Diu</td><td>59.7</td></tr>\n",
              "\t<tr><th scope=row>177</th><td>2021</td><td>Delhi UT                    </td><td>33.5</td></tr>\n",
              "\t<tr><th scope=row>178</th><td>2021</td><td>Ladakh                      </td><td>22.8</td></tr>\n",
              "\t<tr><th scope=row>179</th><td>2021</td><td>Lakshadweep                 </td><td> 0.0</td></tr>\n",
              "</tbody>\n",
              "</table>\n"
            ],
            "text/markdown": "\nA data.frame: 21 × 3\n\n| <!--/--> | Year &lt;int&gt; | State.UT &lt;chr&gt; | Percentage.Recovery..Total.Recovered.or.Traced..Total.Missing....100...Total &lt;dbl&gt; |\n|---|---|---|---|\n| 146 | 2021 | Arunachal Pradesh            | 42.1 |\n| 148 | 2021 | Bihar                        | 43.9 |\n| 149 | 2021 | Chhattisgarh                 | 42.9 |\n| 150 | 2021 | Goa                          | 35.4 |\n| 152 | 2021 | Haryana                      | 57.8 |\n| 154 | 2021 | Jammu &amp; Kashmir              | 38.9 |\n| 155 | 2021 | Jharkhand                    | 46.3 |\n| 158 | 2021 | Madhya Pradesh               | 50.0 |\n| 162 | 2021 | Mizoram                      |  0.0 |\n| 164 | 2021 | Odisha                       | 49.2 |\n| 165 | 2021 | Punjab                       | 16.6 |\n| 166 | 2021 | Rajasthan                    | 55.3 |\n| 171 | 2021 | Uttar Pradesh                | 39.5 |\n| 172 | 2021 | Uttarakhand                  | 50.7 |\n| 173 | 2021 | West Bengal                  | 44.5 |\n| 174 | 2021 | A &amp; N Islands                | 28.5 |\n| 175 | 2021 | Chandigarh                   | 29.4 |\n| 176 | 2021 | D&amp;N Haveli and Daman and Diu | 59.7 |\n| 177 | 2021 | Delhi UT                     | 33.5 |\n| 178 | 2021 | Ladakh                       | 22.8 |\n| 179 | 2021 | Lakshadweep                  |  0.0 |\n\n",
            "text/latex": "A data.frame: 21 × 3\n\\begin{tabular}{r|lll}\n  & Year & State.UT & Percentage.Recovery..Total.Recovered.or.Traced..Total.Missing....100...Total\\\\\n  & <int> & <chr> & <dbl>\\\\\n\\hline\n\t146 & 2021 & Arunachal Pradesh            & 42.1\\\\\n\t148 & 2021 & Bihar                        & 43.9\\\\\n\t149 & 2021 & Chhattisgarh                 & 42.9\\\\\n\t150 & 2021 & Goa                          & 35.4\\\\\n\t152 & 2021 & Haryana                      & 57.8\\\\\n\t154 & 2021 & Jammu \\& Kashmir              & 38.9\\\\\n\t155 & 2021 & Jharkhand                    & 46.3\\\\\n\t158 & 2021 & Madhya Pradesh               & 50.0\\\\\n\t162 & 2021 & Mizoram                      &  0.0\\\\\n\t164 & 2021 & Odisha                       & 49.2\\\\\n\t165 & 2021 & Punjab                       & 16.6\\\\\n\t166 & 2021 & Rajasthan                    & 55.3\\\\\n\t171 & 2021 & Uttar Pradesh                & 39.5\\\\\n\t172 & 2021 & Uttarakhand                  & 50.7\\\\\n\t173 & 2021 & West Bengal                  & 44.5\\\\\n\t174 & 2021 & A \\& N Islands                & 28.5\\\\\n\t175 & 2021 & Chandigarh                   & 29.4\\\\\n\t176 & 2021 & D\\&N Haveli and Daman and Diu & 59.7\\\\\n\t177 & 2021 & Delhi UT                     & 33.5\\\\\n\t178 & 2021 & Ladakh                       & 22.8\\\\\n\t179 & 2021 & Lakshadweep                  &  0.0\\\\\n\\end{tabular}\n",
            "text/plain": [
              "    Year State.UT                    \n",
              "146 2021 Arunachal Pradesh           \n",
              "148 2021 Bihar                       \n",
              "149 2021 Chhattisgarh                \n",
              "150 2021 Goa                         \n",
              "152 2021 Haryana                     \n",
              "154 2021 Jammu & Kashmir             \n",
              "155 2021 Jharkhand                   \n",
              "158 2021 Madhya Pradesh              \n",
              "162 2021 Mizoram                     \n",
              "164 2021 Odisha                      \n",
              "165 2021 Punjab                      \n",
              "166 2021 Rajasthan                   \n",
              "171 2021 Uttar Pradesh               \n",
              "172 2021 Uttarakhand                 \n",
              "173 2021 West Bengal                 \n",
              "174 2021 A & N Islands               \n",
              "175 2021 Chandigarh                  \n",
              "176 2021 D&N Haveli and Daman and Diu\n",
              "177 2021 Delhi UT                    \n",
              "178 2021 Ladakh                      \n",
              "179 2021 Lakshadweep                 \n",
              "    Percentage.Recovery..Total.Recovered.or.Traced..Total.Missing....100...Total\n",
              "146 42.1                                                                        \n",
              "148 43.9                                                                        \n",
              "149 42.9                                                                        \n",
              "150 35.4                                                                        \n",
              "152 57.8                                                                        \n",
              "154 38.9                                                                        \n",
              "155 46.3                                                                        \n",
              "158 50.0                                                                        \n",
              "162  0.0                                                                        \n",
              "164 49.2                                                                        \n",
              "165 16.6                                                                        \n",
              "166 55.3                                                                        \n",
              "171 39.5                                                                        \n",
              "172 50.7                                                                        \n",
              "173 44.5                                                                        \n",
              "174 28.5                                                                        \n",
              "175 29.4                                                                        \n",
              "176 59.7                                                                        \n",
              "177 33.5                                                                        \n",
              "178 22.8                                                                        \n",
              "179  0.0                                                                        "
            ]
          },
          "metadata": {}
        }
      ]
    },
    {
      "cell_type": "code",
      "source": [
        "colnames(low_recovery_2021)[2] <- \"Name\""
      ],
      "metadata": {
        "id": "tfC17Cv8dQup"
      },
      "execution_count": 50,
      "outputs": []
    },
    {
      "cell_type": "code",
      "source": [
        "low_recovery_2021$Name[low_recovery_2021$Name== \"A & N Islands\"] <- \"Andaman & Nicobar\" \n",
        "low_recovery_2021$Name[low_recovery_2021$Name==\"Delhi UT\"] <- \"Delhi\"\n",
        "low_recovery_2021$Name[low_recovery_2021$Name==\"Chhattisgarh\"] <- \"Chhattishgarh\"\n",
        "low_recovery_2021$Name[low_recovery_2021$Name==\"D&N Haveli and Daman and Diu\"] <- \"Daman and Diu and Dadra and Nagar Haveli\"  \n",
        "low_recovery_2021$Name[low_recovery_2021$Name==\"Jammu & Kashmir\"] <- \"Jammu and Kashmir\"\n",
        "low_recovery_2021"
      ],
      "metadata": {
        "colab": {
          "base_uri": "https://localhost:8080/",
          "height": 756
        },
        "id": "oiJx5q3edXkI",
        "outputId": "2e6d05a5-33cc-4b42-a7a5-565b3a9ea93f"
      },
      "execution_count": 51,
      "outputs": [
        {
          "output_type": "display_data",
          "data": {
            "text/html": [
              "<table class=\"dataframe\">\n",
              "<caption>A data.frame: 21 × 3</caption>\n",
              "<thead>\n",
              "\t<tr><th></th><th scope=col>Year</th><th scope=col>Name</th><th scope=col>Percentage.Recovery..Total.Recovered.or.Traced..Total.Missing....100...Total</th></tr>\n",
              "\t<tr><th></th><th scope=col>&lt;int&gt;</th><th scope=col>&lt;chr&gt;</th><th scope=col>&lt;dbl&gt;</th></tr>\n",
              "</thead>\n",
              "<tbody>\n",
              "\t<tr><th scope=row>146</th><td>2021</td><td>Arunachal Pradesh                       </td><td>42.1</td></tr>\n",
              "\t<tr><th scope=row>148</th><td>2021</td><td>Bihar                                   </td><td>43.9</td></tr>\n",
              "\t<tr><th scope=row>149</th><td>2021</td><td>Chhattishgarh                           </td><td>42.9</td></tr>\n",
              "\t<tr><th scope=row>150</th><td>2021</td><td>Goa                                     </td><td>35.4</td></tr>\n",
              "\t<tr><th scope=row>152</th><td>2021</td><td>Haryana                                 </td><td>57.8</td></tr>\n",
              "\t<tr><th scope=row>154</th><td>2021</td><td>Jammu and Kashmir                       </td><td>38.9</td></tr>\n",
              "\t<tr><th scope=row>155</th><td>2021</td><td>Jharkhand                               </td><td>46.3</td></tr>\n",
              "\t<tr><th scope=row>158</th><td>2021</td><td>Madhya Pradesh                          </td><td>50.0</td></tr>\n",
              "\t<tr><th scope=row>162</th><td>2021</td><td>Mizoram                                 </td><td> 0.0</td></tr>\n",
              "\t<tr><th scope=row>164</th><td>2021</td><td>Odisha                                  </td><td>49.2</td></tr>\n",
              "\t<tr><th scope=row>165</th><td>2021</td><td>Punjab                                  </td><td>16.6</td></tr>\n",
              "\t<tr><th scope=row>166</th><td>2021</td><td>Rajasthan                               </td><td>55.3</td></tr>\n",
              "\t<tr><th scope=row>171</th><td>2021</td><td>Uttar Pradesh                           </td><td>39.5</td></tr>\n",
              "\t<tr><th scope=row>172</th><td>2021</td><td>Uttarakhand                             </td><td>50.7</td></tr>\n",
              "\t<tr><th scope=row>173</th><td>2021</td><td>West Bengal                             </td><td>44.5</td></tr>\n",
              "\t<tr><th scope=row>174</th><td>2021</td><td><span style=white-space:pre-wrap>Andaman &amp; Nicobar                       </span></td><td>28.5</td></tr>\n",
              "\t<tr><th scope=row>175</th><td>2021</td><td>Chandigarh                              </td><td>29.4</td></tr>\n",
              "\t<tr><th scope=row>176</th><td>2021</td><td>Daman and Diu and Dadra and Nagar Haveli</td><td>59.7</td></tr>\n",
              "\t<tr><th scope=row>177</th><td>2021</td><td>Delhi                                   </td><td>33.5</td></tr>\n",
              "\t<tr><th scope=row>178</th><td>2021</td><td>Ladakh                                  </td><td>22.8</td></tr>\n",
              "\t<tr><th scope=row>179</th><td>2021</td><td>Lakshadweep                             </td><td> 0.0</td></tr>\n",
              "</tbody>\n",
              "</table>\n"
            ],
            "text/markdown": "\nA data.frame: 21 × 3\n\n| <!--/--> | Year &lt;int&gt; | Name &lt;chr&gt; | Percentage.Recovery..Total.Recovered.or.Traced..Total.Missing....100...Total &lt;dbl&gt; |\n|---|---|---|---|\n| 146 | 2021 | Arunachal Pradesh                        | 42.1 |\n| 148 | 2021 | Bihar                                    | 43.9 |\n| 149 | 2021 | Chhattishgarh                            | 42.9 |\n| 150 | 2021 | Goa                                      | 35.4 |\n| 152 | 2021 | Haryana                                  | 57.8 |\n| 154 | 2021 | Jammu and Kashmir                        | 38.9 |\n| 155 | 2021 | Jharkhand                                | 46.3 |\n| 158 | 2021 | Madhya Pradesh                           | 50.0 |\n| 162 | 2021 | Mizoram                                  |  0.0 |\n| 164 | 2021 | Odisha                                   | 49.2 |\n| 165 | 2021 | Punjab                                   | 16.6 |\n| 166 | 2021 | Rajasthan                                | 55.3 |\n| 171 | 2021 | Uttar Pradesh                            | 39.5 |\n| 172 | 2021 | Uttarakhand                              | 50.7 |\n| 173 | 2021 | West Bengal                              | 44.5 |\n| 174 | 2021 | Andaman &amp; Nicobar                        | 28.5 |\n| 175 | 2021 | Chandigarh                               | 29.4 |\n| 176 | 2021 | Daman and Diu and Dadra and Nagar Haveli | 59.7 |\n| 177 | 2021 | Delhi                                    | 33.5 |\n| 178 | 2021 | Ladakh                                   | 22.8 |\n| 179 | 2021 | Lakshadweep                              |  0.0 |\n\n",
            "text/latex": "A data.frame: 21 × 3\n\\begin{tabular}{r|lll}\n  & Year & Name & Percentage.Recovery..Total.Recovered.or.Traced..Total.Missing....100...Total\\\\\n  & <int> & <chr> & <dbl>\\\\\n\\hline\n\t146 & 2021 & Arunachal Pradesh                        & 42.1\\\\\n\t148 & 2021 & Bihar                                    & 43.9\\\\\n\t149 & 2021 & Chhattishgarh                            & 42.9\\\\\n\t150 & 2021 & Goa                                      & 35.4\\\\\n\t152 & 2021 & Haryana                                  & 57.8\\\\\n\t154 & 2021 & Jammu and Kashmir                        & 38.9\\\\\n\t155 & 2021 & Jharkhand                                & 46.3\\\\\n\t158 & 2021 & Madhya Pradesh                           & 50.0\\\\\n\t162 & 2021 & Mizoram                                  &  0.0\\\\\n\t164 & 2021 & Odisha                                   & 49.2\\\\\n\t165 & 2021 & Punjab                                   & 16.6\\\\\n\t166 & 2021 & Rajasthan                                & 55.3\\\\\n\t171 & 2021 & Uttar Pradesh                            & 39.5\\\\\n\t172 & 2021 & Uttarakhand                              & 50.7\\\\\n\t173 & 2021 & West Bengal                              & 44.5\\\\\n\t174 & 2021 & Andaman \\& Nicobar                        & 28.5\\\\\n\t175 & 2021 & Chandigarh                               & 29.4\\\\\n\t176 & 2021 & Daman and Diu and Dadra and Nagar Haveli & 59.7\\\\\n\t177 & 2021 & Delhi                                    & 33.5\\\\\n\t178 & 2021 & Ladakh                                   & 22.8\\\\\n\t179 & 2021 & Lakshadweep                              &  0.0\\\\\n\\end{tabular}\n",
            "text/plain": [
              "    Year Name                                    \n",
              "146 2021 Arunachal Pradesh                       \n",
              "148 2021 Bihar                                   \n",
              "149 2021 Chhattishgarh                           \n",
              "150 2021 Goa                                     \n",
              "152 2021 Haryana                                 \n",
              "154 2021 Jammu and Kashmir                       \n",
              "155 2021 Jharkhand                               \n",
              "158 2021 Madhya Pradesh                          \n",
              "162 2021 Mizoram                                 \n",
              "164 2021 Odisha                                  \n",
              "165 2021 Punjab                                  \n",
              "166 2021 Rajasthan                               \n",
              "171 2021 Uttar Pradesh                           \n",
              "172 2021 Uttarakhand                             \n",
              "173 2021 West Bengal                             \n",
              "174 2021 Andaman & Nicobar                       \n",
              "175 2021 Chandigarh                              \n",
              "176 2021 Daman and Diu and Dadra and Nagar Haveli\n",
              "177 2021 Delhi                                   \n",
              "178 2021 Ladakh                                  \n",
              "179 2021 Lakshadweep                             \n",
              "    Percentage.Recovery..Total.Recovered.or.Traced..Total.Missing....100...Total\n",
              "146 42.1                                                                        \n",
              "148 43.9                                                                        \n",
              "149 42.9                                                                        \n",
              "150 35.4                                                                        \n",
              "152 57.8                                                                        \n",
              "154 38.9                                                                        \n",
              "155 46.3                                                                        \n",
              "158 50.0                                                                        \n",
              "162  0.0                                                                        \n",
              "164 49.2                                                                        \n",
              "165 16.6                                                                        \n",
              "166 55.3                                                                        \n",
              "171 39.5                                                                        \n",
              "172 50.7                                                                        \n",
              "173 44.5                                                                        \n",
              "174 28.5                                                                        \n",
              "175 29.4                                                                        \n",
              "176 59.7                                                                        \n",
              "177 33.5                                                                        \n",
              "178 22.8                                                                        \n",
              "179  0.0                                                                        "
            ]
          },
          "metadata": {}
        }
      ]
    },
    {
      "cell_type": "code",
      "source": [
        "Merged_data_recovery = merge(fortify_shape,low_recovery_2021,by=\"Name\")"
      ],
      "metadata": {
        "id": "65EYLWlNbJtI",
        "colab": {
          "base_uri": "https://localhost:8080/",
          "height": 131
        },
        "outputId": "cf11b5aa-314b-4fab-d2c3-d84f180176ba"
      },
      "execution_count": 52,
      "outputs": [
        {
          "output_type": "error",
          "ename": "ERROR",
          "evalue": "ignored",
          "traceback": [
            "Error in merge(fortify_shape, low_recovery_2021, by = \"Name\"): object 'fortify_shape' not found\nTraceback:\n",
            "1. merge(fortify_shape, low_recovery_2021, by = \"Name\")"
          ]
        }
      ]
    },
    {
      "cell_type": "code",
      "source": [
        "ggplot() +\n",
        "  geom_sf(data=Merged_data_recovery,\n",
        "           \taes(fill=\"red\"),\n",
        "      \t     color = \"black\") + guides(fill=guide_legend(title=\"Recovery < 60% in 2021\")) +\n",
        "               labs(title=\"States with recovery less than 60% in 2021\")\n",
        "ggsave(\"States with recovery less than 60% in 2021.png\",dpi = 300, width = 10, height = 10, units = \"cm\")"
      ],
      "metadata": {
        "colab": {
          "base_uri": "https://localhost:8080/",
          "height": 270
        },
        "id": "0m8a-CEhbJwf",
        "outputId": "e040b00d-7af6-48f1-f2bf-f0407b58defe"
      },
      "execution_count": 53,
      "outputs": [
        {
          "output_type": "error",
          "ename": "ERROR",
          "evalue": "ignored",
          "traceback": [
            "Error in fortify(data): object 'Merged_data_recovery' not found\nTraceback:\n",
            "1. geom_sf(data = Merged_data_recovery, aes(fill = \"red\"), color = \"black\")",
            "2. layer_sf(geom = GeomSf, data = data, mapping = mapping, stat = stat, \n .     position = position, show.legend = show.legend, inherit.aes = inherit.aes, \n .     params = list2(na.rm = na.rm, ...))",
            "3. layer(geom = geom, stat = stat, data = data, mapping = mapping, \n .     position = position, params = params, inherit.aes = inherit.aes, \n .     check.aes = check.aes, check.param = check.param, show.legend = show.legend, \n .     layer_class = layer_class)",
            "4. fortify(data)"
          ]
        }
      ]
    },
    {
      "cell_type": "markdown",
      "source": [
        "## Q4 Which states have maximum unrecovered cases till 2021?"
      ],
      "metadata": {
        "id": "dXg6hv3xgGKG"
      }
    },
    {
      "cell_type": "code",
      "source": [
        "india <- st_read('India_State_Boundary.shp')"
      ],
      "metadata": {
        "id": "CWs1dHOlY6rk"
      },
      "execution_count": null,
      "outputs": []
    },
    {
      "cell_type": "code",
      "source": [
        "plot(india)"
      ],
      "metadata": {
        "id": "s8i6m5XUgJgT"
      },
      "execution_count": null,
      "outputs": []
    },
    {
      "cell_type": "code",
      "source": [
        "fortify_shape = fortify(india, region = \"Name\")\n",
        "#fortify_shape=as.data.frame(india)[,0:3]\n",
        "class(fortify_shape)\n",
        "fortify_shape"
      ],
      "metadata": {
        "id": "cuU6MJuMDj_F"
      },
      "execution_count": null,
      "outputs": []
    },
    {
      "cell_type": "code",
      "source": [
        "State_data <- subset(df,select=c(\"State.UT\",\"Un.Recovered.Untraced.Persons..including.previous.years.Untraced.Missing.Persons....Total\"),Year==2021)\n",
        "colnames(State_data)[1] <- \"Name\""
      ],
      "metadata": {
        "id": "QrNHkdkwGHZx"
      },
      "execution_count": 54,
      "outputs": []
    },
    {
      "cell_type": "code",
      "source": [
        "State_data$Name[State_data$Name== \"A & N Islands\"] <- \"Andaman & Nicobar\"\n",
        "State_data$Name[State_data$Name==\"D&N Haveli and Daman and Diu\"] <- \"Daman and Diu and Dadra and Nagar Haveli\"      \n",
        "State_data$Name[State_data$Name==\"Delhi UT\"] <- \"Delhi\"\n",
        "State_data$Name[State_data$Name==\"Chhattisgarh\"] <- \"Chhattishgarh\"\n",
        "State_data$Name[State_data$Name==\"Telangana\"] <- \"Telengana\"\n",
        "State_data$Name[State_data$Name==\"Jammu & Kashmir\"] <- \"Jammu and Kashmir\"\n",
        "State_data$Name[State_data$Name==\"Tamil Nadu\"] <- \"Tamilnadu\"\n",
        "State_data"
      ],
      "metadata": {
        "colab": {
          "base_uri": "https://localhost:8080/",
          "height": 1000
        },
        "id": "98KzeJs7O0tb",
        "outputId": "64ff86fa-8b3c-4af1-81f3-de79c77db533"
      },
      "execution_count": 55,
      "outputs": [
        {
          "output_type": "display_data",
          "data": {
            "text/html": [
              "<table class=\"dataframe\">\n",
              "<caption>A data.frame: 36 × 2</caption>\n",
              "<thead>\n",
              "\t<tr><th></th><th scope=col>Name</th><th scope=col>Un.Recovered.Untraced.Persons..including.previous.years.Untraced.Missing.Persons....Total</th></tr>\n",
              "\t<tr><th></th><th scope=col>&lt;chr&gt;</th><th scope=col>&lt;int&gt;</th></tr>\n",
              "</thead>\n",
              "<tbody>\n",
              "\t<tr><th scope=row>145</th><td>Andhra Pradesh                          </td><td> 6192</td></tr>\n",
              "\t<tr><th scope=row>146</th><td>Arunachal Pradesh                       </td><td>   33</td></tr>\n",
              "\t<tr><th scope=row>147</th><td>Assam                                   </td><td> 1836</td></tr>\n",
              "\t<tr><th scope=row>148</th><td>Bihar                                   </td><td>10579</td></tr>\n",
              "\t<tr><th scope=row>149</th><td>Chhattishgarh                           </td><td>18329</td></tr>\n",
              "\t<tr><th scope=row>150</th><td>Goa                                     </td><td>  870</td></tr>\n",
              "\t<tr><th scope=row>151</th><td>Gujarat                                 </td><td> 8431</td></tr>\n",
              "\t<tr><th scope=row>152</th><td>Haryana                                 </td><td> 8879</td></tr>\n",
              "\t<tr><th scope=row>153</th><td>Himachal Pradesh                        </td><td> 1392</td></tr>\n",
              "\t<tr><th scope=row>154</th><td>Jammu and Kashmir                       </td><td> 3960</td></tr>\n",
              "\t<tr><th scope=row>155</th><td>Jharkhand                               </td><td>  948</td></tr>\n",
              "\t<tr><th scope=row>156</th><td>Karnataka                               </td><td> 8407</td></tr>\n",
              "\t<tr><th scope=row>157</th><td>Kerala                                  </td><td> 1544</td></tr>\n",
              "\t<tr><th scope=row>158</th><td>Madhya Pradesh                          </td><td>48557</td></tr>\n",
              "\t<tr><th scope=row>159</th><td>Maharashtra                             </td><td>39465</td></tr>\n",
              "\t<tr><th scope=row>160</th><td>Manipur                                 </td><td>  101</td></tr>\n",
              "\t<tr><th scope=row>161</th><td>Meghalaya                               </td><td>   78</td></tr>\n",
              "\t<tr><th scope=row>162</th><td>Mizoram                                 </td><td>    1</td></tr>\n",
              "\t<tr><th scope=row>163</th><td>Nagaland                                </td><td>   20</td></tr>\n",
              "\t<tr><th scope=row>164</th><td>Odisha                                  </td><td>23172</td></tr>\n",
              "\t<tr><th scope=row>165</th><td>Punjab                                  </td><td>13041</td></tr>\n",
              "\t<tr><th scope=row>166</th><td>Rajasthan                               </td><td>19383</td></tr>\n",
              "\t<tr><th scope=row>167</th><td>Sikkim                                  </td><td>   88</td></tr>\n",
              "\t<tr><th scope=row>168</th><td>Tamilnadu                               </td><td>14957</td></tr>\n",
              "\t<tr><th scope=row>169</th><td>Telengana                               </td><td> 3917</td></tr>\n",
              "\t<tr><th scope=row>170</th><td>Tripura                                 </td><td>  512</td></tr>\n",
              "\t<tr><th scope=row>171</th><td>Uttar Pradesh                           </td><td>13763</td></tr>\n",
              "\t<tr><th scope=row>172</th><td>Uttarakhand                             </td><td> 3488</td></tr>\n",
              "\t<tr><th scope=row>173</th><td>West Bengal                             </td><td>53655</td></tr>\n",
              "\t<tr><th scope=row>174</th><td><span style=white-space:pre-wrap>Andaman &amp; Nicobar                       </span></td><td><span style=white-space:pre-wrap>  251</span></td></tr>\n",
              "\t<tr><th scope=row>175</th><td>Chandigarh                              </td><td> 2185</td></tr>\n",
              "\t<tr><th scope=row>176</th><td>Daman and Diu and Dadra and Nagar Haveli</td><td>  108</td></tr>\n",
              "\t<tr><th scope=row>177</th><td>Delhi                                   </td><td>34226</td></tr>\n",
              "\t<tr><th scope=row>178</th><td>Ladakh                                  </td><td>   71</td></tr>\n",
              "\t<tr><th scope=row>179</th><td>Lakshadweep                             </td><td>    0</td></tr>\n",
              "\t<tr><th scope=row>180</th><td>Puducherry                              </td><td>   41</td></tr>\n",
              "</tbody>\n",
              "</table>\n"
            ],
            "text/markdown": "\nA data.frame: 36 × 2\n\n| <!--/--> | Name &lt;chr&gt; | Un.Recovered.Untraced.Persons..including.previous.years.Untraced.Missing.Persons....Total &lt;int&gt; |\n|---|---|---|\n| 145 | Andhra Pradesh                           |  6192 |\n| 146 | Arunachal Pradesh                        |    33 |\n| 147 | Assam                                    |  1836 |\n| 148 | Bihar                                    | 10579 |\n| 149 | Chhattishgarh                            | 18329 |\n| 150 | Goa                                      |   870 |\n| 151 | Gujarat                                  |  8431 |\n| 152 | Haryana                                  |  8879 |\n| 153 | Himachal Pradesh                         |  1392 |\n| 154 | Jammu and Kashmir                        |  3960 |\n| 155 | Jharkhand                                |   948 |\n| 156 | Karnataka                                |  8407 |\n| 157 | Kerala                                   |  1544 |\n| 158 | Madhya Pradesh                           | 48557 |\n| 159 | Maharashtra                              | 39465 |\n| 160 | Manipur                                  |   101 |\n| 161 | Meghalaya                                |    78 |\n| 162 | Mizoram                                  |     1 |\n| 163 | Nagaland                                 |    20 |\n| 164 | Odisha                                   | 23172 |\n| 165 | Punjab                                   | 13041 |\n| 166 | Rajasthan                                | 19383 |\n| 167 | Sikkim                                   |    88 |\n| 168 | Tamilnadu                                | 14957 |\n| 169 | Telengana                                |  3917 |\n| 170 | Tripura                                  |   512 |\n| 171 | Uttar Pradesh                            | 13763 |\n| 172 | Uttarakhand                              |  3488 |\n| 173 | West Bengal                              | 53655 |\n| 174 | Andaman &amp; Nicobar                        |   251 |\n| 175 | Chandigarh                               |  2185 |\n| 176 | Daman and Diu and Dadra and Nagar Haveli |   108 |\n| 177 | Delhi                                    | 34226 |\n| 178 | Ladakh                                   |    71 |\n| 179 | Lakshadweep                              |     0 |\n| 180 | Puducherry                               |    41 |\n\n",
            "text/latex": "A data.frame: 36 × 2\n\\begin{tabular}{r|ll}\n  & Name & Un.Recovered.Untraced.Persons..including.previous.years.Untraced.Missing.Persons....Total\\\\\n  & <chr> & <int>\\\\\n\\hline\n\t145 & Andhra Pradesh                           &  6192\\\\\n\t146 & Arunachal Pradesh                        &    33\\\\\n\t147 & Assam                                    &  1836\\\\\n\t148 & Bihar                                    & 10579\\\\\n\t149 & Chhattishgarh                            & 18329\\\\\n\t150 & Goa                                      &   870\\\\\n\t151 & Gujarat                                  &  8431\\\\\n\t152 & Haryana                                  &  8879\\\\\n\t153 & Himachal Pradesh                         &  1392\\\\\n\t154 & Jammu and Kashmir                        &  3960\\\\\n\t155 & Jharkhand                                &   948\\\\\n\t156 & Karnataka                                &  8407\\\\\n\t157 & Kerala                                   &  1544\\\\\n\t158 & Madhya Pradesh                           & 48557\\\\\n\t159 & Maharashtra                              & 39465\\\\\n\t160 & Manipur                                  &   101\\\\\n\t161 & Meghalaya                                &    78\\\\\n\t162 & Mizoram                                  &     1\\\\\n\t163 & Nagaland                                 &    20\\\\\n\t164 & Odisha                                   & 23172\\\\\n\t165 & Punjab                                   & 13041\\\\\n\t166 & Rajasthan                                & 19383\\\\\n\t167 & Sikkim                                   &    88\\\\\n\t168 & Tamilnadu                                & 14957\\\\\n\t169 & Telengana                                &  3917\\\\\n\t170 & Tripura                                  &   512\\\\\n\t171 & Uttar Pradesh                            & 13763\\\\\n\t172 & Uttarakhand                              &  3488\\\\\n\t173 & West Bengal                              & 53655\\\\\n\t174 & Andaman \\& Nicobar                        &   251\\\\\n\t175 & Chandigarh                               &  2185\\\\\n\t176 & Daman and Diu and Dadra and Nagar Haveli &   108\\\\\n\t177 & Delhi                                    & 34226\\\\\n\t178 & Ladakh                                   &    71\\\\\n\t179 & Lakshadweep                              &     0\\\\\n\t180 & Puducherry                               &    41\\\\\n\\end{tabular}\n",
            "text/plain": [
              "    Name                                    \n",
              "145 Andhra Pradesh                          \n",
              "146 Arunachal Pradesh                       \n",
              "147 Assam                                   \n",
              "148 Bihar                                   \n",
              "149 Chhattishgarh                           \n",
              "150 Goa                                     \n",
              "151 Gujarat                                 \n",
              "152 Haryana                                 \n",
              "153 Himachal Pradesh                        \n",
              "154 Jammu and Kashmir                       \n",
              "155 Jharkhand                               \n",
              "156 Karnataka                               \n",
              "157 Kerala                                  \n",
              "158 Madhya Pradesh                          \n",
              "159 Maharashtra                             \n",
              "160 Manipur                                 \n",
              "161 Meghalaya                               \n",
              "162 Mizoram                                 \n",
              "163 Nagaland                                \n",
              "164 Odisha                                  \n",
              "165 Punjab                                  \n",
              "166 Rajasthan                               \n",
              "167 Sikkim                                  \n",
              "168 Tamilnadu                               \n",
              "169 Telengana                               \n",
              "170 Tripura                                 \n",
              "171 Uttar Pradesh                           \n",
              "172 Uttarakhand                             \n",
              "173 West Bengal                             \n",
              "174 Andaman & Nicobar                       \n",
              "175 Chandigarh                              \n",
              "176 Daman and Diu and Dadra and Nagar Haveli\n",
              "177 Delhi                                   \n",
              "178 Ladakh                                  \n",
              "179 Lakshadweep                             \n",
              "180 Puducherry                              \n",
              "    Un.Recovered.Untraced.Persons..including.previous.years.Untraced.Missing.Persons....Total\n",
              "145  6192                                                                                    \n",
              "146    33                                                                                    \n",
              "147  1836                                                                                    \n",
              "148 10579                                                                                    \n",
              "149 18329                                                                                    \n",
              "150   870                                                                                    \n",
              "151  8431                                                                                    \n",
              "152  8879                                                                                    \n",
              "153  1392                                                                                    \n",
              "154  3960                                                                                    \n",
              "155   948                                                                                    \n",
              "156  8407                                                                                    \n",
              "157  1544                                                                                    \n",
              "158 48557                                                                                    \n",
              "159 39465                                                                                    \n",
              "160   101                                                                                    \n",
              "161    78                                                                                    \n",
              "162     1                                                                                    \n",
              "163    20                                                                                    \n",
              "164 23172                                                                                    \n",
              "165 13041                                                                                    \n",
              "166 19383                                                                                    \n",
              "167    88                                                                                    \n",
              "168 14957                                                                                    \n",
              "169  3917                                                                                    \n",
              "170   512                                                                                    \n",
              "171 13763                                                                                    \n",
              "172  3488                                                                                    \n",
              "173 53655                                                                                    \n",
              "174   251                                                                                    \n",
              "175  2185                                                                                    \n",
              "176   108                                                                                    \n",
              "177 34226                                                                                    \n",
              "178    71                                                                                    \n",
              "179     0                                                                                    \n",
              "180    41                                                                                    "
            ]
          },
          "metadata": {}
        }
      ]
    },
    {
      "cell_type": "code",
      "source": [
        "Merged_data = merge(fortify_shape,State_data, by=\"Name\")\n",
        "Merged_data"
      ],
      "metadata": {
        "colab": {
          "base_uri": "https://localhost:8080/",
          "height": 131
        },
        "id": "cVvflGiSF_bL",
        "outputId": "0f5b7d88-1492-450f-bc39-abb79cd7f4c5"
      },
      "execution_count": 56,
      "outputs": [
        {
          "output_type": "error",
          "ename": "ERROR",
          "evalue": "ignored",
          "traceback": [
            "Error in merge(fortify_shape, State_data, by = \"Name\"): object 'fortify_shape' not found\nTraceback:\n",
            "1. merge(fortify_shape, State_data, by = \"Name\")"
          ]
        }
      ]
    },
    {
      "cell_type": "code",
      "source": [
        "ggplot() +\n",
        "  geom_sf(data=Merged_data,\n",
        "           \taes(fill = Un.Recovered.Untraced.Persons..including.previous.years.Untraced.Missing.Persons....Total),\n",
        "      \t     color = \"black\") + guides(fill=guide_legend(title=\"Total unrecovered \\ncases till 2021\")) +  \n",
        "\t\t\t\t\t\t\t \tscale_fill_distiller(palette=\"Set3\")\n",
        "\t\t\t\t\t\t\t\t \t#scale_fill_continuous(limits=c(0, 60000), breaks=seq(0,60000,by=5000))\n",
        "ggsave(\"Total unrecovered cases till 2021.png\",dpi = 300, width = 10, height = 10, units = \"cm\")"
      ],
      "metadata": {
        "colab": {
          "base_uri": "https://localhost:8080/",
          "height": 287
        },
        "id": "HighKowNgJmT",
        "outputId": "33206848-4807-48ef-bdc3-9ac86a715527"
      },
      "execution_count": 57,
      "outputs": [
        {
          "output_type": "error",
          "ename": "ERROR",
          "evalue": "ignored",
          "traceback": [
            "Error in fortify(data): object 'Merged_data' not found\nTraceback:\n",
            "1. geom_sf(data = Merged_data, aes(fill = Un.Recovered.Untraced.Persons..including.previous.years.Untraced.Missing.Persons....Total), \n .     color = \"black\")",
            "2. layer_sf(geom = GeomSf, data = data, mapping = mapping, stat = stat, \n .     position = position, show.legend = show.legend, inherit.aes = inherit.aes, \n .     params = list2(na.rm = na.rm, ...))",
            "3. layer(geom = geom, stat = stat, data = data, mapping = mapping, \n .     position = position, params = params, inherit.aes = inherit.aes, \n .     check.aes = check.aes, check.param = check.param, show.legend = show.legend, \n .     layer_class = layer_class)",
            "4. fortify(data)"
          ]
        }
      ]
    },
    {
      "cell_type": "markdown",
      "source": [
        "## Q5 What are the Year-wise and State-wise missing cases, unrecovered and recovery patterns for transgenders?"
      ],
      "metadata": {
        "id": "KhMuqBE6lv4w"
      }
    },
    {
      "cell_type": "markdown",
      "source": [
        "### Year-wise"
      ],
      "metadata": {
        "id": "ETZtb3rrT-Qt"
      }
    },
    {
      "cell_type": "code",
      "source": [
        "trans_year <- subset(df,select=c(\"Persons.Missing.this.year...Trans\",\"Total.Recovered.Traced.this.year...Trans\",\"Un.Recovered.Untraced.Persons..including.previous.years.Untraced.Missing.Persons....Trans\",\"Year\"))\n",
        "trans_year"
      ],
      "metadata": {
        "id": "776x86lrDkJk",
        "colab": {
          "base_uri": "https://localhost:8080/",
          "height": 1000
        },
        "outputId": "aecfd56a-dcc4-4e13-f851-6f3756a2a9c9"
      },
      "execution_count": 58,
      "outputs": [
        {
          "output_type": "display_data",
          "data": {
            "text/html": [
              "<table class=\"dataframe\">\n",
              "<caption>A data.frame: 180 × 4</caption>\n",
              "<thead>\n",
              "\t<tr><th></th><th scope=col>Persons.Missing.this.year...Trans</th><th scope=col>Total.Recovered.Traced.this.year...Trans</th><th scope=col>Un.Recovered.Untraced.Persons..including.previous.years.Untraced.Missing.Persons....Trans</th><th scope=col>Year</th></tr>\n",
              "\t<tr><th></th><th scope=col>&lt;int&gt;</th><th scope=col>&lt;int&gt;</th><th scope=col>&lt;int&gt;</th><th scope=col>&lt;int&gt;</th></tr>\n",
              "</thead>\n",
              "<tbody>\n",
              "\t<tr><th scope=row>1</th><td>  7</td><td>  7</td><td>  5</td><td>2017</td></tr>\n",
              "\t<tr><th scope=row>2</th><td>  0</td><td>  0</td><td>  0</td><td>2017</td></tr>\n",
              "\t<tr><th scope=row>3</th><td>  0</td><td>  0</td><td>  0</td><td>2017</td></tr>\n",
              "\t<tr><th scope=row>4</th><td>146</td><td>104</td><td>128</td><td>2017</td></tr>\n",
              "\t<tr><th scope=row>5</th><td>  0</td><td>  0</td><td>  0</td><td>2017</td></tr>\n",
              "\t<tr><th scope=row>6</th><td>  0</td><td>  0</td><td>  0</td><td>2017</td></tr>\n",
              "\t<tr><th scope=row>7</th><td>  1</td><td>  1</td><td>  0</td><td>2017</td></tr>\n",
              "\t<tr><th scope=row>8</th><td>  0</td><td>  0</td><td>  0</td><td>2017</td></tr>\n",
              "\t<tr><th scope=row>9</th><td>  0</td><td>  0</td><td>  0</td><td>2017</td></tr>\n",
              "\t<tr><th scope=row>10</th><td>  0</td><td>  0</td><td>  0</td><td>2017</td></tr>\n",
              "\t<tr><th scope=row>11</th><td>  0</td><td>  0</td><td>  0</td><td>2017</td></tr>\n",
              "\t<tr><th scope=row>12</th><td>  0</td><td>  0</td><td>  0</td><td>2017</td></tr>\n",
              "\t<tr><th scope=row>13</th><td>  8</td><td>  8</td><td>  0</td><td>2017</td></tr>\n",
              "\t<tr><th scope=row>14</th><td>  0</td><td>  0</td><td>  0</td><td>2017</td></tr>\n",
              "\t<tr><th scope=row>15</th><td>254</td><td>225</td><td> 29</td><td>2017</td></tr>\n",
              "\t<tr><th scope=row>16</th><td>  0</td><td>  0</td><td>  0</td><td>2017</td></tr>\n",
              "\t<tr><th scope=row>17</th><td>  0</td><td>  0</td><td>  0</td><td>2017</td></tr>\n",
              "\t<tr><th scope=row>18</th><td>  0</td><td>  0</td><td>  0</td><td>2017</td></tr>\n",
              "\t<tr><th scope=row>19</th><td>  0</td><td>  0</td><td>  0</td><td>2017</td></tr>\n",
              "\t<tr><th scope=row>20</th><td>  0</td><td>  0</td><td>  0</td><td>2017</td></tr>\n",
              "\t<tr><th scope=row>21</th><td>  0</td><td>  0</td><td>  0</td><td>2017</td></tr>\n",
              "\t<tr><th scope=row>22</th><td>  0</td><td>  0</td><td>  0</td><td>2017</td></tr>\n",
              "\t<tr><th scope=row>23</th><td>  0</td><td>  0</td><td>  0</td><td>2017</td></tr>\n",
              "\t<tr><th scope=row>24</th><td>  1</td><td>  1</td><td>  0</td><td>2017</td></tr>\n",
              "\t<tr><th scope=row>25</th><td>  0</td><td>  0</td><td>  0</td><td>2017</td></tr>\n",
              "\t<tr><th scope=row>26</th><td>  0</td><td>  0</td><td>  0</td><td>2017</td></tr>\n",
              "\t<tr><th scope=row>27</th><td>  0</td><td>  0</td><td>  0</td><td>2017</td></tr>\n",
              "\t<tr><th scope=row>28</th><td>  0</td><td>  0</td><td>  0</td><td>2017</td></tr>\n",
              "\t<tr><th scope=row>29</th><td>  0</td><td>  0</td><td>  0</td><td>2017</td></tr>\n",
              "\t<tr><th scope=row>30</th><td>  0</td><td>  0</td><td>  0</td><td>2017</td></tr>\n",
              "\t<tr><th scope=row>⋮</th><td>⋮</td><td>⋮</td><td>⋮</td><td>⋮</td></tr>\n",
              "\t<tr><th scope=row>151</th><td>15</td><td>15</td><td>0</td><td>2021</td></tr>\n",
              "\t<tr><th scope=row>152</th><td> 3</td><td> 0</td><td>3</td><td>2021</td></tr>\n",
              "\t<tr><th scope=row>153</th><td> 0</td><td> 0</td><td>0</td><td>2021</td></tr>\n",
              "\t<tr><th scope=row>154</th><td> 0</td><td> 0</td><td>0</td><td>2021</td></tr>\n",
              "\t<tr><th scope=row>155</th><td> 0</td><td> 0</td><td>0</td><td>2021</td></tr>\n",
              "\t<tr><th scope=row>156</th><td> 0</td><td> 0</td><td>0</td><td>2021</td></tr>\n",
              "\t<tr><th scope=row>157</th><td>51</td><td>51</td><td>0</td><td>2021</td></tr>\n",
              "\t<tr><th scope=row>158</th><td> 0</td><td> 0</td><td>0</td><td>2021</td></tr>\n",
              "\t<tr><th scope=row>159</th><td>28</td><td>21</td><td>8</td><td>2021</td></tr>\n",
              "\t<tr><th scope=row>160</th><td> 0</td><td> 0</td><td>0</td><td>2021</td></tr>\n",
              "\t<tr><th scope=row>161</th><td> 0</td><td> 0</td><td>0</td><td>2021</td></tr>\n",
              "\t<tr><th scope=row>162</th><td> 0</td><td> 0</td><td>0</td><td>2021</td></tr>\n",
              "\t<tr><th scope=row>163</th><td> 0</td><td> 0</td><td>0</td><td>2021</td></tr>\n",
              "\t<tr><th scope=row>164</th><td> 0</td><td> 0</td><td>0</td><td>2021</td></tr>\n",
              "\t<tr><th scope=row>165</th><td> 0</td><td> 0</td><td>0</td><td>2021</td></tr>\n",
              "\t<tr><th scope=row>166</th><td> 0</td><td> 0</td><td>0</td><td>2021</td></tr>\n",
              "\t<tr><th scope=row>167</th><td> 0</td><td> 0</td><td>0</td><td>2021</td></tr>\n",
              "\t<tr><th scope=row>168</th><td> 3</td><td> 2</td><td>3</td><td>2021</td></tr>\n",
              "\t<tr><th scope=row>169</th><td> 0</td><td> 0</td><td>0</td><td>2021</td></tr>\n",
              "\t<tr><th scope=row>170</th><td> 0</td><td> 0</td><td>0</td><td>2021</td></tr>\n",
              "\t<tr><th scope=row>171</th><td> 0</td><td> 0</td><td>0</td><td>2021</td></tr>\n",
              "\t<tr><th scope=row>172</th><td> 0</td><td> 0</td><td>0</td><td>2021</td></tr>\n",
              "\t<tr><th scope=row>173</th><td> 1</td><td> 1</td><td>0</td><td>2021</td></tr>\n",
              "\t<tr><th scope=row>174</th><td> 0</td><td> 0</td><td>0</td><td>2021</td></tr>\n",
              "\t<tr><th scope=row>175</th><td> 0</td><td> 0</td><td>0</td><td>2021</td></tr>\n",
              "\t<tr><th scope=row>176</th><td> 0</td><td> 0</td><td>0</td><td>2021</td></tr>\n",
              "\t<tr><th scope=row>177</th><td> 0</td><td> 0</td><td>0</td><td>2021</td></tr>\n",
              "\t<tr><th scope=row>178</th><td> 0</td><td> 0</td><td>0</td><td>2021</td></tr>\n",
              "\t<tr><th scope=row>179</th><td> 0</td><td> 0</td><td>0</td><td>2021</td></tr>\n",
              "\t<tr><th scope=row>180</th><td> 0</td><td> 0</td><td>0</td><td>2021</td></tr>\n",
              "</tbody>\n",
              "</table>\n"
            ],
            "text/markdown": "\nA data.frame: 180 × 4\n\n| <!--/--> | Persons.Missing.this.year...Trans &lt;int&gt; | Total.Recovered.Traced.this.year...Trans &lt;int&gt; | Un.Recovered.Untraced.Persons..including.previous.years.Untraced.Missing.Persons....Trans &lt;int&gt; | Year &lt;int&gt; |\n|---|---|---|---|---|\n| 1 |   7 |   7 |   5 | 2017 |\n| 2 |   0 |   0 |   0 | 2017 |\n| 3 |   0 |   0 |   0 | 2017 |\n| 4 | 146 | 104 | 128 | 2017 |\n| 5 |   0 |   0 |   0 | 2017 |\n| 6 |   0 |   0 |   0 | 2017 |\n| 7 |   1 |   1 |   0 | 2017 |\n| 8 |   0 |   0 |   0 | 2017 |\n| 9 |   0 |   0 |   0 | 2017 |\n| 10 |   0 |   0 |   0 | 2017 |\n| 11 |   0 |   0 |   0 | 2017 |\n| 12 |   0 |   0 |   0 | 2017 |\n| 13 |   8 |   8 |   0 | 2017 |\n| 14 |   0 |   0 |   0 | 2017 |\n| 15 | 254 | 225 |  29 | 2017 |\n| 16 |   0 |   0 |   0 | 2017 |\n| 17 |   0 |   0 |   0 | 2017 |\n| 18 |   0 |   0 |   0 | 2017 |\n| 19 |   0 |   0 |   0 | 2017 |\n| 20 |   0 |   0 |   0 | 2017 |\n| 21 |   0 |   0 |   0 | 2017 |\n| 22 |   0 |   0 |   0 | 2017 |\n| 23 |   0 |   0 |   0 | 2017 |\n| 24 |   1 |   1 |   0 | 2017 |\n| 25 |   0 |   0 |   0 | 2017 |\n| 26 |   0 |   0 |   0 | 2017 |\n| 27 |   0 |   0 |   0 | 2017 |\n| 28 |   0 |   0 |   0 | 2017 |\n| 29 |   0 |   0 |   0 | 2017 |\n| 30 |   0 |   0 |   0 | 2017 |\n| ⋮ | ⋮ | ⋮ | ⋮ | ⋮ |\n| 151 | 15 | 15 | 0 | 2021 |\n| 152 |  3 |  0 | 3 | 2021 |\n| 153 |  0 |  0 | 0 | 2021 |\n| 154 |  0 |  0 | 0 | 2021 |\n| 155 |  0 |  0 | 0 | 2021 |\n| 156 |  0 |  0 | 0 | 2021 |\n| 157 | 51 | 51 | 0 | 2021 |\n| 158 |  0 |  0 | 0 | 2021 |\n| 159 | 28 | 21 | 8 | 2021 |\n| 160 |  0 |  0 | 0 | 2021 |\n| 161 |  0 |  0 | 0 | 2021 |\n| 162 |  0 |  0 | 0 | 2021 |\n| 163 |  0 |  0 | 0 | 2021 |\n| 164 |  0 |  0 | 0 | 2021 |\n| 165 |  0 |  0 | 0 | 2021 |\n| 166 |  0 |  0 | 0 | 2021 |\n| 167 |  0 |  0 | 0 | 2021 |\n| 168 |  3 |  2 | 3 | 2021 |\n| 169 |  0 |  0 | 0 | 2021 |\n| 170 |  0 |  0 | 0 | 2021 |\n| 171 |  0 |  0 | 0 | 2021 |\n| 172 |  0 |  0 | 0 | 2021 |\n| 173 |  1 |  1 | 0 | 2021 |\n| 174 |  0 |  0 | 0 | 2021 |\n| 175 |  0 |  0 | 0 | 2021 |\n| 176 |  0 |  0 | 0 | 2021 |\n| 177 |  0 |  0 | 0 | 2021 |\n| 178 |  0 |  0 | 0 | 2021 |\n| 179 |  0 |  0 | 0 | 2021 |\n| 180 |  0 |  0 | 0 | 2021 |\n\n",
            "text/latex": "A data.frame: 180 × 4\n\\begin{tabular}{r|llll}\n  & Persons.Missing.this.year...Trans & Total.Recovered.Traced.this.year...Trans & Un.Recovered.Untraced.Persons..including.previous.years.Untraced.Missing.Persons....Trans & Year\\\\\n  & <int> & <int> & <int> & <int>\\\\\n\\hline\n\t1 &   7 &   7 &   5 & 2017\\\\\n\t2 &   0 &   0 &   0 & 2017\\\\\n\t3 &   0 &   0 &   0 & 2017\\\\\n\t4 & 146 & 104 & 128 & 2017\\\\\n\t5 &   0 &   0 &   0 & 2017\\\\\n\t6 &   0 &   0 &   0 & 2017\\\\\n\t7 &   1 &   1 &   0 & 2017\\\\\n\t8 &   0 &   0 &   0 & 2017\\\\\n\t9 &   0 &   0 &   0 & 2017\\\\\n\t10 &   0 &   0 &   0 & 2017\\\\\n\t11 &   0 &   0 &   0 & 2017\\\\\n\t12 &   0 &   0 &   0 & 2017\\\\\n\t13 &   8 &   8 &   0 & 2017\\\\\n\t14 &   0 &   0 &   0 & 2017\\\\\n\t15 & 254 & 225 &  29 & 2017\\\\\n\t16 &   0 &   0 &   0 & 2017\\\\\n\t17 &   0 &   0 &   0 & 2017\\\\\n\t18 &   0 &   0 &   0 & 2017\\\\\n\t19 &   0 &   0 &   0 & 2017\\\\\n\t20 &   0 &   0 &   0 & 2017\\\\\n\t21 &   0 &   0 &   0 & 2017\\\\\n\t22 &   0 &   0 &   0 & 2017\\\\\n\t23 &   0 &   0 &   0 & 2017\\\\\n\t24 &   1 &   1 &   0 & 2017\\\\\n\t25 &   0 &   0 &   0 & 2017\\\\\n\t26 &   0 &   0 &   0 & 2017\\\\\n\t27 &   0 &   0 &   0 & 2017\\\\\n\t28 &   0 &   0 &   0 & 2017\\\\\n\t29 &   0 &   0 &   0 & 2017\\\\\n\t30 &   0 &   0 &   0 & 2017\\\\\n\t⋮ & ⋮ & ⋮ & ⋮ & ⋮\\\\\n\t151 & 15 & 15 & 0 & 2021\\\\\n\t152 &  3 &  0 & 3 & 2021\\\\\n\t153 &  0 &  0 & 0 & 2021\\\\\n\t154 &  0 &  0 & 0 & 2021\\\\\n\t155 &  0 &  0 & 0 & 2021\\\\\n\t156 &  0 &  0 & 0 & 2021\\\\\n\t157 & 51 & 51 & 0 & 2021\\\\\n\t158 &  0 &  0 & 0 & 2021\\\\\n\t159 & 28 & 21 & 8 & 2021\\\\\n\t160 &  0 &  0 & 0 & 2021\\\\\n\t161 &  0 &  0 & 0 & 2021\\\\\n\t162 &  0 &  0 & 0 & 2021\\\\\n\t163 &  0 &  0 & 0 & 2021\\\\\n\t164 &  0 &  0 & 0 & 2021\\\\\n\t165 &  0 &  0 & 0 & 2021\\\\\n\t166 &  0 &  0 & 0 & 2021\\\\\n\t167 &  0 &  0 & 0 & 2021\\\\\n\t168 &  3 &  2 & 3 & 2021\\\\\n\t169 &  0 &  0 & 0 & 2021\\\\\n\t170 &  0 &  0 & 0 & 2021\\\\\n\t171 &  0 &  0 & 0 & 2021\\\\\n\t172 &  0 &  0 & 0 & 2021\\\\\n\t173 &  1 &  1 & 0 & 2021\\\\\n\t174 &  0 &  0 & 0 & 2021\\\\\n\t175 &  0 &  0 & 0 & 2021\\\\\n\t176 &  0 &  0 & 0 & 2021\\\\\n\t177 &  0 &  0 & 0 & 2021\\\\\n\t178 &  0 &  0 & 0 & 2021\\\\\n\t179 &  0 &  0 & 0 & 2021\\\\\n\t180 &  0 &  0 & 0 & 2021\\\\\n\\end{tabular}\n",
            "text/plain": [
              "    Persons.Missing.this.year...Trans Total.Recovered.Traced.this.year...Trans\n",
              "1     7                                 7                                     \n",
              "2     0                                 0                                     \n",
              "3     0                                 0                                     \n",
              "4   146                               104                                     \n",
              "5     0                                 0                                     \n",
              "6     0                                 0                                     \n",
              "7     1                                 1                                     \n",
              "8     0                                 0                                     \n",
              "9     0                                 0                                     \n",
              "10    0                                 0                                     \n",
              "11    0                                 0                                     \n",
              "12    0                                 0                                     \n",
              "13    8                                 8                                     \n",
              "14    0                                 0                                     \n",
              "15  254                               225                                     \n",
              "16    0                                 0                                     \n",
              "17    0                                 0                                     \n",
              "18    0                                 0                                     \n",
              "19    0                                 0                                     \n",
              "20    0                                 0                                     \n",
              "21    0                                 0                                     \n",
              "22    0                                 0                                     \n",
              "23    0                                 0                                     \n",
              "24    1                                 1                                     \n",
              "25    0                                 0                                     \n",
              "26    0                                 0                                     \n",
              "27    0                                 0                                     \n",
              "28    0                                 0                                     \n",
              "29    0                                 0                                     \n",
              "30    0                                 0                                     \n",
              "⋮   ⋮                                 ⋮                                       \n",
              "151 15                                15                                      \n",
              "152  3                                 0                                      \n",
              "153  0                                 0                                      \n",
              "154  0                                 0                                      \n",
              "155  0                                 0                                      \n",
              "156  0                                 0                                      \n",
              "157 51                                51                                      \n",
              "158  0                                 0                                      \n",
              "159 28                                21                                      \n",
              "160  0                                 0                                      \n",
              "161  0                                 0                                      \n",
              "162  0                                 0                                      \n",
              "163  0                                 0                                      \n",
              "164  0                                 0                                      \n",
              "165  0                                 0                                      \n",
              "166  0                                 0                                      \n",
              "167  0                                 0                                      \n",
              "168  3                                 2                                      \n",
              "169  0                                 0                                      \n",
              "170  0                                 0                                      \n",
              "171  0                                 0                                      \n",
              "172  0                                 0                                      \n",
              "173  1                                 1                                      \n",
              "174  0                                 0                                      \n",
              "175  0                                 0                                      \n",
              "176  0                                 0                                      \n",
              "177  0                                 0                                      \n",
              "178  0                                 0                                      \n",
              "179  0                                 0                                      \n",
              "180  0                                 0                                      \n",
              "    Un.Recovered.Untraced.Persons..including.previous.years.Untraced.Missing.Persons....Trans\n",
              "1     5                                                                                      \n",
              "2     0                                                                                      \n",
              "3     0                                                                                      \n",
              "4   128                                                                                      \n",
              "5     0                                                                                      \n",
              "6     0                                                                                      \n",
              "7     0                                                                                      \n",
              "8     0                                                                                      \n",
              "9     0                                                                                      \n",
              "10    0                                                                                      \n",
              "11    0                                                                                      \n",
              "12    0                                                                                      \n",
              "13    0                                                                                      \n",
              "14    0                                                                                      \n",
              "15   29                                                                                      \n",
              "16    0                                                                                      \n",
              "17    0                                                                                      \n",
              "18    0                                                                                      \n",
              "19    0                                                                                      \n",
              "20    0                                                                                      \n",
              "21    0                                                                                      \n",
              "22    0                                                                                      \n",
              "23    0                                                                                      \n",
              "24    0                                                                                      \n",
              "25    0                                                                                      \n",
              "26    0                                                                                      \n",
              "27    0                                                                                      \n",
              "28    0                                                                                      \n",
              "29    0                                                                                      \n",
              "30    0                                                                                      \n",
              "⋮   ⋮                                                                                        \n",
              "151 0                                                                                        \n",
              "152 3                                                                                        \n",
              "153 0                                                                                        \n",
              "154 0                                                                                        \n",
              "155 0                                                                                        \n",
              "156 0                                                                                        \n",
              "157 0                                                                                        \n",
              "158 0                                                                                        \n",
              "159 8                                                                                        \n",
              "160 0                                                                                        \n",
              "161 0                                                                                        \n",
              "162 0                                                                                        \n",
              "163 0                                                                                        \n",
              "164 0                                                                                        \n",
              "165 0                                                                                        \n",
              "166 0                                                                                        \n",
              "167 0                                                                                        \n",
              "168 3                                                                                        \n",
              "169 0                                                                                        \n",
              "170 0                                                                                        \n",
              "171 0                                                                                        \n",
              "172 0                                                                                        \n",
              "173 0                                                                                        \n",
              "174 0                                                                                        \n",
              "175 0                                                                                        \n",
              "176 0                                                                                        \n",
              "177 0                                                                                        \n",
              "178 0                                                                                        \n",
              "179 0                                                                                        \n",
              "180 0                                                                                        \n",
              "    Year\n",
              "1   2017\n",
              "2   2017\n",
              "3   2017\n",
              "4   2017\n",
              "5   2017\n",
              "6   2017\n",
              "7   2017\n",
              "8   2017\n",
              "9   2017\n",
              "10  2017\n",
              "11  2017\n",
              "12  2017\n",
              "13  2017\n",
              "14  2017\n",
              "15  2017\n",
              "16  2017\n",
              "17  2017\n",
              "18  2017\n",
              "19  2017\n",
              "20  2017\n",
              "21  2017\n",
              "22  2017\n",
              "23  2017\n",
              "24  2017\n",
              "25  2017\n",
              "26  2017\n",
              "27  2017\n",
              "28  2017\n",
              "29  2017\n",
              "30  2017\n",
              "⋮   ⋮   \n",
              "151 2021\n",
              "152 2021\n",
              "153 2021\n",
              "154 2021\n",
              "155 2021\n",
              "156 2021\n",
              "157 2021\n",
              "158 2021\n",
              "159 2021\n",
              "160 2021\n",
              "161 2021\n",
              "162 2021\n",
              "163 2021\n",
              "164 2021\n",
              "165 2021\n",
              "166 2021\n",
              "167 2021\n",
              "168 2021\n",
              "169 2021\n",
              "170 2021\n",
              "171 2021\n",
              "172 2021\n",
              "173 2021\n",
              "174 2021\n",
              "175 2021\n",
              "176 2021\n",
              "177 2021\n",
              "178 2021\n",
              "179 2021\n",
              "180 2021"
            ]
          },
          "metadata": {}
        }
      ]
    },
    {
      "cell_type": "code",
      "source": [
        "trans_grp_year = trans_year %>% group_by(Year)  %>%\n",
        "                    summarise(total_missing_trans = sum(Persons.Missing.this.year...Trans),\n",
        "                              total_recovered_trans = sum(Total.Recovered.Traced.this.year...Trans),\n",
        "                              total_unrecovered_trans = sum(Un.Recovered.Untraced.Persons..including.previous.years.Untraced.Missing.Persons....Trans),\n",
        "                              .groups = 'drop')\n",
        "trans_grp_year"
      ],
      "metadata": {
        "id": "pWdG6KZBDkMt",
        "colab": {
          "base_uri": "https://localhost:8080/",
          "height": 255
        },
        "outputId": "178b9a53-3c72-439e-a827-0934e5191274"
      },
      "execution_count": 59,
      "outputs": [
        {
          "output_type": "display_data",
          "data": {
            "text/html": [
              "<table class=\"dataframe\">\n",
              "<caption>A tibble: 5 × 4</caption>\n",
              "<thead>\n",
              "\t<tr><th scope=col>Year</th><th scope=col>total_missing_trans</th><th scope=col>total_recovered_trans</th><th scope=col>total_unrecovered_trans</th></tr>\n",
              "\t<tr><th scope=col>&lt;int&gt;</th><th scope=col>&lt;int&gt;</th><th scope=col>&lt;int&gt;</th><th scope=col>&lt;int&gt;</th></tr>\n",
              "</thead>\n",
              "<tbody>\n",
              "\t<tr><td>2017</td><td>418</td><td>346</td><td>163</td></tr>\n",
              "\t<tr><td>2018</td><td>564</td><td>518</td><td> 81</td></tr>\n",
              "\t<tr><td>2019</td><td> 40</td><td>101</td><td> 20</td></tr>\n",
              "\t<tr><td>2020</td><td> 27</td><td>142</td><td>  5</td></tr>\n",
              "\t<tr><td>2021</td><td>186</td><td>130</td><td> 60</td></tr>\n",
              "</tbody>\n",
              "</table>\n"
            ],
            "text/markdown": "\nA tibble: 5 × 4\n\n| Year &lt;int&gt; | total_missing_trans &lt;int&gt; | total_recovered_trans &lt;int&gt; | total_unrecovered_trans &lt;int&gt; |\n|---|---|---|---|\n| 2017 | 418 | 346 | 163 |\n| 2018 | 564 | 518 |  81 |\n| 2019 |  40 | 101 |  20 |\n| 2020 |  27 | 142 |   5 |\n| 2021 | 186 | 130 |  60 |\n\n",
            "text/latex": "A tibble: 5 × 4\n\\begin{tabular}{llll}\n Year & total\\_missing\\_trans & total\\_recovered\\_trans & total\\_unrecovered\\_trans\\\\\n <int> & <int> & <int> & <int>\\\\\n\\hline\n\t 2017 & 418 & 346 & 163\\\\\n\t 2018 & 564 & 518 &  81\\\\\n\t 2019 &  40 & 101 &  20\\\\\n\t 2020 &  27 & 142 &   5\\\\\n\t 2021 & 186 & 130 &  60\\\\\n\\end{tabular}\n",
            "text/plain": [
              "  Year total_missing_trans total_recovered_trans total_unrecovered_trans\n",
              "1 2017 418                 346                   163                    \n",
              "2 2018 564                 518                    81                    \n",
              "3 2019  40                 101                    20                    \n",
              "4 2020  27                 142                     5                    \n",
              "5 2021 186                 130                    60                    "
            ]
          },
          "metadata": {}
        }
      ]
    },
    {
      "cell_type": "code",
      "source": [
        "p<-ggplot(trans_grp_year, aes(x=Year)) +\n",
        "  geom_line(aes(y=total_missing_trans,color=\"blue\"))+\n",
        "  geom_point(aes(y=total_missing_trans,color=\"blue\")) +\n",
        "  geom_line(aes(y=total_recovered_trans,color=\"green\")) +\n",
        "  geom_point(aes(y=total_recovered_trans,color=\"green\")) +\n",
        "  geom_line(aes(y=total_unrecovered_trans,color=\"red\")) +\n",
        "  geom_point(aes(y=total_unrecovered_trans,color=\"red\")) +\n",
        "  labs(x=\"Year\",y=\"Number of cases\") +\n",
        "  scale_y_continuous(labels = function(x) format(x, scientific=FALSE)) +\n",
        "  scale_color_manual(labels = c(\"Missing\", \"Recovered\",\"Unrecovered\"), values = c(\"blue\",\"green\",\"red\"),name=\"Type of case\")\n",
        "p"
      ],
      "metadata": {
        "id": "Z6E_Fm6fDkPO",
        "colab": {
          "base_uri": "https://localhost:8080/",
          "height": 437
        },
        "outputId": "f9d5a529-f0ba-4dc1-932d-b6f70eb96735"
      },
      "execution_count": 60,
      "outputs": [
        {
          "output_type": "display_data",
          "data": {
            "text/plain": [
              "plot without title"
            ],
            "image/png": "[encoded data removed]"
          },
          "metadata": {
            "image/png": {
              "width": 420,
              "height": 420
            }
          }
        }
      ]
    },
    {
      "cell_type": "markdown",
      "source": [
        "### State-wise"
      ],
      "metadata": {
        "id": "i7-HCNDjalLX"
      }
    },
    {
      "cell_type": "code",
      "source": [
        "trans_state <- subset(df,select=c(\"Persons.Missing.this.year...Trans\",\"State.UT\"))\n",
        "trans_state"
      ],
      "metadata": {
        "id": "kY1xtYYrDkSw",
        "colab": {
          "base_uri": "https://localhost:8080/",
          "height": 1000
        },
        "outputId": "af6bc7a3-8fed-4323-cc19-830b68480b16"
      },
      "execution_count": 61,
      "outputs": [
        {
          "output_type": "display_data",
          "data": {
            "text/html": [
              "<table class=\"dataframe\">\n",
              "<caption>A data.frame: 180 × 2</caption>\n",
              "<thead>\n",
              "\t<tr><th></th><th scope=col>Persons.Missing.this.year...Trans</th><th scope=col>State.UT</th></tr>\n",
              "\t<tr><th></th><th scope=col>&lt;int&gt;</th><th scope=col>&lt;chr&gt;</th></tr>\n",
              "</thead>\n",
              "<tbody>\n",
              "\t<tr><th scope=row>1</th><td>  7</td><td>Andhra Pradesh   </td></tr>\n",
              "\t<tr><th scope=row>2</th><td>  0</td><td>Arunachal Pradesh</td></tr>\n",
              "\t<tr><th scope=row>3</th><td>  0</td><td>Assam            </td></tr>\n",
              "\t<tr><th scope=row>4</th><td>146</td><td>Bihar            </td></tr>\n",
              "\t<tr><th scope=row>5</th><td>  0</td><td>Chhattisgarh     </td></tr>\n",
              "\t<tr><th scope=row>6</th><td>  0</td><td>Goa              </td></tr>\n",
              "\t<tr><th scope=row>7</th><td>  1</td><td>Gujarat          </td></tr>\n",
              "\t<tr><th scope=row>8</th><td>  0</td><td>Haryana          </td></tr>\n",
              "\t<tr><th scope=row>9</th><td>  0</td><td>Himachal Pradesh </td></tr>\n",
              "\t<tr><th scope=row>10</th><td><span style=white-space:pre-wrap>  0</span></td><td><span style=white-space:pre-wrap>Jammu &amp; Kashmir  </span></td></tr>\n",
              "\t<tr><th scope=row>11</th><td>  0</td><td>Jharkhand        </td></tr>\n",
              "\t<tr><th scope=row>12</th><td>  0</td><td>Karnataka        </td></tr>\n",
              "\t<tr><th scope=row>13</th><td>  8</td><td>Kerala           </td></tr>\n",
              "\t<tr><th scope=row>14</th><td>  0</td><td>Madhya Pradesh   </td></tr>\n",
              "\t<tr><th scope=row>15</th><td>254</td><td>Maharashtra      </td></tr>\n",
              "\t<tr><th scope=row>16</th><td>  0</td><td>Manipur          </td></tr>\n",
              "\t<tr><th scope=row>17</th><td>  0</td><td>Meghalaya        </td></tr>\n",
              "\t<tr><th scope=row>18</th><td>  0</td><td>Mizoram          </td></tr>\n",
              "\t<tr><th scope=row>19</th><td>  0</td><td>Nagaland         </td></tr>\n",
              "\t<tr><th scope=row>20</th><td>  0</td><td>Odisha           </td></tr>\n",
              "\t<tr><th scope=row>21</th><td>  0</td><td>Punjab           </td></tr>\n",
              "\t<tr><th scope=row>22</th><td>  0</td><td>Rajasthan        </td></tr>\n",
              "\t<tr><th scope=row>23</th><td>  0</td><td>Sikkim           </td></tr>\n",
              "\t<tr><th scope=row>24</th><td>  1</td><td>Tamil Nadu       </td></tr>\n",
              "\t<tr><th scope=row>25</th><td>  0</td><td>Telangana        </td></tr>\n",
              "\t<tr><th scope=row>26</th><td>  0</td><td>Tripura          </td></tr>\n",
              "\t<tr><th scope=row>27</th><td>  0</td><td>Uttar Pradesh    </td></tr>\n",
              "\t<tr><th scope=row>28</th><td>  0</td><td>Uttarakhand      </td></tr>\n",
              "\t<tr><th scope=row>29</th><td>  0</td><td>West Bengal      </td></tr>\n",
              "\t<tr><th scope=row>30</th><td><span style=white-space:pre-wrap>  0</span></td><td><span style=white-space:pre-wrap>A &amp; N Islands    </span></td></tr>\n",
              "\t<tr><th scope=row>⋮</th><td>⋮</td><td>⋮</td></tr>\n",
              "\t<tr><th scope=row>151</th><td>15</td><td>Gujarat                     </td></tr>\n",
              "\t<tr><th scope=row>152</th><td> 3</td><td>Haryana                     </td></tr>\n",
              "\t<tr><th scope=row>153</th><td> 0</td><td>Himachal Pradesh            </td></tr>\n",
              "\t<tr><th scope=row>154</th><td> 0</td><td><span style=white-space:pre-wrap>Jammu &amp; Kashmir             </span></td></tr>\n",
              "\t<tr><th scope=row>155</th><td> 0</td><td>Jharkhand                   </td></tr>\n",
              "\t<tr><th scope=row>156</th><td> 0</td><td>Karnataka                   </td></tr>\n",
              "\t<tr><th scope=row>157</th><td>51</td><td>Kerala                      </td></tr>\n",
              "\t<tr><th scope=row>158</th><td> 0</td><td>Madhya Pradesh              </td></tr>\n",
              "\t<tr><th scope=row>159</th><td>28</td><td>Maharashtra                 </td></tr>\n",
              "\t<tr><th scope=row>160</th><td> 0</td><td>Manipur                     </td></tr>\n",
              "\t<tr><th scope=row>161</th><td> 0</td><td>Meghalaya                   </td></tr>\n",
              "\t<tr><th scope=row>162</th><td> 0</td><td>Mizoram                     </td></tr>\n",
              "\t<tr><th scope=row>163</th><td> 0</td><td>Nagaland                    </td></tr>\n",
              "\t<tr><th scope=row>164</th><td> 0</td><td>Odisha                      </td></tr>\n",
              "\t<tr><th scope=row>165</th><td> 0</td><td>Punjab                      </td></tr>\n",
              "\t<tr><th scope=row>166</th><td> 0</td><td>Rajasthan                   </td></tr>\n",
              "\t<tr><th scope=row>167</th><td> 0</td><td>Sikkim                      </td></tr>\n",
              "\t<tr><th scope=row>168</th><td> 3</td><td>Tamil Nadu                  </td></tr>\n",
              "\t<tr><th scope=row>169</th><td> 0</td><td>Telangana                   </td></tr>\n",
              "\t<tr><th scope=row>170</th><td> 0</td><td>Tripura                     </td></tr>\n",
              "\t<tr><th scope=row>171</th><td> 0</td><td>Uttar Pradesh               </td></tr>\n",
              "\t<tr><th scope=row>172</th><td> 0</td><td>Uttarakhand                 </td></tr>\n",
              "\t<tr><th scope=row>173</th><td> 1</td><td>West Bengal                 </td></tr>\n",
              "\t<tr><th scope=row>174</th><td> 0</td><td><span style=white-space:pre-wrap>A &amp; N Islands               </span></td></tr>\n",
              "\t<tr><th scope=row>175</th><td> 0</td><td>Chandigarh                  </td></tr>\n",
              "\t<tr><th scope=row>176</th><td> 0</td><td>D&amp;N Haveli and Daman and Diu</td></tr>\n",
              "\t<tr><th scope=row>177</th><td> 0</td><td>Delhi UT                    </td></tr>\n",
              "\t<tr><th scope=row>178</th><td> 0</td><td>Ladakh                      </td></tr>\n",
              "\t<tr><th scope=row>179</th><td> 0</td><td>Lakshadweep                 </td></tr>\n",
              "\t<tr><th scope=row>180</th><td> 0</td><td>Puducherry                  </td></tr>\n",
              "</tbody>\n",
              "</table>\n"
            ],
            "text/markdown": "\nA data.frame: 180 × 2\n\n| <!--/--> | Persons.Missing.this.year...Trans &lt;int&gt; | State.UT &lt;chr&gt; |\n|---|---|---|\n| 1 |   7 | Andhra Pradesh    |\n| 2 |   0 | Arunachal Pradesh |\n| 3 |   0 | Assam             |\n| 4 | 146 | Bihar             |\n| 5 |   0 | Chhattisgarh      |\n| 6 |   0 | Goa               |\n| 7 |   1 | Gujarat           |\n| 8 |   0 | Haryana           |\n| 9 |   0 | Himachal Pradesh  |\n| 10 |   0 | Jammu &amp; Kashmir   |\n| 11 |   0 | Jharkhand         |\n| 12 |   0 | Karnataka         |\n| 13 |   8 | Kerala            |\n| 14 |   0 | Madhya Pradesh    |\n| 15 | 254 | Maharashtra       |\n| 16 |   0 | Manipur           |\n| 17 |   0 | Meghalaya         |\n| 18 |   0 | Mizoram           |\n| 19 |   0 | Nagaland          |\n| 20 |   0 | Odisha            |\n| 21 |   0 | Punjab            |\n| 22 |   0 | Rajasthan         |\n| 23 |   0 | Sikkim            |\n| 24 |   1 | Tamil Nadu        |\n| 25 |   0 | Telangana         |\n| 26 |   0 | Tripura           |\n| 27 |   0 | Uttar Pradesh     |\n| 28 |   0 | Uttarakhand       |\n| 29 |   0 | West Bengal       |\n| 30 |   0 | A &amp; N Islands     |\n| ⋮ | ⋮ | ⋮ |\n| 151 | 15 | Gujarat                      |\n| 152 |  3 | Haryana                      |\n| 153 |  0 | Himachal Pradesh             |\n| 154 |  0 | Jammu &amp; Kashmir              |\n| 155 |  0 | Jharkhand                    |\n| 156 |  0 | Karnataka                    |\n| 157 | 51 | Kerala                       |\n| 158 |  0 | Madhya Pradesh               |\n| 159 | 28 | Maharashtra                  |\n| 160 |  0 | Manipur                      |\n| 161 |  0 | Meghalaya                    |\n| 162 |  0 | Mizoram                      |\n| 163 |  0 | Nagaland                     |\n| 164 |  0 | Odisha                       |\n| 165 |  0 | Punjab                       |\n| 166 |  0 | Rajasthan                    |\n| 167 |  0 | Sikkim                       |\n| 168 |  3 | Tamil Nadu                   |\n| 169 |  0 | Telangana                    |\n| 170 |  0 | Tripura                      |\n| 171 |  0 | Uttar Pradesh                |\n| 172 |  0 | Uttarakhand                  |\n| 173 |  1 | West Bengal                  |\n| 174 |  0 | A &amp; N Islands                |\n| 175 |  0 | Chandigarh                   |\n| 176 |  0 | D&amp;N Haveli and Daman and Diu |\n| 177 |  0 | Delhi UT                     |\n| 178 |  0 | Ladakh                       |\n| 179 |  0 | Lakshadweep                  |\n| 180 |  0 | Puducherry                   |\n\n",
            "text/latex": "A data.frame: 180 × 2\n\\begin{tabular}{r|ll}\n  & Persons.Missing.this.year...Trans & State.UT\\\\\n  & <int> & <chr>\\\\\n\\hline\n\t1 &   7 & Andhra Pradesh   \\\\\n\t2 &   0 & Arunachal Pradesh\\\\\n\t3 &   0 & Assam            \\\\\n\t4 & 146 & Bihar            \\\\\n\t5 &   0 & Chhattisgarh     \\\\\n\t6 &   0 & Goa              \\\\\n\t7 &   1 & Gujarat          \\\\\n\t8 &   0 & Haryana          \\\\\n\t9 &   0 & Himachal Pradesh \\\\\n\t10 &   0 & Jammu \\& Kashmir  \\\\\n\t11 &   0 & Jharkhand        \\\\\n\t12 &   0 & Karnataka        \\\\\n\t13 &   8 & Kerala           \\\\\n\t14 &   0 & Madhya Pradesh   \\\\\n\t15 & 254 & Maharashtra      \\\\\n\t16 &   0 & Manipur          \\\\\n\t17 &   0 & Meghalaya        \\\\\n\t18 &   0 & Mizoram          \\\\\n\t19 &   0 & Nagaland         \\\\\n\t20 &   0 & Odisha           \\\\\n\t21 &   0 & Punjab           \\\\\n\t22 &   0 & Rajasthan        \\\\\n\t23 &   0 & Sikkim           \\\\\n\t24 &   1 & Tamil Nadu       \\\\\n\t25 &   0 & Telangana        \\\\\n\t26 &   0 & Tripura          \\\\\n\t27 &   0 & Uttar Pradesh    \\\\\n\t28 &   0 & Uttarakhand      \\\\\n\t29 &   0 & West Bengal      \\\\\n\t30 &   0 & A \\& N Islands    \\\\\n\t⋮ & ⋮ & ⋮\\\\\n\t151 & 15 & Gujarat                     \\\\\n\t152 &  3 & Haryana                     \\\\\n\t153 &  0 & Himachal Pradesh            \\\\\n\t154 &  0 & Jammu \\& Kashmir             \\\\\n\t155 &  0 & Jharkhand                   \\\\\n\t156 &  0 & Karnataka                   \\\\\n\t157 & 51 & Kerala                      \\\\\n\t158 &  0 & Madhya Pradesh              \\\\\n\t159 & 28 & Maharashtra                 \\\\\n\t160 &  0 & Manipur                     \\\\\n\t161 &  0 & Meghalaya                   \\\\\n\t162 &  0 & Mizoram                     \\\\\n\t163 &  0 & Nagaland                    \\\\\n\t164 &  0 & Odisha                      \\\\\n\t165 &  0 & Punjab                      \\\\\n\t166 &  0 & Rajasthan                   \\\\\n\t167 &  0 & Sikkim                      \\\\\n\t168 &  3 & Tamil Nadu                  \\\\\n\t169 &  0 & Telangana                   \\\\\n\t170 &  0 & Tripura                     \\\\\n\t171 &  0 & Uttar Pradesh               \\\\\n\t172 &  0 & Uttarakhand                 \\\\\n\t173 &  1 & West Bengal                 \\\\\n\t174 &  0 & A \\& N Islands               \\\\\n\t175 &  0 & Chandigarh                  \\\\\n\t176 &  0 & D\\&N Haveli and Daman and Diu\\\\\n\t177 &  0 & Delhi UT                    \\\\\n\t178 &  0 & Ladakh                      \\\\\n\t179 &  0 & Lakshadweep                 \\\\\n\t180 &  0 & Puducherry                  \\\\\n\\end{tabular}\n",
            "text/plain": [
              "    Persons.Missing.this.year...Trans State.UT                    \n",
              "1     7                               Andhra Pradesh              \n",
              "2     0                               Arunachal Pradesh           \n",
              "3     0                               Assam                       \n",
              "4   146                               Bihar                       \n",
              "5     0                               Chhattisgarh                \n",
              "6     0                               Goa                         \n",
              "7     1                               Gujarat                     \n",
              "8     0                               Haryana                     \n",
              "9     0                               Himachal Pradesh            \n",
              "10    0                               Jammu & Kashmir             \n",
              "11    0                               Jharkhand                   \n",
              "12    0                               Karnataka                   \n",
              "13    8                               Kerala                      \n",
              "14    0                               Madhya Pradesh              \n",
              "15  254                               Maharashtra                 \n",
              "16    0                               Manipur                     \n",
              "17    0                               Meghalaya                   \n",
              "18    0                               Mizoram                     \n",
              "19    0                               Nagaland                    \n",
              "20    0                               Odisha                      \n",
              "21    0                               Punjab                      \n",
              "22    0                               Rajasthan                   \n",
              "23    0                               Sikkim                      \n",
              "24    1                               Tamil Nadu                  \n",
              "25    0                               Telangana                   \n",
              "26    0                               Tripura                     \n",
              "27    0                               Uttar Pradesh               \n",
              "28    0                               Uttarakhand                 \n",
              "29    0                               West Bengal                 \n",
              "30    0                               A & N Islands               \n",
              "⋮   ⋮                                 ⋮                           \n",
              "151 15                                Gujarat                     \n",
              "152  3                                Haryana                     \n",
              "153  0                                Himachal Pradesh            \n",
              "154  0                                Jammu & Kashmir             \n",
              "155  0                                Jharkhand                   \n",
              "156  0                                Karnataka                   \n",
              "157 51                                Kerala                      \n",
              "158  0                                Madhya Pradesh              \n",
              "159 28                                Maharashtra                 \n",
              "160  0                                Manipur                     \n",
              "161  0                                Meghalaya                   \n",
              "162  0                                Mizoram                     \n",
              "163  0                                Nagaland                    \n",
              "164  0                                Odisha                      \n",
              "165  0                                Punjab                      \n",
              "166  0                                Rajasthan                   \n",
              "167  0                                Sikkim                      \n",
              "168  3                                Tamil Nadu                  \n",
              "169  0                                Telangana                   \n",
              "170  0                                Tripura                     \n",
              "171  0                                Uttar Pradesh               \n",
              "172  0                                Uttarakhand                 \n",
              "173  1                                West Bengal                 \n",
              "174  0                                A & N Islands               \n",
              "175  0                                Chandigarh                  \n",
              "176  0                                D&N Haveli and Daman and Diu\n",
              "177  0                                Delhi UT                    \n",
              "178  0                                Ladakh                      \n",
              "179  0                                Lakshadweep                 \n",
              "180  0                                Puducherry                  "
            ]
          },
          "metadata": {}
        }
      ]
    },
    {
      "cell_type": "code",
      "source": [
        "trans_grp_state = trans_state %>% group_by(State.UT)  %>%\n",
        "                    summarise(total_missing_trans = sum(Persons.Missing.this.year...Trans),\n",
        "                              .groups = 'drop')\n",
        "trans_grp_state"
      ],
      "metadata": {
        "id": "4iBGXsexDkWP",
        "colab": {
          "base_uri": "https://localhost:8080/",
          "height": 1000
        },
        "outputId": "18588ad2-5367-4a7c-d1dd-020cbc00dfa0"
      },
      "execution_count": 62,
      "outputs": [
        {
          "output_type": "display_data",
          "data": {
            "text/html": [
              "<table class=\"dataframe\">\n",
              "<caption>A tibble: 38 × 2</caption>\n",
              "<thead>\n",
              "\t<tr><th scope=col>State.UT</th><th scope=col>total_missing_trans</th></tr>\n",
              "\t<tr><th scope=col>&lt;chr&gt;</th><th scope=col>&lt;int&gt;</th></tr>\n",
              "</thead>\n",
              "<tbody>\n",
              "\t<tr><td><span style=white-space:pre-wrap>A &amp; N Islands               </span></td><td><span style=white-space:pre-wrap>  0</span></td></tr>\n",
              "\t<tr><td>Andhra Pradesh              </td><td>514</td></tr>\n",
              "\t<tr><td>Arunachal Pradesh           </td><td>  0</td></tr>\n",
              "\t<tr><td>Assam                       </td><td> 20</td></tr>\n",
              "\t<tr><td>Bihar                       </td><td>221</td></tr>\n",
              "\t<tr><td>Chandigarh                  </td><td>  1</td></tr>\n",
              "\t<tr><td>Chhattisgarh                </td><td>  0</td></tr>\n",
              "\t<tr><td><span style=white-space:pre-wrap>D&amp;N Haveli                  </span></td><td><span style=white-space:pre-wrap>  0</span></td></tr>\n",
              "\t<tr><td>D&amp;N Haveli and Daman and Diu</td><td><span style=white-space:pre-wrap>  0</span></td></tr>\n",
              "\t<tr><td><span style=white-space:pre-wrap>Daman &amp; Diu                 </span></td><td><span style=white-space:pre-wrap>  0</span></td></tr>\n",
              "\t<tr><td>Delhi UT                    </td><td>  3</td></tr>\n",
              "\t<tr><td>Goa                         </td><td>  0</td></tr>\n",
              "\t<tr><td>Gujarat                     </td><td> 39</td></tr>\n",
              "\t<tr><td>Haryana                     </td><td>  3</td></tr>\n",
              "\t<tr><td>Himachal Pradesh            </td><td>  0</td></tr>\n",
              "\t<tr><td><span style=white-space:pre-wrap>Jammu &amp; Kashmir             </span></td><td><span style=white-space:pre-wrap>  0</span></td></tr>\n",
              "\t<tr><td>Jharkhand                   </td><td>  4</td></tr>\n",
              "\t<tr><td>Karnataka                   </td><td>  7</td></tr>\n",
              "\t<tr><td>Kerala                      </td><td>122</td></tr>\n",
              "\t<tr><td>Ladakh                      </td><td>  0</td></tr>\n",
              "\t<tr><td>Lakshadweep                 </td><td>  0</td></tr>\n",
              "\t<tr><td>Madhya Pradesh              </td><td>  3</td></tr>\n",
              "\t<tr><td>Maharashtra                 </td><td>283</td></tr>\n",
              "\t<tr><td>Manipur                     </td><td>  0</td></tr>\n",
              "\t<tr><td>Meghalaya                   </td><td>  0</td></tr>\n",
              "\t<tr><td>Mizoram                     </td><td>  0</td></tr>\n",
              "\t<tr><td>Nagaland                    </td><td>  0</td></tr>\n",
              "\t<tr><td>Odisha                      </td><td>  0</td></tr>\n",
              "\t<tr><td>Puducherry                  </td><td>  0</td></tr>\n",
              "\t<tr><td>Punjab                      </td><td>  0</td></tr>\n",
              "\t<tr><td>Rajasthan                   </td><td>  3</td></tr>\n",
              "\t<tr><td>Sikkim                      </td><td>  0</td></tr>\n",
              "\t<tr><td>Tamil Nadu                  </td><td>  9</td></tr>\n",
              "\t<tr><td>Telangana                   </td><td>  2</td></tr>\n",
              "\t<tr><td>Tripura                     </td><td>  0</td></tr>\n",
              "\t<tr><td>Uttar Pradesh               </td><td>  0</td></tr>\n",
              "\t<tr><td>Uttarakhand                 </td><td>  0</td></tr>\n",
              "\t<tr><td>West Bengal                 </td><td>  1</td></tr>\n",
              "</tbody>\n",
              "</table>\n"
            ],
            "text/markdown": "\nA tibble: 38 × 2\n\n| State.UT &lt;chr&gt; | total_missing_trans &lt;int&gt; |\n|---|---|\n| A &amp; N Islands                |   0 |\n| Andhra Pradesh               | 514 |\n| Arunachal Pradesh            |   0 |\n| Assam                        |  20 |\n| Bihar                        | 221 |\n| Chandigarh                   |   1 |\n| Chhattisgarh                 |   0 |\n| D&amp;N Haveli                   |   0 |\n| D&amp;N Haveli and Daman and Diu |   0 |\n| Daman &amp; Diu                  |   0 |\n| Delhi UT                     |   3 |\n| Goa                          |   0 |\n| Gujarat                      |  39 |\n| Haryana                      |   3 |\n| Himachal Pradesh             |   0 |\n| Jammu &amp; Kashmir              |   0 |\n| Jharkhand                    |   4 |\n| Karnataka                    |   7 |\n| Kerala                       | 122 |\n| Ladakh                       |   0 |\n| Lakshadweep                  |   0 |\n| Madhya Pradesh               |   3 |\n| Maharashtra                  | 283 |\n| Manipur                      |   0 |\n| Meghalaya                    |   0 |\n| Mizoram                      |   0 |\n| Nagaland                     |   0 |\n| Odisha                       |   0 |\n| Puducherry                   |   0 |\n| Punjab                       |   0 |\n| Rajasthan                    |   3 |\n| Sikkim                       |   0 |\n| Tamil Nadu                   |   9 |\n| Telangana                    |   2 |\n| Tripura                      |   0 |\n| Uttar Pradesh                |   0 |\n| Uttarakhand                  |   0 |\n| West Bengal                  |   1 |\n\n",
            "text/latex": "A tibble: 38 × 2\n\\begin{tabular}{ll}\n State.UT & total\\_missing\\_trans\\\\\n <chr> & <int>\\\\\n\\hline\n\t A \\& N Islands                &   0\\\\\n\t Andhra Pradesh               & 514\\\\\n\t Arunachal Pradesh            &   0\\\\\n\t Assam                        &  20\\\\\n\t Bihar                        & 221\\\\\n\t Chandigarh                   &   1\\\\\n\t Chhattisgarh                 &   0\\\\\n\t D\\&N Haveli                   &   0\\\\\n\t D\\&N Haveli and Daman and Diu &   0\\\\\n\t Daman \\& Diu                  &   0\\\\\n\t Delhi UT                     &   3\\\\\n\t Goa                          &   0\\\\\n\t Gujarat                      &  39\\\\\n\t Haryana                      &   3\\\\\n\t Himachal Pradesh             &   0\\\\\n\t Jammu \\& Kashmir              &   0\\\\\n\t Jharkhand                    &   4\\\\\n\t Karnataka                    &   7\\\\\n\t Kerala                       & 122\\\\\n\t Ladakh                       &   0\\\\\n\t Lakshadweep                  &   0\\\\\n\t Madhya Pradesh               &   3\\\\\n\t Maharashtra                  & 283\\\\\n\t Manipur                      &   0\\\\\n\t Meghalaya                    &   0\\\\\n\t Mizoram                      &   0\\\\\n\t Nagaland                     &   0\\\\\n\t Odisha                       &   0\\\\\n\t Puducherry                   &   0\\\\\n\t Punjab                       &   0\\\\\n\t Rajasthan                    &   3\\\\\n\t Sikkim                       &   0\\\\\n\t Tamil Nadu                   &   9\\\\\n\t Telangana                    &   2\\\\\n\t Tripura                      &   0\\\\\n\t Uttar Pradesh                &   0\\\\\n\t Uttarakhand                  &   0\\\\\n\t West Bengal                  &   1\\\\\n\\end{tabular}\n",
            "text/plain": [
              "   State.UT                     total_missing_trans\n",
              "1  A & N Islands                  0                \n",
              "2  Andhra Pradesh               514                \n",
              "3  Arunachal Pradesh              0                \n",
              "4  Assam                         20                \n",
              "5  Bihar                        221                \n",
              "6  Chandigarh                     1                \n",
              "7  Chhattisgarh                   0                \n",
              "8  D&N Haveli                     0                \n",
              "9  D&N Haveli and Daman and Diu   0                \n",
              "10 Daman & Diu                    0                \n",
              "11 Delhi UT                       3                \n",
              "12 Goa                            0                \n",
              "13 Gujarat                       39                \n",
              "14 Haryana                        3                \n",
              "15 Himachal Pradesh               0                \n",
              "16 Jammu & Kashmir                0                \n",
              "17 Jharkhand                      4                \n",
              "18 Karnataka                      7                \n",
              "19 Kerala                       122                \n",
              "20 Ladakh                         0                \n",
              "21 Lakshadweep                    0                \n",
              "22 Madhya Pradesh                 3                \n",
              "23 Maharashtra                  283                \n",
              "24 Manipur                        0                \n",
              "25 Meghalaya                      0                \n",
              "26 Mizoram                        0                \n",
              "27 Nagaland                       0                \n",
              "28 Odisha                         0                \n",
              "29 Puducherry                     0                \n",
              "30 Punjab                         0                \n",
              "31 Rajasthan                      3                \n",
              "32 Sikkim                         0                \n",
              "33 Tamil Nadu                     9                \n",
              "34 Telangana                      2                \n",
              "35 Tripura                        0                \n",
              "36 Uttar Pradesh                  0                \n",
              "37 Uttarakhand                    0                \n",
              "38 West Bengal                    1                "
            ]
          },
          "metadata": {}
        }
      ]
    },
    {
      "cell_type": "code",
      "source": [
        "trans_grp_state <-trans_grp_state[-c(8,9,10),]"
      ],
      "metadata": {
        "id": "lc18esOucN4D"
      },
      "execution_count": 63,
      "outputs": []
    },
    {
      "cell_type": "code",
      "source": [
        "trans_grp_state[nrow(trans_grp_state)+1,] <- list(\"D&N Haveli and Daman and Diu\",0)"
      ],
      "metadata": {
        "id": "4lefZ3J-cdtq"
      },
      "execution_count": 64,
      "outputs": []
    },
    {
      "cell_type": "code",
      "source": [
        "state <- c(\"A & N Islands\",\"Andhra Pradesh\",\"Arunachal Pradesh\",\"Assam\",\"Bihar\",\"Chandigarh\",\"Chhattisgarh\",\"Delhi UT\",\"Goa\",\"Gujarat\",\"Haryana\",\"Himachal Pradesh\",\"Jammu & Kashmir\",\"Jharkhand\",\"Karnataka\",\"Kerala\",\"Ladakh\",\"Lakshadweep\",\"Madhya Pradesh\",\"Maharashtra\",\"Manipur\",\"Meghalaya\",\"Mizoram\",\"Nagaland\",\"Odisha\",\"Puducherry\",\"Punjab\",\"Rajasthan\",\"Sikkim\",\"Tamil Nadu\",\"Telangana\",\"Tripura\",\"Uttar Pradesh\",\"Uttarakhand\",\"West Bengal\",\"D&N Haveli and Daman and Diu\")\n",
        "\n",
        "\n",
        "mx <- t(as.matrix(trans_grp_state[-1]))\n",
        "colnames(mx) <- trans_grp_state$State.UT\n",
        "\n",
        "# Create the bar chart\n",
        "par(mar=c(15, 4,3,1)) # 15 line height for bottom margin\n",
        "#dev.new(width=500,height=500,unit=\"px\")\n",
        "barplot(mx, main = \"State wise missing trans people for all years\", names.arg=state,las=2)   \n"
      ],
      "metadata": {
        "colab": {
          "base_uri": "https://localhost:8080/",
          "height": 437
        },
        "outputId": "c40fd3df-9f19-48ca-d7aa-82e96c3841b6",
        "id": "cG8iLMphbwiY"
      },
      "execution_count": 65,
      "outputs": [
        {
          "output_type": "display_data",
          "data": {
            "text/plain": [
              "Plot with title “State wise missing trans people for all years”"
            ],
            "image/png": "[encoded data removed]"
          },
          "metadata": {
            "image/png": {
              "width": 420,
              "height": 420
            }
          }
        }
      ]
    },
    {
      "cell_type": "code",
      "source": [
        "trans_grp_state2 <- subset(trans_grp_state,select=c(\"State.UT\",\"total_missing_trans\"),total_missing_trans!=0)\n",
        "trans_grp_state2"
      ],
      "metadata": {
        "colab": {
          "base_uri": "https://localhost:8080/",
          "height": 599
        },
        "id": "30457J36bp-W",
        "outputId": "a1b9e595-1f06-4810-dab4-2732d7cb6e4d"
      },
      "execution_count": 66,
      "outputs": [
        {
          "output_type": "display_data",
          "data": {
            "text/html": [
              "<table class=\"dataframe\">\n",
              "<caption>A tibble: 16 × 2</caption>\n",
              "<thead>\n",
              "\t<tr><th scope=col>State.UT</th><th scope=col>total_missing_trans</th></tr>\n",
              "\t<tr><th scope=col>&lt;chr&gt;</th><th scope=col>&lt;int&gt;</th></tr>\n",
              "</thead>\n",
              "<tbody>\n",
              "\t<tr><td>Andhra Pradesh</td><td>514</td></tr>\n",
              "\t<tr><td>Assam         </td><td> 20</td></tr>\n",
              "\t<tr><td>Bihar         </td><td>221</td></tr>\n",
              "\t<tr><td>Chandigarh    </td><td>  1</td></tr>\n",
              "\t<tr><td>Delhi UT      </td><td>  3</td></tr>\n",
              "\t<tr><td>Gujarat       </td><td> 39</td></tr>\n",
              "\t<tr><td>Haryana       </td><td>  3</td></tr>\n",
              "\t<tr><td>Jharkhand     </td><td>  4</td></tr>\n",
              "\t<tr><td>Karnataka     </td><td>  7</td></tr>\n",
              "\t<tr><td>Kerala        </td><td>122</td></tr>\n",
              "\t<tr><td>Madhya Pradesh</td><td>  3</td></tr>\n",
              "\t<tr><td>Maharashtra   </td><td>283</td></tr>\n",
              "\t<tr><td>Rajasthan     </td><td>  3</td></tr>\n",
              "\t<tr><td>Tamil Nadu    </td><td>  9</td></tr>\n",
              "\t<tr><td>Telangana     </td><td>  2</td></tr>\n",
              "\t<tr><td>West Bengal   </td><td>  1</td></tr>\n",
              "</tbody>\n",
              "</table>\n"
            ],
            "text/markdown": "\nA tibble: 16 × 2\n\n| State.UT &lt;chr&gt; | total_missing_trans &lt;int&gt; |\n|---|---|\n| Andhra Pradesh | 514 |\n| Assam          |  20 |\n| Bihar          | 221 |\n| Chandigarh     |   1 |\n| Delhi UT       |   3 |\n| Gujarat        |  39 |\n| Haryana        |   3 |\n| Jharkhand      |   4 |\n| Karnataka      |   7 |\n| Kerala         | 122 |\n| Madhya Pradesh |   3 |\n| Maharashtra    | 283 |\n| Rajasthan      |   3 |\n| Tamil Nadu     |   9 |\n| Telangana      |   2 |\n| West Bengal    |   1 |\n\n",
            "text/latex": "A tibble: 16 × 2\n\\begin{tabular}{ll}\n State.UT & total\\_missing\\_trans\\\\\n <chr> & <int>\\\\\n\\hline\n\t Andhra Pradesh & 514\\\\\n\t Assam          &  20\\\\\n\t Bihar          & 221\\\\\n\t Chandigarh     &   1\\\\\n\t Delhi UT       &   3\\\\\n\t Gujarat        &  39\\\\\n\t Haryana        &   3\\\\\n\t Jharkhand      &   4\\\\\n\t Karnataka      &   7\\\\\n\t Kerala         & 122\\\\\n\t Madhya Pradesh &   3\\\\\n\t Maharashtra    & 283\\\\\n\t Rajasthan      &   3\\\\\n\t Tamil Nadu     &   9\\\\\n\t Telangana      &   2\\\\\n\t West Bengal    &   1\\\\\n\\end{tabular}\n",
            "text/plain": [
              "   State.UT       total_missing_trans\n",
              "1  Andhra Pradesh 514                \n",
              "2  Assam           20                \n",
              "3  Bihar          221                \n",
              "4  Chandigarh       1                \n",
              "5  Delhi UT         3                \n",
              "6  Gujarat         39                \n",
              "7  Haryana          3                \n",
              "8  Jharkhand        4                \n",
              "9  Karnataka        7                \n",
              "10 Kerala         122                \n",
              "11 Madhya Pradesh   3                \n",
              "12 Maharashtra    283                \n",
              "13 Rajasthan        3                \n",
              "14 Tamil Nadu       9                \n",
              "15 Telangana        2                \n",
              "16 West Bengal      1                "
            ]
          },
          "metadata": {}
        }
      ]
    },
    {
      "cell_type": "code",
      "source": [
        "state <- c(\"Andhra Pradesh\",\"Assam\",\"Bihar\",\"Chandigarh\",\"Delhi UT\",\"Gujarat\",\"Haryana\",\"Jharkhand\",\"Karnataka\",\"Kerala\",\"Madhya Pradesh\",\"Maharashtra\",\"Rajasthan\",\"Tamil Nadu\",\"Telangana\",\"West Bengal\")\n",
        "\n",
        "\n",
        "mx <- t(as.matrix(trans_grp_state2[-1]))\n",
        "colnames(mx) <- trans_grp_state2$State.UT\n",
        "\n",
        "# Create the bar chart\n",
        "par(mar=c(15, 4,3,1)) # 15 line height for bottom margin\n",
        "#dev.new(width=500,height=500,unit=\"px\")\n",
        "barplot(mx, main = \"State wise missing trans people for all years\", names.arg=state,las=2)   "
      ],
      "metadata": {
        "colab": {
          "base_uri": "https://localhost:8080/",
          "height": 437
        },
        "id": "aRJQDlQ-dfYY",
        "outputId": "0d2a0f61-ff9d-40cf-9868-33939d6c198b"
      },
      "execution_count": 67,
      "outputs": [
        {
          "output_type": "display_data",
          "data": {
            "text/plain": [
              "Plot with title “State wise missing trans people for all years”"
            ],
            "image/png": "[encoded data removed]"
          },
          "metadata": {
            "image/png": {
              "width": 420,
              "height": 420
            }
          }
        }
      ]
    },
    {
      "cell_type": "code",
      "source": [
        "!sudo apt-get install texlive-xetex texlive-fonts-recommended texlive-plain-generic"
      ],
      "metadata": {
        "colab": {
          "base_uri": "https://localhost:8080/",
          "height": 131
        },
        "id": "yxLVqjQN68Mm",
        "outputId": "7331cb47-f1ef-4c21-e778-45b0e299b1e9"
      },
      "execution_count": 71,
      "outputs": [
        {
          "output_type": "error",
          "ename": "ERROR",
          "evalue": "ignored",
          "traceback": [
            "Error in parse(text = x, srcfile = src): <text>:1:7: unexpected symbol\n1: !sudo apt\n          ^\nTraceback:\n"
          ]
        }
      ]
    },
    {
      "cell_type": "code",
      "source": [
        "!sudo apt update && sudo apt upgrade\n",
        "!sudo apt install inkscape pandoc texlive-xetex texlive-fonts-recommended texlive-generic-recommended"
      ],
      "metadata": {
        "id": "fXt63PqxnGZh"
      },
      "execution_count": null,
      "outputs": []
    },
    {
      "cell_type": "code",
      "source": [
        "!jupyter nbconvert --to pdf '/content/gdrive/MyDrive/Colab Notebooks/DM2_boston_housing.ipynb'"
      ],
      "metadata": {
        "id": "JkjoDk217ioF"
      },
      "execution_count": null,
      "outputs": []
    }
  ]
}